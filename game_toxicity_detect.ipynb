{
  "nbformat": 4,
  "nbformat_minor": 0,
  "metadata": {
    "colab": {
      "name": "2022_S1C_COMP5046_Assignment2_Group6.ipynb",
      "provenance": [],
      "collapsed_sections": [],
      "toc_visible": true
    },
    "kernelspec": {
      "name": "python3",
      "display_name": "Python 3"
    },
    "language_info": {
      "name": "python"
    },
    "accelerator": "GPU"
  },
  "cells": [
    {
      "cell_type": "markdown",
      "source": [
        "# 0. Who we are\n",
        "We are the student of The University of Sydney(USYD) 2022_S1C_COMP5046_Assignment2_Group6\n",
        "\n",
        "Our Unikey and SID are:\n",
        "\n",
        "| Unikey | SID | Email|\n",
        "|--------|-----| -----|\n",
        "|zshi3507|500020645|zshi3507@uni.sydney.edu.au|\n",
        "|ygan7134|500209804| ygan7134@uni.sydney.edu.au|\n",
        "\n"
      ],
      "metadata": {
        "id": "Grbk03jPErdu"
      }
    },
    {
      "cell_type": "markdown",
      "source": [
        "# 1. Data Pre-processing"
      ],
      "metadata": {
        "id": "1QyDK0NWGJ5_"
      }
    },
    {
      "cell_type": "markdown",
      "source": [
        "## 1.1 Package Import"
      ],
      "metadata": {
        "id": "oIPTVPO4HZwl"
      }
    },
    {
      "cell_type": "code",
      "source": [
        "!pip install -U -q PyDrive\n",
        "from pydrive.auth import GoogleAuth\n",
        "from pydrive.drive import GoogleDrive\n",
        "from google.colab import auth\n",
        "from oauth2client.client import GoogleCredentials\n",
        "import pandas as pd\n",
        "\n",
        "\n",
        "import numpy as np\n",
        "import torch\n",
        "import torch.nn as nn\n",
        "import torch.nn.functional as F\n",
        "import math, copy, time\n",
        "from torch.autograd import Variable\n",
        "\n",
        "device = torch.device(\"cuda\" if torch.cuda.is_available() else \"cpu\")\n",
        "\n",
        "from google.colab import drive\n",
        "drive.mount('/content/drive')"
      ],
      "metadata": {
        "id": "P4kxtm6UHgab",
        "colab": {
          "base_uri": "https://localhost:8080/"
        },
        "outputId": "3864090c-1a1f-4c8f-f9ab-50897970f7c1"
      },
      "execution_count": null,
      "outputs": [
        {
          "output_type": "stream",
          "name": "stdout",
          "text": [
            "Drive already mounted at /content/drive; to attempt to forcibly remount, call drive.mount(\"/content/drive\", force_remount=True).\n"
          ]
        }
      ]
    },
    {
      "cell_type": "markdown",
      "source": [
        "## 1.2 Data Import"
      ],
      "metadata": {
        "id": "o8CZpMEBHCWv"
      }
    },
    {
      "cell_type": "code",
      "source": [
        "'''\n",
        "Authentication And Get Google API's Token\n",
        "'''\n",
        "auth.authenticate_user()\n",
        "gauth = GoogleAuth()\n",
        "gauth.credentials = GoogleCredentials.get_application_default()\n",
        "drive = GoogleDrive(gauth)\n",
        "\n",
        "\n",
        "'''\n",
        "Download Data From Google Drive Template\n",
        "\n",
        "id = ''\n",
        "downloaded = drive.CreateFile({'id':id})\n",
        "downloaded.GetContentFile('')\n",
        "'''\n",
        "\n",
        "#Download Traning Dataset\n",
        "id = '1gt-0RVZBKXycx3JNniLuDT-toRbxLAJt'\n",
        "downloaded = drive.CreateFile({'id':id})\n",
        "downloaded.GetContentFile('training.csv')\n",
        "\n",
        "#Download Validation Dataset\n",
        "id = '1GTijLGRvD9ViOjEsFO81pcmgH2Ep-zgB'\n",
        "downloaded = drive.CreateFile({'id':id})\n",
        "downloaded.GetContentFile('val.csv')\n",
        "\n",
        "#Download Testing Dataset\n",
        "id = '1Ww-qNb2B3ew9ntZOt2FLUdX7vaHVb12j'\n",
        "downloaded = drive.CreateFile({'id':id})\n",
        "downloaded.GetContentFile('test_without_labels.csv')\n",
        "\n",
        "#Download Train_intent Dataset\n",
        "id = '1P0yT59WaIsSgGE62i0kBext_d_v4ztIt'\n",
        "downloaded = drive.CreateFile({'id':id})\n",
        "downloaded.GetContentFile('train_intent.csv')\n",
        "\n",
        "#Reading Data From File To Memory\n",
        "training_data = pd.read_csv(\"/content/training.csv\")\n",
        "validation_data = pd.read_csv(\"/content/val.csv\")\n",
        "testing_data = pd.read_csv(\"/content/test_without_labels.csv\")\n",
        "train_intent = pd.read_csv(\"/content/train_intent.csv\")"
      ],
      "metadata": {
        "id": "lsItVr7YHByA"
      },
      "execution_count": null,
      "outputs": []
    },
    {
      "cell_type": "code",
      "source": [
        "#Show What The Data Looks Like In Memory\n",
        "training_data.head()"
      ],
      "metadata": {
        "colab": {
          "base_uri": "https://localhost:8080/",
          "height": 206
        },
        "id": "2MLoe9CdoLyw",
        "outputId": "78f251c9-3ae7-47d7-e57c-487081cd33d4"
      },
      "execution_count": null,
      "outputs": [
        {
          "output_type": "execute_result",
          "data": {
            "text/plain": [
              "     sents labels\n",
              "0      wow      O\n",
              "1      WTF      T\n",
              "2  wpe wpe    O O\n",
              "3   hahaha      O\n",
              "4      wtf      T"
            ],
            "text/html": [
              "\n",
              "  <div id=\"df-f774d46f-9082-4c44-b906-8cfa2eedc644\">\n",
              "    <div class=\"colab-df-container\">\n",
              "      <div>\n",
              "<style scoped>\n",
              "    .dataframe tbody tr th:only-of-type {\n",
              "        vertical-align: middle;\n",
              "    }\n",
              "\n",
              "    .dataframe tbody tr th {\n",
              "        vertical-align: top;\n",
              "    }\n",
              "\n",
              "    .dataframe thead th {\n",
              "        text-align: right;\n",
              "    }\n",
              "</style>\n",
              "<table border=\"1\" class=\"dataframe\">\n",
              "  <thead>\n",
              "    <tr style=\"text-align: right;\">\n",
              "      <th></th>\n",
              "      <th>sents</th>\n",
              "      <th>labels</th>\n",
              "    </tr>\n",
              "  </thead>\n",
              "  <tbody>\n",
              "    <tr>\n",
              "      <th>0</th>\n",
              "      <td>wow</td>\n",
              "      <td>O</td>\n",
              "    </tr>\n",
              "    <tr>\n",
              "      <th>1</th>\n",
              "      <td>WTF</td>\n",
              "      <td>T</td>\n",
              "    </tr>\n",
              "    <tr>\n",
              "      <th>2</th>\n",
              "      <td>wpe wpe</td>\n",
              "      <td>O O</td>\n",
              "    </tr>\n",
              "    <tr>\n",
              "      <th>3</th>\n",
              "      <td>hahaha</td>\n",
              "      <td>O</td>\n",
              "    </tr>\n",
              "    <tr>\n",
              "      <th>4</th>\n",
              "      <td>wtf</td>\n",
              "      <td>T</td>\n",
              "    </tr>\n",
              "  </tbody>\n",
              "</table>\n",
              "</div>\n",
              "      <button class=\"colab-df-convert\" onclick=\"convertToInteractive('df-f774d46f-9082-4c44-b906-8cfa2eedc644')\"\n",
              "              title=\"Convert this dataframe to an interactive table.\"\n",
              "              style=\"display:none;\">\n",
              "        \n",
              "  <svg xmlns=\"http://www.w3.org/2000/svg\" height=\"24px\"viewBox=\"0 0 24 24\"\n",
              "       width=\"24px\">\n",
              "    <path d=\"M0 0h24v24H0V0z\" fill=\"none\"/>\n",
              "    <path d=\"M18.56 5.44l.94 2.06.94-2.06 2.06-.94-2.06-.94-.94-2.06-.94 2.06-2.06.94zm-11 1L8.5 8.5l.94-2.06 2.06-.94-2.06-.94L8.5 2.5l-.94 2.06-2.06.94zm10 10l.94 2.06.94-2.06 2.06-.94-2.06-.94-.94-2.06-.94 2.06-2.06.94z\"/><path d=\"M17.41 7.96l-1.37-1.37c-.4-.4-.92-.59-1.43-.59-.52 0-1.04.2-1.43.59L10.3 9.45l-7.72 7.72c-.78.78-.78 2.05 0 2.83L4 21.41c.39.39.9.59 1.41.59.51 0 1.02-.2 1.41-.59l7.78-7.78 2.81-2.81c.8-.78.8-2.07 0-2.86zM5.41 20L4 18.59l7.72-7.72 1.47 1.35L5.41 20z\"/>\n",
              "  </svg>\n",
              "      </button>\n",
              "      \n",
              "  <style>\n",
              "    .colab-df-container {\n",
              "      display:flex;\n",
              "      flex-wrap:wrap;\n",
              "      gap: 12px;\n",
              "    }\n",
              "\n",
              "    .colab-df-convert {\n",
              "      background-color: #E8F0FE;\n",
              "      border: none;\n",
              "      border-radius: 50%;\n",
              "      cursor: pointer;\n",
              "      display: none;\n",
              "      fill: #1967D2;\n",
              "      height: 32px;\n",
              "      padding: 0 0 0 0;\n",
              "      width: 32px;\n",
              "    }\n",
              "\n",
              "    .colab-df-convert:hover {\n",
              "      background-color: #E2EBFA;\n",
              "      box-shadow: 0px 1px 2px rgba(60, 64, 67, 0.3), 0px 1px 3px 1px rgba(60, 64, 67, 0.15);\n",
              "      fill: #174EA6;\n",
              "    }\n",
              "\n",
              "    [theme=dark] .colab-df-convert {\n",
              "      background-color: #3B4455;\n",
              "      fill: #D2E3FC;\n",
              "    }\n",
              "\n",
              "    [theme=dark] .colab-df-convert:hover {\n",
              "      background-color: #434B5C;\n",
              "      box-shadow: 0px 1px 3px 1px rgba(0, 0, 0, 0.15);\n",
              "      filter: drop-shadow(0px 1px 2px rgba(0, 0, 0, 0.3));\n",
              "      fill: #FFFFFF;\n",
              "    }\n",
              "  </style>\n",
              "\n",
              "      <script>\n",
              "        const buttonEl =\n",
              "          document.querySelector('#df-f774d46f-9082-4c44-b906-8cfa2eedc644 button.colab-df-convert');\n",
              "        buttonEl.style.display =\n",
              "          google.colab.kernel.accessAllowed ? 'block' : 'none';\n",
              "\n",
              "        async function convertToInteractive(key) {\n",
              "          const element = document.querySelector('#df-f774d46f-9082-4c44-b906-8cfa2eedc644');\n",
              "          const dataTable =\n",
              "            await google.colab.kernel.invokeFunction('convertToInteractive',\n",
              "                                                     [key], {});\n",
              "          if (!dataTable) return;\n",
              "\n",
              "          const docLinkHtml = 'Like what you see? Visit the ' +\n",
              "            '<a target=\"_blank\" href=https://colab.research.google.com/notebooks/data_table.ipynb>data table notebook</a>'\n",
              "            + ' to learn more about interactive tables.';\n",
              "          element.innerHTML = '';\n",
              "          dataTable['output_type'] = 'display_data';\n",
              "          await google.colab.output.renderOutput(dataTable, element);\n",
              "          const docLink = document.createElement('div');\n",
              "          docLink.innerHTML = docLinkHtml;\n",
              "          element.appendChild(docLink);\n",
              "        }\n",
              "      </script>\n",
              "    </div>\n",
              "  </div>\n",
              "  "
            ]
          },
          "metadata": {},
          "execution_count": 59
        }
      ]
    },
    {
      "cell_type": "code",
      "source": [
        "#Show What The Data Looks Like In Memory\n",
        "validation_data.head()"
      ],
      "metadata": {
        "colab": {
          "base_uri": "https://localhost:8080/",
          "height": 206
        },
        "id": "jxJ9mkq4oLmd",
        "outputId": "d89a8d7f-fdf9-45ea-c977-be3a0f2c5996"
      },
      "execution_count": null,
      "outputs": [
        {
          "output_type": "execute_result",
          "data": {
            "text/plain": [
              "                      sents        labels\n",
              "0                        GG             S\n",
              "1                        gg             S\n",
              "2  GG [SEPA] nice late game  S SEPA O O O\n",
              "3                       FUK             T\n",
              "4                        ;)             O"
            ],
            "text/html": [
              "\n",
              "  <div id=\"df-6b059878-c9af-4b77-ad06-504f4b1b8a9b\">\n",
              "    <div class=\"colab-df-container\">\n",
              "      <div>\n",
              "<style scoped>\n",
              "    .dataframe tbody tr th:only-of-type {\n",
              "        vertical-align: middle;\n",
              "    }\n",
              "\n",
              "    .dataframe tbody tr th {\n",
              "        vertical-align: top;\n",
              "    }\n",
              "\n",
              "    .dataframe thead th {\n",
              "        text-align: right;\n",
              "    }\n",
              "</style>\n",
              "<table border=\"1\" class=\"dataframe\">\n",
              "  <thead>\n",
              "    <tr style=\"text-align: right;\">\n",
              "      <th></th>\n",
              "      <th>sents</th>\n",
              "      <th>labels</th>\n",
              "    </tr>\n",
              "  </thead>\n",
              "  <tbody>\n",
              "    <tr>\n",
              "      <th>0</th>\n",
              "      <td>GG</td>\n",
              "      <td>S</td>\n",
              "    </tr>\n",
              "    <tr>\n",
              "      <th>1</th>\n",
              "      <td>gg</td>\n",
              "      <td>S</td>\n",
              "    </tr>\n",
              "    <tr>\n",
              "      <th>2</th>\n",
              "      <td>GG [SEPA] nice late game</td>\n",
              "      <td>S SEPA O O O</td>\n",
              "    </tr>\n",
              "    <tr>\n",
              "      <th>3</th>\n",
              "      <td>FUK</td>\n",
              "      <td>T</td>\n",
              "    </tr>\n",
              "    <tr>\n",
              "      <th>4</th>\n",
              "      <td>;)</td>\n",
              "      <td>O</td>\n",
              "    </tr>\n",
              "  </tbody>\n",
              "</table>\n",
              "</div>\n",
              "      <button class=\"colab-df-convert\" onclick=\"convertToInteractive('df-6b059878-c9af-4b77-ad06-504f4b1b8a9b')\"\n",
              "              title=\"Convert this dataframe to an interactive table.\"\n",
              "              style=\"display:none;\">\n",
              "        \n",
              "  <svg xmlns=\"http://www.w3.org/2000/svg\" height=\"24px\"viewBox=\"0 0 24 24\"\n",
              "       width=\"24px\">\n",
              "    <path d=\"M0 0h24v24H0V0z\" fill=\"none\"/>\n",
              "    <path d=\"M18.56 5.44l.94 2.06.94-2.06 2.06-.94-2.06-.94-.94-2.06-.94 2.06-2.06.94zm-11 1L8.5 8.5l.94-2.06 2.06-.94-2.06-.94L8.5 2.5l-.94 2.06-2.06.94zm10 10l.94 2.06.94-2.06 2.06-.94-2.06-.94-.94-2.06-.94 2.06-2.06.94z\"/><path d=\"M17.41 7.96l-1.37-1.37c-.4-.4-.92-.59-1.43-.59-.52 0-1.04.2-1.43.59L10.3 9.45l-7.72 7.72c-.78.78-.78 2.05 0 2.83L4 21.41c.39.39.9.59 1.41.59.51 0 1.02-.2 1.41-.59l7.78-7.78 2.81-2.81c.8-.78.8-2.07 0-2.86zM5.41 20L4 18.59l7.72-7.72 1.47 1.35L5.41 20z\"/>\n",
              "  </svg>\n",
              "      </button>\n",
              "      \n",
              "  <style>\n",
              "    .colab-df-container {\n",
              "      display:flex;\n",
              "      flex-wrap:wrap;\n",
              "      gap: 12px;\n",
              "    }\n",
              "\n",
              "    .colab-df-convert {\n",
              "      background-color: #E8F0FE;\n",
              "      border: none;\n",
              "      border-radius: 50%;\n",
              "      cursor: pointer;\n",
              "      display: none;\n",
              "      fill: #1967D2;\n",
              "      height: 32px;\n",
              "      padding: 0 0 0 0;\n",
              "      width: 32px;\n",
              "    }\n",
              "\n",
              "    .colab-df-convert:hover {\n",
              "      background-color: #E2EBFA;\n",
              "      box-shadow: 0px 1px 2px rgba(60, 64, 67, 0.3), 0px 1px 3px 1px rgba(60, 64, 67, 0.15);\n",
              "      fill: #174EA6;\n",
              "    }\n",
              "\n",
              "    [theme=dark] .colab-df-convert {\n",
              "      background-color: #3B4455;\n",
              "      fill: #D2E3FC;\n",
              "    }\n",
              "\n",
              "    [theme=dark] .colab-df-convert:hover {\n",
              "      background-color: #434B5C;\n",
              "      box-shadow: 0px 1px 3px 1px rgba(0, 0, 0, 0.15);\n",
              "      filter: drop-shadow(0px 1px 2px rgba(0, 0, 0, 0.3));\n",
              "      fill: #FFFFFF;\n",
              "    }\n",
              "  </style>\n",
              "\n",
              "      <script>\n",
              "        const buttonEl =\n",
              "          document.querySelector('#df-6b059878-c9af-4b77-ad06-504f4b1b8a9b button.colab-df-convert');\n",
              "        buttonEl.style.display =\n",
              "          google.colab.kernel.accessAllowed ? 'block' : 'none';\n",
              "\n",
              "        async function convertToInteractive(key) {\n",
              "          const element = document.querySelector('#df-6b059878-c9af-4b77-ad06-504f4b1b8a9b');\n",
              "          const dataTable =\n",
              "            await google.colab.kernel.invokeFunction('convertToInteractive',\n",
              "                                                     [key], {});\n",
              "          if (!dataTable) return;\n",
              "\n",
              "          const docLinkHtml = 'Like what you see? Visit the ' +\n",
              "            '<a target=\"_blank\" href=https://colab.research.google.com/notebooks/data_table.ipynb>data table notebook</a>'\n",
              "            + ' to learn more about interactive tables.';\n",
              "          element.innerHTML = '';\n",
              "          dataTable['output_type'] = 'display_data';\n",
              "          await google.colab.output.renderOutput(dataTable, element);\n",
              "          const docLink = document.createElement('div');\n",
              "          docLink.innerHTML = docLinkHtml;\n",
              "          element.appendChild(docLink);\n",
              "        }\n",
              "      </script>\n",
              "    </div>\n",
              "  </div>\n",
              "  "
            ]
          },
          "metadata": {},
          "execution_count": 60
        }
      ]
    },
    {
      "cell_type": "code",
      "source": [
        "#Show What The Data Looks Like In Memory\n",
        "testing_data.head()"
      ],
      "metadata": {
        "colab": {
          "base_uri": "https://localhost:8080/",
          "height": 206
        },
        "id": "iU4vjkuqoEi8",
        "outputId": "f9d5fb7f-c057-4790-b005-7e8ce92fde70"
      },
      "execution_count": null,
      "outputs": [
        {
          "output_type": "execute_result",
          "data": {
            "text/plain": [
              "       sents\n",
              "0     FUCKER\n",
              "1      hahha\n",
              "2      ggggg\n",
              "3  macropyre\n",
              "4       Boom"
            ],
            "text/html": [
              "\n",
              "  <div id=\"df-0bc35ead-9237-4aa7-94f7-21909414ebb1\">\n",
              "    <div class=\"colab-df-container\">\n",
              "      <div>\n",
              "<style scoped>\n",
              "    .dataframe tbody tr th:only-of-type {\n",
              "        vertical-align: middle;\n",
              "    }\n",
              "\n",
              "    .dataframe tbody tr th {\n",
              "        vertical-align: top;\n",
              "    }\n",
              "\n",
              "    .dataframe thead th {\n",
              "        text-align: right;\n",
              "    }\n",
              "</style>\n",
              "<table border=\"1\" class=\"dataframe\">\n",
              "  <thead>\n",
              "    <tr style=\"text-align: right;\">\n",
              "      <th></th>\n",
              "      <th>sents</th>\n",
              "    </tr>\n",
              "  </thead>\n",
              "  <tbody>\n",
              "    <tr>\n",
              "      <th>0</th>\n",
              "      <td>FUCKER</td>\n",
              "    </tr>\n",
              "    <tr>\n",
              "      <th>1</th>\n",
              "      <td>hahha</td>\n",
              "    </tr>\n",
              "    <tr>\n",
              "      <th>2</th>\n",
              "      <td>ggggg</td>\n",
              "    </tr>\n",
              "    <tr>\n",
              "      <th>3</th>\n",
              "      <td>macropyre</td>\n",
              "    </tr>\n",
              "    <tr>\n",
              "      <th>4</th>\n",
              "      <td>Boom</td>\n",
              "    </tr>\n",
              "  </tbody>\n",
              "</table>\n",
              "</div>\n",
              "      <button class=\"colab-df-convert\" onclick=\"convertToInteractive('df-0bc35ead-9237-4aa7-94f7-21909414ebb1')\"\n",
              "              title=\"Convert this dataframe to an interactive table.\"\n",
              "              style=\"display:none;\">\n",
              "        \n",
              "  <svg xmlns=\"http://www.w3.org/2000/svg\" height=\"24px\"viewBox=\"0 0 24 24\"\n",
              "       width=\"24px\">\n",
              "    <path d=\"M0 0h24v24H0V0z\" fill=\"none\"/>\n",
              "    <path d=\"M18.56 5.44l.94 2.06.94-2.06 2.06-.94-2.06-.94-.94-2.06-.94 2.06-2.06.94zm-11 1L8.5 8.5l.94-2.06 2.06-.94-2.06-.94L8.5 2.5l-.94 2.06-2.06.94zm10 10l.94 2.06.94-2.06 2.06-.94-2.06-.94-.94-2.06-.94 2.06-2.06.94z\"/><path d=\"M17.41 7.96l-1.37-1.37c-.4-.4-.92-.59-1.43-.59-.52 0-1.04.2-1.43.59L10.3 9.45l-7.72 7.72c-.78.78-.78 2.05 0 2.83L4 21.41c.39.39.9.59 1.41.59.51 0 1.02-.2 1.41-.59l7.78-7.78 2.81-2.81c.8-.78.8-2.07 0-2.86zM5.41 20L4 18.59l7.72-7.72 1.47 1.35L5.41 20z\"/>\n",
              "  </svg>\n",
              "      </button>\n",
              "      \n",
              "  <style>\n",
              "    .colab-df-container {\n",
              "      display:flex;\n",
              "      flex-wrap:wrap;\n",
              "      gap: 12px;\n",
              "    }\n",
              "\n",
              "    .colab-df-convert {\n",
              "      background-color: #E8F0FE;\n",
              "      border: none;\n",
              "      border-radius: 50%;\n",
              "      cursor: pointer;\n",
              "      display: none;\n",
              "      fill: #1967D2;\n",
              "      height: 32px;\n",
              "      padding: 0 0 0 0;\n",
              "      width: 32px;\n",
              "    }\n",
              "\n",
              "    .colab-df-convert:hover {\n",
              "      background-color: #E2EBFA;\n",
              "      box-shadow: 0px 1px 2px rgba(60, 64, 67, 0.3), 0px 1px 3px 1px rgba(60, 64, 67, 0.15);\n",
              "      fill: #174EA6;\n",
              "    }\n",
              "\n",
              "    [theme=dark] .colab-df-convert {\n",
              "      background-color: #3B4455;\n",
              "      fill: #D2E3FC;\n",
              "    }\n",
              "\n",
              "    [theme=dark] .colab-df-convert:hover {\n",
              "      background-color: #434B5C;\n",
              "      box-shadow: 0px 1px 3px 1px rgba(0, 0, 0, 0.15);\n",
              "      filter: drop-shadow(0px 1px 2px rgba(0, 0, 0, 0.3));\n",
              "      fill: #FFFFFF;\n",
              "    }\n",
              "  </style>\n",
              "\n",
              "      <script>\n",
              "        const buttonEl =\n",
              "          document.querySelector('#df-0bc35ead-9237-4aa7-94f7-21909414ebb1 button.colab-df-convert');\n",
              "        buttonEl.style.display =\n",
              "          google.colab.kernel.accessAllowed ? 'block' : 'none';\n",
              "\n",
              "        async function convertToInteractive(key) {\n",
              "          const element = document.querySelector('#df-0bc35ead-9237-4aa7-94f7-21909414ebb1');\n",
              "          const dataTable =\n",
              "            await google.colab.kernel.invokeFunction('convertToInteractive',\n",
              "                                                     [key], {});\n",
              "          if (!dataTable) return;\n",
              "\n",
              "          const docLinkHtml = 'Like what you see? Visit the ' +\n",
              "            '<a target=\"_blank\" href=https://colab.research.google.com/notebooks/data_table.ipynb>data table notebook</a>'\n",
              "            + ' to learn more about interactive tables.';\n",
              "          element.innerHTML = '';\n",
              "          dataTable['output_type'] = 'display_data';\n",
              "          await google.colab.output.renderOutput(dataTable, element);\n",
              "          const docLink = document.createElement('div');\n",
              "          docLink.innerHTML = docLinkHtml;\n",
              "          element.appendChild(docLink);\n",
              "        }\n",
              "      </script>\n",
              "    </div>\n",
              "  </div>\n",
              "  "
            ]
          },
          "metadata": {},
          "execution_count": 61
        }
      ]
    },
    {
      "cell_type": "code",
      "source": [
        "train_intent.head()"
      ],
      "metadata": {
        "colab": {
          "base_uri": "https://localhost:8080/",
          "height": 206
        },
        "id": "xPhCT-sYDe14",
        "outputId": "bba85545-0522-4df4-da8c-74786f84fb6c"
      },
      "execution_count": null,
      "outputs": [
        {
          "output_type": "execute_result",
          "data": {
            "text/plain": [
              "     sents labels\n",
              "0      wow      O\n",
              "1      WTF      O\n",
              "2  wpe wpe      O\n",
              "3   hahaha      O\n",
              "4      wtf      O"
            ],
            "text/html": [
              "\n",
              "  <div id=\"df-2119ba2b-c3cb-4a46-97dd-a70d49295744\">\n",
              "    <div class=\"colab-df-container\">\n",
              "      <div>\n",
              "<style scoped>\n",
              "    .dataframe tbody tr th:only-of-type {\n",
              "        vertical-align: middle;\n",
              "    }\n",
              "\n",
              "    .dataframe tbody tr th {\n",
              "        vertical-align: top;\n",
              "    }\n",
              "\n",
              "    .dataframe thead th {\n",
              "        text-align: right;\n",
              "    }\n",
              "</style>\n",
              "<table border=\"1\" class=\"dataframe\">\n",
              "  <thead>\n",
              "    <tr style=\"text-align: right;\">\n",
              "      <th></th>\n",
              "      <th>sents</th>\n",
              "      <th>labels</th>\n",
              "    </tr>\n",
              "  </thead>\n",
              "  <tbody>\n",
              "    <tr>\n",
              "      <th>0</th>\n",
              "      <td>wow</td>\n",
              "      <td>O</td>\n",
              "    </tr>\n",
              "    <tr>\n",
              "      <th>1</th>\n",
              "      <td>WTF</td>\n",
              "      <td>O</td>\n",
              "    </tr>\n",
              "    <tr>\n",
              "      <th>2</th>\n",
              "      <td>wpe wpe</td>\n",
              "      <td>O</td>\n",
              "    </tr>\n",
              "    <tr>\n",
              "      <th>3</th>\n",
              "      <td>hahaha</td>\n",
              "      <td>O</td>\n",
              "    </tr>\n",
              "    <tr>\n",
              "      <th>4</th>\n",
              "      <td>wtf</td>\n",
              "      <td>O</td>\n",
              "    </tr>\n",
              "  </tbody>\n",
              "</table>\n",
              "</div>\n",
              "      <button class=\"colab-df-convert\" onclick=\"convertToInteractive('df-2119ba2b-c3cb-4a46-97dd-a70d49295744')\"\n",
              "              title=\"Convert this dataframe to an interactive table.\"\n",
              "              style=\"display:none;\">\n",
              "        \n",
              "  <svg xmlns=\"http://www.w3.org/2000/svg\" height=\"24px\"viewBox=\"0 0 24 24\"\n",
              "       width=\"24px\">\n",
              "    <path d=\"M0 0h24v24H0V0z\" fill=\"none\"/>\n",
              "    <path d=\"M18.56 5.44l.94 2.06.94-2.06 2.06-.94-2.06-.94-.94-2.06-.94 2.06-2.06.94zm-11 1L8.5 8.5l.94-2.06 2.06-.94-2.06-.94L8.5 2.5l-.94 2.06-2.06.94zm10 10l.94 2.06.94-2.06 2.06-.94-2.06-.94-.94-2.06-.94 2.06-2.06.94z\"/><path d=\"M17.41 7.96l-1.37-1.37c-.4-.4-.92-.59-1.43-.59-.52 0-1.04.2-1.43.59L10.3 9.45l-7.72 7.72c-.78.78-.78 2.05 0 2.83L4 21.41c.39.39.9.59 1.41.59.51 0 1.02-.2 1.41-.59l7.78-7.78 2.81-2.81c.8-.78.8-2.07 0-2.86zM5.41 20L4 18.59l7.72-7.72 1.47 1.35L5.41 20z\"/>\n",
              "  </svg>\n",
              "      </button>\n",
              "      \n",
              "  <style>\n",
              "    .colab-df-container {\n",
              "      display:flex;\n",
              "      flex-wrap:wrap;\n",
              "      gap: 12px;\n",
              "    }\n",
              "\n",
              "    .colab-df-convert {\n",
              "      background-color: #E8F0FE;\n",
              "      border: none;\n",
              "      border-radius: 50%;\n",
              "      cursor: pointer;\n",
              "      display: none;\n",
              "      fill: #1967D2;\n",
              "      height: 32px;\n",
              "      padding: 0 0 0 0;\n",
              "      width: 32px;\n",
              "    }\n",
              "\n",
              "    .colab-df-convert:hover {\n",
              "      background-color: #E2EBFA;\n",
              "      box-shadow: 0px 1px 2px rgba(60, 64, 67, 0.3), 0px 1px 3px 1px rgba(60, 64, 67, 0.15);\n",
              "      fill: #174EA6;\n",
              "    }\n",
              "\n",
              "    [theme=dark] .colab-df-convert {\n",
              "      background-color: #3B4455;\n",
              "      fill: #D2E3FC;\n",
              "    }\n",
              "\n",
              "    [theme=dark] .colab-df-convert:hover {\n",
              "      background-color: #434B5C;\n",
              "      box-shadow: 0px 1px 3px 1px rgba(0, 0, 0, 0.15);\n",
              "      filter: drop-shadow(0px 1px 2px rgba(0, 0, 0, 0.3));\n",
              "      fill: #FFFFFF;\n",
              "    }\n",
              "  </style>\n",
              "\n",
              "      <script>\n",
              "        const buttonEl =\n",
              "          document.querySelector('#df-2119ba2b-c3cb-4a46-97dd-a70d49295744 button.colab-df-convert');\n",
              "        buttonEl.style.display =\n",
              "          google.colab.kernel.accessAllowed ? 'block' : 'none';\n",
              "\n",
              "        async function convertToInteractive(key) {\n",
              "          const element = document.querySelector('#df-2119ba2b-c3cb-4a46-97dd-a70d49295744');\n",
              "          const dataTable =\n",
              "            await google.colab.kernel.invokeFunction('convertToInteractive',\n",
              "                                                     [key], {});\n",
              "          if (!dataTable) return;\n",
              "\n",
              "          const docLinkHtml = 'Like what you see? Visit the ' +\n",
              "            '<a target=\"_blank\" href=https://colab.research.google.com/notebooks/data_table.ipynb>data table notebook</a>'\n",
              "            + ' to learn more about interactive tables.';\n",
              "          element.innerHTML = '';\n",
              "          dataTable['output_type'] = 'display_data';\n",
              "          await google.colab.output.renderOutput(dataTable, element);\n",
              "          const docLink = document.createElement('div');\n",
              "          docLink.innerHTML = docLinkHtml;\n",
              "          element.appendChild(docLink);\n",
              "        }\n",
              "      </script>\n",
              "    </div>\n",
              "  </div>\n",
              "  "
            ]
          },
          "metadata": {},
          "execution_count": 62
        }
      ]
    },
    {
      "cell_type": "code",
      "source": [
        "# Convert Data to list\n",
        "training_data_sents = training_data['sents'].tolist()\n",
        "training_data_labels = training_data['labels'].tolist()\n",
        "\n",
        "validation_data_sents = validation_data['sents'].tolist()\n",
        "validation_data_labels = validation_data['labels'].tolist()\n",
        "\n",
        "testing_data_sents = testing_data['sents'].tolist()\n",
        "\n",
        "train_intent_sent = train_intent['sents'].tolist()\n",
        "train_intent_labels = train_intent['labels'].tolist() "
      ],
      "metadata": {
        "id": "1hc1bZLmjppt"
      },
      "execution_count": null,
      "outputs": []
    },
    {
      "cell_type": "code",
      "source": [
        "# Show how the list looks like\n",
        "preview_num = 4\n",
        "print(training_data_sents[:preview_num])\n",
        "print(training_data_labels[:preview_num])\n",
        "\n",
        "print(validation_data_sents[:preview_num])\n",
        "print(validation_data_labels[:preview_num])\n",
        "\n",
        "print(testing_data_sents[:preview_num])\n",
        "\n",
        "print(train_intent_sent[:preview_num])\n",
        "print(train_intent_labels[:preview_num])"
      ],
      "metadata": {
        "colab": {
          "base_uri": "https://localhost:8080/"
        },
        "id": "uTPaHo3aM-tp",
        "outputId": "0eb9dac8-df94-43bb-b7e7-0161ff5ec82e"
      },
      "execution_count": null,
      "outputs": [
        {
          "output_type": "stream",
          "name": "stdout",
          "text": [
            "['wow', 'WTF', 'wpe wpe', 'hahaha']\n",
            "['O', 'T', 'O O', 'O']\n",
            "['GG', 'gg', 'GG [SEPA] nice late game', 'FUK']\n",
            "['S', 'S', 'S SEPA O O O', 'T']\n",
            "['FUCKER', 'hahha', 'ggggg', 'macropyre']\n",
            "['wow', 'WTF', 'wpe wpe', 'hahaha']\n",
            "['O', 'O', 'O', 'O']\n"
          ]
        }
      ]
    },
    {
      "cell_type": "markdown",
      "source": [
        "## 1.3 Data Preprocessing"
      ],
      "metadata": {
        "id": "2Y8C3XHUMW09"
      }
    },
    {
      "cell_type": "code",
      "source": [
        "import re\n",
        "def preprocess_data(sentences, lower = True, repeat = True):\n",
        "  result = []\n",
        "  if lower:\n",
        "    result = [[sentence.lower()] for sentence in sentences]\n",
        "    \n",
        "  if repeat:\n",
        "    # Replace character occur more than 3 times to single character Eg. loool-> lol\n",
        "    pattern = re.compile(r'(\\w)\\1{2,}')\n",
        "    temp = [[pattern.sub(r'\\1', w)] for sent in result for w in sent]\n",
        "\n",
        "    # if the w is only one character, multiple 2. Eg. g-> gg\n",
        "    temp=[[w*2 if len(w)==1 else w] for sent in temp for w in sent]\n",
        "    \n",
        "    # Replace twice character combination Eg. hahahaha->ha\n",
        "    pattern = re.compile(r'([a-z0-9]{2})\\1*')\n",
        "    temp = [[pattern.sub(r'\\1', w)] for sent in temp for w in sent]\n",
        "    result = temp\n",
        "  return result\n",
        "\n",
        "'''\n",
        "【DEPERATED】From our experiment we found using case-folding only give us the better Accuracy\n",
        "\n",
        "  # if repeat:\n",
        "  #   # Replace character occur more than 3 times to single character Eg. loool-> lol\n",
        "  #   pattern = re.compile(r'(\\w)\\1{2,}')\n",
        "  #   temp = [[pattern.sub(r'\\1', w)] for sent in result for w in sent]\n",
        "\n",
        "  #   # if the w is only one character, multiple 2. Eg. g-> gg\n",
        "  #   temp=[[w*2 if len(w)==1 else w] for sent in temp for w in sent]\n",
        "    \n",
        "  #   # Replace twice character combination Eg. hahahaha->ha\n",
        "  #   pattern = re.compile(r'([a-z0-9]{2})\\1*')\n",
        "  #   temp = [[pattern.sub(r'\\1', w)] for sent in temp for w in sent]\n",
        "  #   result = temp\n",
        "'''\n",
        "\n",
        "\n",
        "pp_training_data_sents = preprocess_data(training_data_sents)\n",
        "pp_validation_data_sents = preprocess_data(validation_data_sents)\n",
        "pp_testing_data_sents = preprocess_data(testing_data_sents)\n"
      ],
      "metadata": {
        "id": "Y01XTek5MTKf"
      },
      "execution_count": null,
      "outputs": []
    },
    {
      "cell_type": "markdown",
      "source": [
        "## Label processing"
      ],
      "metadata": {
        "id": "-Y5RUm7T56gq"
      }
    },
    {
      "cell_type": "code",
      "source": [
        "pp_training_data_labels = [[sent] for sent in training_data_labels]\n",
        "pp_validation_data_labels = [[sent] for sent in validation_data_labels]"
      ],
      "metadata": {
        "id": "MTICSJ4456V4"
      },
      "execution_count": null,
      "outputs": []
    },
    {
      "cell_type": "markdown",
      "source": [
        "# 2. Input Embedding"
      ],
      "metadata": {
        "id": "oIM2ObQEGkSP"
      }
    },
    {
      "cell_type": "markdown",
      "source": [
        "## 2.1 Syntactic Textual Feature Embedding(POS Tagging)"
      ],
      "metadata": {
        "id": "_AuvSMs6Vd-7"
      }
    },
    {
      "cell_type": "code",
      "source": [
        "import spacy\n",
        "from spacy.tokenizer import Tokenizer\n",
        "import torch\n",
        "\n",
        "pos_tagger = spacy.load(\"en_core_web_sm\")\n",
        "pos_tagger.tokenizer = Tokenizer(pos_tagger.vocab)\n",
        "\n",
        "unique_tags = []\n",
        "[unique_tags.append(tag) for tag in pos_tagger.get_pipe(\"tagger\").labels if not tag in unique_tags]\n",
        "unique_tags.sort()\n",
        "\n",
        "\n",
        "unique_tags_encoding = {}\n",
        "for i, tag in enumerate(unique_tags):\n",
        "  encoding = [0]*len(unique_tags)\n",
        "  encoding[i] = 1\n",
        "  unique_tags_encoding[unique_tags[i]] = encoding\n",
        "\n",
        "\n",
        "unique_deps = []\n",
        "[unique_deps.append(dep) for dep in pos_tagger.get_pipe(\"parser\").labels if not dep in unique_deps]\n",
        "unique_deps.sort()\n",
        "\n",
        "unique_deps_encoding = {}\n",
        "for i, dep in enumerate(unique_deps):\n",
        "  encoding = [0]*len(unique_deps)\n",
        "  encoding[i] = 1\n",
        "  unique_deps_encoding[unique_deps[i]] = encoding\n",
        "# print(unique_deps_encoding)\n",
        "\n",
        "def get_sent_pos_encoding(sent):\n",
        "  pos_tagger.tokenizer\n",
        "  sent_tags = pos_tagger(sent)\n",
        "  result = []\n",
        "  for token in sent_tags:\n",
        "    result.append(torch.Tensor(unique_tags_encoding.get(token.tag_)))\n",
        "  return torch.stack(result).to(device)\n",
        "\n",
        "def get_sent_dep_encoding(sent):\n",
        "  pos_tagger.tokenizer\n",
        "  sent_tags = pos_tagger(sent)\n",
        "  result = []\n",
        "  for token in sent_tags:\n",
        "    result.append(torch.Tensor(unique_deps_encoding.get(token.dep_)))\n",
        "  return torch.stack(result).to(device)"
      ],
      "metadata": {
        "id": "afhbk42DVlSo"
      },
      "execution_count": null,
      "outputs": []
    },
    {
      "cell_type": "markdown",
      "source": [
        "## 2.2 Semantic Textual Feature Embedding(W2V:FastText)"
      ],
      "metadata": {
        "id": "RUkL3UrabPTK"
      }
    },
    {
      "cell_type": "markdown",
      "source": [
        "#### Generate word_to_ix and tag_to_ix"
      ],
      "metadata": {
        "id": "cuPhURN21CMC"
      }
    },
    {
      "cell_type": "code",
      "source": [
        "word_to_ix = {}\n",
        "for sentence in pp_training_data_sents+pp_validation_data_sents+pp_testing_data_sents:\n",
        "    for word in sentence[0].split():\n",
        "        word = word.lower()\n",
        "        if word not in word_to_ix:\n",
        "            word_to_ix[word] = len(word_to_ix)\n",
        "word_list = list(word_to_ix.keys())\n",
        "\n",
        "START_TAG = \"<START>\"\n",
        "STOP_TAG = \"<STOP>\"\n",
        "tag_to_ix = {START_TAG:0, STOP_TAG:1}\n",
        "for tags in training_data_labels+validation_data_labels:\n",
        "    for tag in tags.split():\n",
        "        if tag not in tag_to_ix:\n",
        "            tag_to_ix[tag] = len(tag_to_ix)"
      ],
      "metadata": {
        "id": "ywclo-hjPmAO"
      },
      "execution_count": null,
      "outputs": []
    },
    {
      "cell_type": "code",
      "execution_count": null,
      "metadata": {
        "id": "p0zITUVKEkOq"
      },
      "outputs": [],
      "source": [
        "from gensim.models import FastText\n",
        "\n",
        "data = []\n",
        "for sent in pp_training_data_sents+pp_validation_data_sents + pp_testing_data_sents:\n",
        "    data.append(sent[0].split())\n",
        "\n",
        "EMBEDDING_DIM = 50\n",
        "ft_sg_model = FastText(data, size=EMBEDDING_DIM, window=2, min_count=0, workers=2, sg=1)"
      ]
    },
    {
      "cell_type": "markdown",
      "source": [
        "##2.3 Domain Feature Embedding"
      ],
      "metadata": {
        "id": "_NcxFMnyZrib"
      }
    },
    {
      "cell_type": "code",
      "source": [
        "data = {\n",
        "    \"T\":[],\n",
        "    \"C\":[],\n",
        "    \"D\":[],\n",
        "    \"S\":[],\n",
        "    \"P\":[],\n",
        "}\n",
        "\n",
        "for sent, labels in zip(pp_training_data_sents, pp_training_data_labels):\n",
        "    sent = sent[0].split(\" \")\n",
        "    labels = labels[0].split(\" \")\n",
        "    for i, word in enumerate(sent):\n",
        "      if not (labels[i] == \"O\" or labels[i]==\"SEPA\"):\n",
        "        data[labels[i]].append(word)\n",
        "\n",
        "data[\"T\"] = list(set(data[\"T\"]))\n",
        "data[\"C\"] = list(set(data[\"C\"]))\n",
        "data[\"D\"] = list(set(data[\"D\"]))\n",
        "data[\"S\"] = list(set(data[\"S\"]))\n",
        "data[\"P\"] = list(set(data[\"P\"]))\n",
        "\n",
        "slot_type = list(data.keys())\n",
        "def get_domain_feature(sentence):\n",
        "  res = []\n",
        "  for word in sentence.split(\" \"):\n",
        "    temp = [0]*len(slot_type)\n",
        "    for i in range(len(slot_type)):\n",
        "      data_list = data[slot_type[i]]\n",
        "      if(word in data_list):\n",
        "        temp[i] = 10\n",
        "    \n",
        "    res.append(torch.tensor(temp).to(device))\n",
        "  return torch.stack(res)\n",
        "\n",
        "print(get_domain_feature(\"wow, ez mid\"))\n",
        "\n",
        "'''\n",
        "【DEPERATED】\n",
        "Not Used: This is our initial Domain Feature but it's not Good\n",
        "# def get_intent_feature(sentence,i):\n",
        "#   sent_label = train_intent_labels[i]\n",
        "#   data_dic = {\n",
        "#       \"A\":[1,0,0,0,0],\n",
        "#       \"E\":[0,1,0,0,0],\n",
        "#       \"I\":[0,0,1,0,0],\n",
        "#       \"O\":[0,0,0,1,0],\n",
        "#       \"U\":[0,0,0,0,1],\n",
        "#   }\n",
        "#   res = []\n",
        "#   for word in sentence.split(\" \"):\n",
        "#     res.append(torch.tensor(data_dic[sent_label]).to(device))\n",
        "  \n",
        "#   return torch.stack(res)\n",
        "  \n",
        "# print(get_intent_feature(\"wow\",0))\n",
        "'''\n"
      ],
      "metadata": {
        "id": "obMxEMBoZyGl",
        "colab": {
          "base_uri": "https://localhost:8080/",
          "height": 105
        },
        "outputId": "c67f2ab2-29e5-4817-a648-8862da547b3a"
      },
      "execution_count": null,
      "outputs": [
        {
          "output_type": "stream",
          "name": "stdout",
          "text": [
            "tensor([[ 0,  0,  0,  0,  0],\n",
            "        [ 0,  0,  0, 10,  0],\n",
            "        [ 0,  0,  0, 10,  0]], device='cuda:0')\n"
          ]
        },
        {
          "output_type": "execute_result",
          "data": {
            "text/plain": [
              "'\\n【DEPERATED】\\nNot Used: This is our initial Domain Feature but it\\'s not Good\\n# def get_intent_feature(sentence,i):\\n#   sent_label = train_intent_labels[i]\\n#   data_dic = {\\n#       \"A\":[1,0,0,0,0],\\n#       \"E\":[0,1,0,0,0],\\n#       \"I\":[0,0,1,0,0],\\n#       \"O\":[0,0,0,1,0],\\n#       \"U\":[0,0,0,0,1],\\n#   }\\n#   res = []\\n#   for word in sentence.split(\" \"):\\n#     res.append(torch.tensor(data_dic[sent_label]).to(device))\\n  \\n#   return torch.stack(res)\\n  \\n# print(get_intent_feature(\"wow\",0))\\n'"
            ],
            "application/vnd.google.colaboratory.intrinsic+json": {
              "type": "string"
            }
          },
          "metadata": {},
          "execution_count": 85
        }
      ]
    },
    {
      "cell_type": "markdown",
      "source": [
        "#### Generate Embedding Matrix"
      ],
      "metadata": {
        "id": "KMkqBudI02G-"
      }
    },
    {
      "cell_type": "code",
      "source": [
        "embedding_matrix = []\n",
        "for word in word_list:\n",
        "    try:\n",
        "        embedding_matrix.append(ft_sg_model.wv[word])\n",
        "    except:\n",
        "        embedding_matrix.append([0]*EMBEDDING_DIM)\n",
        "embedding_matrix = np.array(embedding_matrix)\n",
        "embedding_matrix.shape"
      ],
      "metadata": {
        "colab": {
          "base_uri": "https://localhost:8080/"
        },
        "id": "b89sOk4zQKNQ",
        "outputId": "ee9cb5b7-3daa-4d70-a03c-1939db6bc36b"
      },
      "execution_count": null,
      "outputs": [
        {
          "output_type": "execute_result",
          "data": {
            "text/plain": [
              "(10536, 50)"
            ]
          },
          "metadata": {},
          "execution_count": 86
        }
      ]
    },
    {
      "cell_type": "markdown",
      "source": [
        "#### convert dataset into idxs"
      ],
      "metadata": {
        "id": "PrnNja4ZvmNs"
      }
    },
    {
      "cell_type": "code",
      "source": [
        "def to_index(data, to_ix):\n",
        "    input_index_list = []\n",
        "    for sent in data:\n",
        "        input_index_list.append([to_ix[w] for w in sent[0].split()])\n",
        "    return input_index_list\n",
        "\n",
        "train_input_index =  to_index(pp_training_data_sents,word_to_ix)\n",
        "train_output_index = to_index(pp_training_data_labels,tag_to_ix)\n",
        "val_input_index = to_index(pp_validation_data_sents,word_to_ix)\n",
        "val_output_index = to_index(pp_validation_data_labels,tag_to_ix)\n",
        "test_input_index = to_index(pp_testing_data_sents,word_to_ix)"
      ],
      "metadata": {
        "id": "uGZn6CNDRyoA"
      },
      "execution_count": null,
      "outputs": []
    },
    {
      "cell_type": "markdown",
      "source": [
        "## 3. Slot Filling/Tagging"
      ],
      "metadata": {
        "id": "VK9OCJprGp6c"
      }
    },
    {
      "cell_type": "markdown",
      "source": [
        "# 3 Stacked Seq2Seq model\n"
      ],
      "metadata": {
        "id": "TjrnOgkdvJkI"
      }
    },
    {
      "cell_type": "markdown",
      "source": [
        "## 3.1-3.3 Best Model Definition"
      ],
      "metadata": {
        "id": "lNhK6omOvnOj"
      }
    },
    {
      "cell_type": "markdown",
      "source": [
        "<mark>**Note: We palce a comment in the code below to show where we use the CRF Layer and Attention Layer**</mark>"
      ],
      "metadata": {
        "id": "Y2htOo8kMQzj"
      }
    },
    {
      "cell_type": "code",
      "source": [
        "from tensorflow.python.framework.ops import Tensor\n",
        "import torch\n",
        "import torch.autograd as autograd\n",
        "import torch.nn as nn\n",
        "import torch.optim as optim\n",
        "\n",
        "def argmax(vec):\n",
        "    # return the argmax as a python int\n",
        "    _, idx = torch.max(vec, 1)\n",
        "    return idx.item()\n",
        "\n",
        "\n",
        "# Compute log sum exp in a numerically stable way for the forward algorithm\n",
        "def log_sum_exp(vec):\n",
        "    max_score = vec[0, argmax(vec)]\n",
        "    max_score_broadcast = max_score.view(1, -1).expand(1, vec.size()[1])\n",
        "    return max_score + \\\n",
        "        torch.log(torch.sum(torch.exp(vec - max_score_broadcast)))\n",
        "\n",
        "class BiLSTM_CRF(nn.Module):    \n",
        "  # We will practise the scaled dot product attention in the last section\n",
        "\n",
        "    def __init__(self, vocab_size, tag_to_ix, embedding_dim, hidden_dim):\n",
        "        super(BiLSTM_CRF, self).__init__()\n",
        "        self.embedding_dim = embedding_dim\n",
        "        self.hidden_dim = hidden_dim\n",
        "        self.vocab_size = vocab_size\n",
        "        self.tag_to_ix = tag_to_ix\n",
        "        self.tagset_size = len(tag_to_ix)\n",
        "        self.num_layers = 1\n",
        "\n",
        "        self.word_embeds = nn.Embedding(vocab_size, embedding_dim)\n",
        "\n",
        "        \"\"\"Here we use the embedding matrix as the initial weights of nn.Embedding\"\"\"\n",
        "        self.word_embeds.weight.data.copy_(torch.from_numpy(embedding_matrix))\n",
        "        \n",
        "        self.lstm = nn.LSTM(embedding_dim+5, hidden_dim // 2,\n",
        "                            num_layers=self.num_layers, bidirectional=True)\n",
        "        \n",
        "\n",
        "        # Maps the output of the LSTM into tag space.\n",
        "        self.hidden2tag = nn.Linear(hidden_dim, self.tagset_size)\n",
        "\n",
        "        self.out = nn.Linear(1, self.tagset_size*2)\n",
        "\n",
        "        # Matrix of transition parameters.  Entry i,j is the score of\n",
        "        # transitioning *to* i *from* j.\n",
        "        self.transitions = nn.Parameter(\n",
        "            torch.randn(self.tagset_size, self.tagset_size))\n",
        "\n",
        "        # These two statements enforce the constraint that we never transfer\n",
        "        # to the start tag and we never transfer from the stop tag\n",
        "        self.transitions.data[tag_to_ix[START_TAG], :] = -10000\n",
        "        self.transitions.data[:, tag_to_ix[STOP_TAG]] = -10000\n",
        "\n",
        "        self.hidden = self.init_hidden()\n",
        "\n",
        "    def init_hidden(self):\n",
        "        return (torch.randn(self.num_layers*2, 1, self.hidden_dim // 2).to(device),\n",
        "                torch.randn(self.num_layers*2, 1, self.hidden_dim // 2).to(device))\n",
        "\n",
        "    def _forward_alg(self, feats):\n",
        "        # Do the forward algorithm to compute the partition function\n",
        "        init_alphas = torch.full((1, self.tagset_size), -10000.).to(device)\n",
        "        # START_TAG has all of the score.\n",
        "        init_alphas[0][self.tag_to_ix[START_TAG]] = 0.\n",
        "\n",
        "        # Wrap in a variable so that we will get automatic backprop\n",
        "        forward_var = init_alphas\n",
        "        '''\n",
        "        ###############\n",
        "        #     CRF     #\n",
        "        ###############\n",
        "        '''\n",
        "        # Iterate through the sentence\n",
        "        for feat in feats:\n",
        "            alphas_t = []  # The forward tensors at this timestep\n",
        "            for next_tag in range(self.tagset_size):\n",
        "                # broadcast the emission score: it is the same regardless of\n",
        "                # the previous tag\n",
        "                emit_score = feat[next_tag].view(\n",
        "                    1, -1).expand(1, self.tagset_size)\n",
        "                # the ith entry of trans_score is the score of transitioning to\n",
        "                # next_tag from i\n",
        "                trans_score = self.transitions[next_tag].view(1, -1)\n",
        "                # The ith entry of next_tag_var is the value for the\n",
        "                # edge (i -> next_tag) before we do log-sum-exp\n",
        "                next_tag_var = forward_var + trans_score + emit_score\n",
        "\n",
        "                # The forward variable for this tag is log-sum-exp of all the\n",
        "                # scores.\n",
        "                alphas_t.append(log_sum_exp(next_tag_var).view(1))\n",
        "\n",
        "            forward_var = torch.cat(alphas_t).view(1, -1)\n",
        "        terminal_var = forward_var + self.transitions[self.tag_to_ix[STOP_TAG]]\n",
        "        alpha = log_sum_exp(terminal_var)\n",
        "        return alpha\n",
        "\n",
        "    def _get_lstm_features(self, sentence_idx, sentence):\n",
        "        self.hidden = self.init_hidden()\n",
        "        embeds = torch.cat((self.word_embeds(sentence_idx),get_domain_feature(sentence)),dim=1).view(len(sentence_idx), 1, -1)\n",
        "        \n",
        "        lstm_out, self.hidden = self.lstm(embeds, self.hidden)\n",
        "        lstm_out = lstm_out.view(len(sentence_idx), self.hidden_dim)\n",
        "\n",
        "        lstm_feats = self.hidden2tag(lstm_out)\n",
        "        return lstm_feats\n",
        "\n",
        "    def _score_sentence(self, feats, tags):\n",
        "        # Gives the score of a provided tag sequence\n",
        "        score = torch.zeros(1).to(device)\n",
        "        tags = torch.cat([torch.tensor([self.tag_to_ix[START_TAG]], dtype=torch.long).to(device), tags])\n",
        "        for i, feat in enumerate(feats):\n",
        "            score = score + \\\n",
        "                self.transitions[tags[i + 1], tags[i]] + feat[tags[i + 1]]\n",
        "        score = score + self.transitions[self.tag_to_ix[STOP_TAG], tags[-1]]\n",
        "        return score\n",
        "\n",
        "    def _viterbi_decode(self, feats):\n",
        "        backpointers = []\n",
        "\n",
        "        # Initialize the viterbi variables in log space\n",
        "        init_vvars = torch.full((1, self.tagset_size), -10000.).to(device)\n",
        "        init_vvars[0][self.tag_to_ix[START_TAG]] = 0\n",
        "\n",
        "        # forward_var at step i holds the viterbi variables for step i-1\n",
        "        forward_var = init_vvars\n",
        "        for feat in feats:\n",
        "            bptrs_t = []  # holds the backpointers for this step\n",
        "            viterbivars_t = []  # holds the viterbi variables for this step\n",
        "\n",
        "            for next_tag in range(self.tagset_size):\n",
        "                # next_tag_var[i] holds the viterbi variable for tag i at the\n",
        "                # previous step, plus the score of transitioning\n",
        "                # from tag i to next_tag.\n",
        "                # We don't include the emission scores here because the max\n",
        "                # does not depend on them (we add them in below)\n",
        "                next_tag_var = forward_var + self.transitions[next_tag]\n",
        "                best_tag_id = argmax(next_tag_var)\n",
        "                bptrs_t.append(best_tag_id)\n",
        "                viterbivars_t.append(next_tag_var[0][best_tag_id].view(1))\n",
        "            # Now add in the emission scores, and assign forward_var to the set\n",
        "            # of viterbi variables we just computed\n",
        "            forward_var = (torch.cat(viterbivars_t) + feat).view(1, -1)\n",
        "            backpointers.append(bptrs_t)\n",
        "\n",
        "        # Transition to STOP_TAG\n",
        "        terminal_var = forward_var + self.transitions[self.tag_to_ix[STOP_TAG]]\n",
        "        best_tag_id = argmax(terminal_var)\n",
        "        path_score = terminal_var[0][best_tag_id]\n",
        "\n",
        "        # Follow the back pointers to decode the best path.\n",
        "        best_path = [best_tag_id]\n",
        "        for bptrs_t in reversed(backpointers):\n",
        "            best_tag_id = bptrs_t[best_tag_id]\n",
        "            best_path.append(best_tag_id)\n",
        "        # Pop off the start tag (we dont want to return that to the caller)\n",
        "        start = best_path.pop()\n",
        "        assert start == self.tag_to_ix[START_TAG]  # Sanity check\n",
        "        best_path.reverse()\n",
        "        return path_score, best_path\n",
        "\n",
        "    def neg_log_likelihood(self, sentence_idx, tags,sentence):\n",
        "        sent_feats = self._get_lstm_features(sentence_idx,sentence)\n",
        "        forward_score = self._forward_alg(sent_feats)\n",
        "        gold_score = self._score_sentence(sent_feats, tags)\n",
        "        return forward_score - gold_score\n",
        "\n",
        "    def cal_attention(self, hidden, encoder_hiddens):\n",
        "        # if method == BiLSTM_CRF.ATTN_TYPE_DOT_PRODUCT:\n",
        "        #     attn_weights = F.softmax(torch.bmm(hidden.T.unsqueeze(0), encoder_hiddens.unsqueeze(0)),dim=-1)\n",
        "        #     attn_output = torch.bmm(attn_weights, encoder_hiddens.T.unsqueeze(0))\n",
        "        #     concat_output = attn_output[0].T+ hidden\n",
        "\n",
        "        # elif method == BiLSTM_CRF.ATTN_TYPE_SCALE_DOT_PRODUCT:\n",
        "        attn_weights = F.softmax(1/np.sqrt(self.hidden_dim)*torch.bmm(hidden.T.unsqueeze(0), encoder_hiddens.unsqueeze(0)),dim=-1)\n",
        "        attn_output = torch.bmm(attn_weights, encoder_hiddens.T.unsqueeze(0))\n",
        "        concat_output = attn_output[0].T + hidden\n",
        "\n",
        "        # elif method == BiLSTM_CRF.ATTN_TYPE_COS:\n",
        "        #     attn_weights =  F.softmax(torch.cos(torch.bmm(hidden.T.unsqueeze(0), encoder_hiddens.unsqueeze(0))),dim=-1)\n",
        "        #     attn_output = torch.bmm(attn_weights, encoder_hiddens.T.unsqueeze(0))\n",
        "        #     concat_output = attn_output[0].T + hidden\n",
        "\n",
        "        return concat_output\n",
        "\n",
        "    def forward(self, sentence_idx,sentence):  # dont confuse this with _forward_alg above.\n",
        "        # Get the emission scores from the BiLSTM\n",
        "        lstm_feats = self._get_lstm_features(sentence_idx,sentence)\n",
        "        \n",
        "        '''\n",
        "        ################\n",
        "        Attention Layer#\n",
        "        ################\n",
        "        '''\n",
        "        res = None\n",
        "        for i,each in enumerate(lstm_feats):\n",
        "          concat_output = self.cal_attention(each.unsqueeze(0), self.hidden[-1][-1])\n",
        "          output = F.log_softmax(concat_output)\n",
        "          if i == 0:\n",
        "            res = output\n",
        "          else:\n",
        "            res = torch.cat((res,output),dim=0)\n",
        "\n",
        "        # Find the best path, given the features.\n",
        "        score, tag_seq = self._viterbi_decode(res)\n",
        "        return score, tag_seq"
      ],
      "metadata": {
        "id": "_5niLyKCvsbs"
      },
      "execution_count": null,
      "outputs": []
    },
    {
      "cell_type": "markdown",
      "source": [
        "## 3.4 Function for accuracy"
      ],
      "metadata": {
        "id": "IfbRk6F6v0oi"
      }
    },
    {
      "cell_type": "code",
      "source": [
        "import numpy as np\n",
        "def cal_acc(model, input_index, output_index,sentence):\n",
        "  predicted=[elem for i,each in enumerate(input_index) for elem in model(torch.tensor(each, dtype=torch.long).to(device),sentence[i][0])[1]]\n",
        "  ground_truth=[each for line in output_index for each in line]\n",
        "\n",
        "\n",
        "  same = 0\n",
        "  for p,g in zip(predicted,ground_truth):\n",
        "    if p==g:\n",
        "      same+=1\n",
        "  \n",
        "  accuracy = same/len(predicted)\n",
        "\n",
        "  return predicted, ground_truth, accuracy"
      ],
      "metadata": {
        "id": "a6lq_hSSv0yr"
      },
      "execution_count": null,
      "outputs": []
    },
    {
      "cell_type": "markdown",
      "source": [
        "## 3.5 Initialize Model"
      ],
      "metadata": {
        "id": "b7FKrtgZwIzK"
      }
    },
    {
      "cell_type": "code",
      "source": [
        "device = torch.device(\"cuda\" if torch.cuda.is_available() else \"cpu\")\n",
        "HIDDEN_DIM = 50\n",
        "\n",
        "model = BiLSTM_CRF(len(word_to_ix), tag_to_ix, EMBEDDING_DIM, HIDDEN_DIM).to(device)\n",
        "optimizer = optim.SGD(model.parameters(), lr=0.01, weight_decay=1e-4)"
      ],
      "metadata": {
        "id": "8XqjEtq5wI8x"
      },
      "execution_count": null,
      "outputs": []
    },
    {
      "cell_type": "markdown",
      "source": [
        "##3.6 Train the model"
      ],
      "metadata": {
        "id": "WF7bueQ-wdFj"
      }
    },
    {
      "cell_type": "code",
      "source": [
        "\"\"\"Each epoch will take about 1-2 minutes\"\"\"\n",
        "\n",
        "import datetime\n",
        "from tqdm import tqdm\n",
        "from sklearn.metrics import classification_report\n",
        "\n",
        "for epoch in range(2):  \n",
        "    time1 = datetime.datetime.now()\n",
        "    train_loss = 0\n",
        "\n",
        "    model.train()\n",
        "    for i, idxs in tqdm(enumerate(train_input_index),total = len(train_input_index)):\n",
        "        tags_index = train_output_index[i]\n",
        "\n",
        "        # Step 1. Remember that Pytorch accumulates gradients.\n",
        "        # We need to clear them out before each instance\n",
        "        model.zero_grad()\n",
        "\n",
        "        # Step 2. Get our inputs ready for the network, that is,\n",
        "        # turn them into Tensors of word indices.\n",
        "        sentence_in = torch.tensor(idxs, dtype=torch.long).to(device)\n",
        "        targets = torch.tensor(tags_index, dtype=torch.long).to(device)\n",
        "\n",
        "        # Step 3. Run our forward pass.\n",
        "        loss = model.neg_log_likelihood(sentence_in, targets,(pp_training_data_sents)[i][0])\n",
        "\n",
        "        # Step 4. Compute the loss, gradients, and update the parameters by\n",
        "        # calling optimizer.step()\n",
        "        loss.backward()\n",
        "        optimizer.step()\n",
        "\n",
        "        train_loss+=loss.item()\n",
        "\n",
        "    model.eval()\n",
        "    # Call the cal_acc functions you implemented as required\n",
        "    _, _, train_acc = cal_acc(model,train_input_index,train_output_index,pp_training_data_sents)\n",
        "    y_pred,y_true, val_acc = cal_acc(model,val_input_index,val_output_index,pp_validation_data_sents)\n",
        "\n",
        "    val_loss = 0\n",
        "    for i, idxs in tqdm(enumerate(val_input_index),total = len(val_input_index)):\n",
        "        tags_index = val_output_index[i]\n",
        "        sentence_in = torch.tensor(idxs, dtype=torch.long).to(device)\n",
        "        targets = torch.tensor(tags_index, dtype=torch.long).to(device)\n",
        "        loss = model.neg_log_likelihood(sentence_in, targets,pp_validation_data_sents[i][0])\n",
        "        val_loss+=loss.item()\n",
        "    time2 = datetime.datetime.now()\n",
        "\n",
        "    def decode_output(output_list):\n",
        "      ix_to_tag = {v:k for k,v in tag_to_ix.items()}\n",
        "      return [ix_to_tag[output] for output in output_list]\n",
        "    y_true_decode = decode_output(y_true)\n",
        "    y_pred_decode = decode_output(y_pred)\n",
        "\n",
        "    print(classification_report(y_true_decode,y_pred_decode,digits=4))\n",
        "    print(\"\\nEpoch:%d, Training loss: %.2f, train acc: %.4f, val loss: %.2f, val acc: %.4f, time: %.2fs\" %(epoch+1, train_loss,train_acc, val_loss, val_acc, (time2-time1).total_seconds()))\n",
        "\n",
        "# The log below is the sample output for this section\n",
        "# Please make sure you keep your own running log for submission"
      ],
      "metadata": {
        "id": "KYS0WTchwgqW",
        "colab": {
          "base_uri": "https://localhost:8080/"
        },
        "outputId": "b4833ba5-4643-4759-f4d8-442d28b644f5"
      },
      "execution_count": null,
      "outputs": [
        {
          "output_type": "stream",
          "name": "stderr",
          "text": [
            "100%|██████████| 26078/26078 [07:36<00:00, 57.08it/s]\n",
            "/usr/local/lib/python3.7/dist-packages/ipykernel_launcher.py:197: UserWarning: Implicit dimension choice for log_softmax has been deprecated. Change the call to include dim=X as an argument.\n",
            "100%|██████████| 8705/8705 [01:06<00:00, 131.40it/s]\n"
          ]
        },
        {
          "output_type": "stream",
          "name": "stdout",
          "text": [
            "              precision    recall  f1-score   support\n",
            "\n",
            "           C     0.9877    0.9750    0.9813      1641\n",
            "           D     0.9974    0.9698    0.9834       398\n",
            "           O     0.9935    0.9921    0.9928     18985\n",
            "           P     0.9949    0.9987    0.9968      3936\n",
            "           S     0.9751    0.9916    0.9833      3322\n",
            "        SEPA     1.0000    1.0000    1.0000      3603\n",
            "           T     0.9773    0.9687    0.9730      1469\n",
            "\n",
            "    accuracy                         0.9915     33354\n",
            "   macro avg     0.9894    0.9851    0.9872     33354\n",
            "weighted avg     0.9916    0.9915    0.9915     33354\n",
            "\n",
            "\n",
            "Epoch:1, Training loss: 5278.80, train acc: 0.9943, val loss: 1942.86, val acc: 0.9915, time: 656.50s\n"
          ]
        },
        {
          "output_type": "stream",
          "name": "stderr",
          "text": [
            "100%|██████████| 26078/26078 [07:34<00:00, 57.33it/s]\n",
            "/usr/local/lib/python3.7/dist-packages/ipykernel_launcher.py:197: UserWarning: Implicit dimension choice for log_softmax has been deprecated. Change the call to include dim=X as an argument.\n",
            "100%|██████████| 8705/8705 [01:06<00:00, 131.12it/s]\n"
          ]
        },
        {
          "output_type": "stream",
          "name": "stdout",
          "text": [
            "              precision    recall  f1-score   support\n",
            "\n",
            "           C     0.9877    0.9756    0.9816      1641\n",
            "           D     0.9974    0.9698    0.9834       398\n",
            "           O     0.9932    0.9954    0.9943     18985\n",
            "           P     0.9957    0.9987    0.9972      3936\n",
            "           S     0.9883    0.9901    0.9892      3322\n",
            "        SEPA     1.0000    1.0000    1.0000      3603\n",
            "           T     0.9882    0.9680    0.9780      1469\n",
            "\n",
            "    accuracy                         0.9933     33354\n",
            "   macro avg     0.9929    0.9854    0.9891     33354\n",
            "weighted avg     0.9933    0.9933    0.9933     33354\n",
            "\n",
            "\n",
            "Epoch:2, Training loss: 1660.85, train acc: 0.9965, val loss: 1959.77, val acc: 0.9933, time: 654.68s\n"
          ]
        }
      ]
    },
    {
      "cell_type": "markdown",
      "source": [
        "## 3.7 Prediction the test dataset"
      ],
      "metadata": {
        "id": "DVsdwPTPwm5y"
      }
    },
    {
      "cell_type": "code",
      "source": [
        "def test(model, input_index):\n",
        "  predicted = [elem for i,each in enumerate(input_index) for elem in model(torch.tensor(each, dtype=torch.long).to(device),pp_testing_data_sents[i][0])[1]]\n",
        "  return predicted\n",
        "\n",
        "pre = test(model,test_input_index)"
      ],
      "metadata": {
        "id": "V2trGsDWwmqs",
        "colab": {
          "base_uri": "https://localhost:8080/"
        },
        "outputId": "acf8af10-0486-49d0-8cc8-672a854fe3ed"
      },
      "execution_count": null,
      "outputs": [
        {
          "output_type": "stream",
          "name": "stderr",
          "text": [
            "/usr/local/lib/python3.7/dist-packages/ipykernel_launcher.py:200: UserWarning: Implicit dimension choice for log_softmax has been deprecated. Change the call to include dim=X as an argument.\n"
          ]
        }
      ]
    },
    {
      "cell_type": "markdown",
      "source": [
        "### 3.7.1 Save Model as pkl for Canvas Submission (Saved in Google Drive)"
      ],
      "metadata": {
        "id": "_aYP9k_qNyDT"
      }
    },
    {
      "cell_type": "code",
      "source": [
        "import pickle\n",
        "\n",
        "pickle.dump(pre, open(\"/content/drive/MyDrive/Best_Model_pre.pkl\", \"wb\"))\n",
        "pickle.dump(model, open(\"/content/drive/MyDrive/Best_Model_model.pkl\", \"wb\"))"
      ],
      "metadata": {
        "id": "RDsIygdjaEzT"
      },
      "execution_count": null,
      "outputs": []
    },
    {
      "cell_type": "markdown",
      "source": [
        "### 3.7.2 Save Data as CSV for Kaggle Submission (Saved in Google Drive)"
      ],
      "metadata": {
        "id": "RMEsCWz5jQSG"
      }
    },
    {
      "cell_type": "code",
      "source": [
        "tag_list = list(tag_to_ix.keys())\n",
        "with open(\"/content/drive/MyDrive/Best_Model_Kaggle.csv\", \"w\") as f:\n",
        "    f.write(\"Id,Predicted\\n\")\n",
        "    for i, tag in enumerate(pre):\n",
        "        f.write(f\"{i},{tag_list[tag]}\\n\")"
      ],
      "metadata": {
        "id": "MZGj_4uJfCi3"
      },
      "execution_count": null,
      "outputs": []
    },
    {
      "cell_type": "markdown",
      "source": [
        "# 4. Evaluation Setup"
      ],
      "metadata": {
        "id": "0r8PEZiTGlP-"
      }
    },
    {
      "cell_type": "code",
      "source": [
        "result=[]"
      ],
      "metadata": {
        "id": "WiFsTYi1HJW-"
      },
      "execution_count": null,
      "outputs": []
    },
    {
      "cell_type": "code",
      "source": [
        "def decode_output(output_list):\n",
        "  ix_to_tag = {v:k for k,v in tag_to_ix.items()}\n",
        "  return [ix_to_tag[output] for output in output_list]"
      ],
      "metadata": {
        "id": "cjolatZOG6Ti"
      },
      "execution_count": null,
      "outputs": []
    },
    {
      "cell_type": "code",
      "source": [
        "'''\n",
        "Define Model\n",
        "'''\n",
        "from tensorflow.python.framework.ops import Tensor\n",
        "import torch\n",
        "import torch.autograd as autograd\n",
        "import torch.nn as nn\n",
        "import torch.optim as optim\n",
        "\n",
        "def argmax(vec):\n",
        "    # return the argmax as a python int\n",
        "    _, idx = torch.max(vec, 1)\n",
        "    return idx.item()\n",
        "\n",
        "\n",
        "# Compute log sum exp in a numerically stable way for the forward algorithm\n",
        "def log_sum_exp(vec):\n",
        "    max_score = vec[0, argmax(vec)]\n",
        "    max_score_broadcast = max_score.view(1, -1).expand(1, vec.size()[1])\n",
        "    return max_score + \\\n",
        "        torch.log(torch.sum(torch.exp(vec - max_score_broadcast)))\n",
        "\n",
        "class BiLSTM_CRF(nn.Module):\n",
        "    def __init__(self, vocab_size, tag_to_ix, embedding_dim, hidden_dim,dropout_p=0,embed_mode=0,with_crf = True,num_layers = 1,attn_type = 0):\n",
        "        super(BiLSTM_CRF, self).__init__()\n",
        "        self.embedding_dim = embedding_dim\n",
        "        self.hidden_dim = hidden_dim\n",
        "        self.vocab_size = vocab_size\n",
        "        self.tag_to_ix = tag_to_ix\n",
        "        self.tagset_size = len(tag_to_ix)\n",
        "        self.num_layers = num_layers\n",
        "        self.with_crf = with_crf\n",
        "        self.attn_type = attn_type\n",
        "\n",
        "        self.embed_mode = embed_mode # This is used to change the input embedding model.\n",
        "\n",
        "        self.dropout_p = dropout_p\n",
        "        self.dropout = nn.Dropout(self.dropout_p)\n",
        "\n",
        "        self.word_embeds = nn.Embedding(vocab_size, 50)\n",
        "\n",
        "        \"\"\"Here we use the embedding matrix as the initial weights of nn.Embedding\"\"\"\n",
        "        self.word_embeds.weight.data.copy_(torch.from_numpy(embedding_matrix))\n",
        "        \n",
        "        self.lstm = nn.LSTM(embedding_dim, hidden_dim // 2,\n",
        "                            num_layers=self.num_layers, bidirectional=True)\n",
        "      \n",
        "\n",
        "        # Maps the output of the LSTM into tag space.\n",
        "        self.hidden2tag = nn.Linear(hidden_dim, self.tagset_size)\n",
        "\n",
        "        self.out = nn.Linear(1, self.tagset_size*2)\n",
        "\n",
        "        # Matrix of transition parameters.  Entry i,j is the score of\n",
        "        # transitioning *to* i *from* j.\n",
        "        self.transitions = nn.Parameter(\n",
        "            torch.randn(self.tagset_size, self.tagset_size))\n",
        "\n",
        "        # These two statements enforce the constraint that we never transfer\n",
        "        # to the start tag and we never transfer from the stop tag\n",
        "        self.transitions.data[tag_to_ix[START_TAG], :] = -10000\n",
        "        self.transitions.data[:, tag_to_ix[STOP_TAG]] = -10000\n",
        "\n",
        "        self.hidden = self.init_hidden()\n",
        "\n",
        "    def init_hidden(self):\n",
        "        return (torch.randn(self.num_layers*2, 1, self.hidden_dim // 2).to(device),\n",
        "                torch.randn(self.num_layers*2, 1, self.hidden_dim // 2).to(device))\n",
        "\n",
        "    def _forward_alg(self, feats):\n",
        "        if(self.with_crf):\n",
        "          # Do the forward algorithm to compute the partition function\n",
        "          init_alphas = torch.full((1, self.tagset_size), -10000.).to(device)\n",
        "          # START_TAG has all of the score.\n",
        "          init_alphas[0][self.tag_to_ix[START_TAG]] = 0.\n",
        "\n",
        "          # Wrap in a variable so that we will get automatic backprop\n",
        "          forward_var = init_alphas\n",
        "\n",
        "          # Iterate through the sentence\n",
        "          for feat in feats:\n",
        "              alphas_t = []  # The forward tensors at this timestep\n",
        "              for next_tag in range(self.tagset_size):\n",
        "                  # broadcast the emission score: it is the same regardless of\n",
        "                  # the previous tag\n",
        "                  emit_score = feat[next_tag].view(\n",
        "                      1, -1).expand(1, self.tagset_size)\n",
        "                  # the ith entry of trans_score is the score of transitioning to\n",
        "                  # next_tag from i\n",
        "                  trans_score = self.transitions[next_tag].view(1, -1)\n",
        "                  # The ith entry of next_tag_var is the value for the\n",
        "                  # edge (i -> next_tag) before we do log-sum-exp\n",
        "                  next_tag_var = forward_var + trans_score + emit_score\n",
        "\n",
        "                  # The forward variable for this tag is log-sum-exp of all the\n",
        "                  # scores.\n",
        "                  alphas_t.append(log_sum_exp(next_tag_var).view(1))\n",
        "\n",
        "              forward_var = torch.cat(alphas_t).view(1, -1)\n",
        "          terminal_var = forward_var + self.transitions[self.tag_to_ix[STOP_TAG]]\n",
        "          alpha = log_sum_exp(terminal_var)\n",
        "          return alpha\n",
        "        \n",
        "        else:\n",
        "          init_alphas = torch.full((1, self.tagset_size), -10000.).to(device)\n",
        "          init_alphas[0][self.tag_to_ix[START_TAG]] = 0.\n",
        "          forward_var = init_alphas\n",
        "\n",
        "          for feat in feats:\n",
        "              alphas_t = []  # The forward tensors at this timestep\n",
        "              for next_tag in range(self.tagset_size):\n",
        "                  emit_score = feat[next_tag].view(1, -1).expand(1, self.tagset_size)\n",
        "                  next_tag_var = emit_score\n",
        "                  alphas_t.append(next_tag_var)\n",
        "              forward_var = torch.cat(alphas_t).view(1, -1)\n",
        "          terminal_var = forward_var\n",
        "          alpha = log_sum_exp(terminal_var)\n",
        "          return alpha\n",
        "\n",
        "    def _get_lstm_features(self, sentence_idx, sentence):\n",
        "        self.hidden = self.init_hidden()\n",
        "\n",
        "        embeds = None\n",
        "        if(self.embed_mode == 0): \n",
        "          # FastText50 + Domain Feature\n",
        "          embeds = torch.cat((self.word_embeds(sentence_idx),get_domain_feature(sentence)),dim=1).view(len(sentence_idx), 1, -1)\n",
        "        elif self.embed_mode == 1:\n",
        "           #FastText50\n",
        "          embeds = self.word_embeds(sentence_idx).view(len(sentence_idx), 1, -1)\n",
        "        elif self.embed_mode == 2: \n",
        "          # FastText50 + POS Tagging\n",
        "          embeds = torch.cat((self.word_embeds(sentence_idx),get_sent_pos_encoding(sentence)),dim=1).view(len(sentence_idx), 1, -1)\n",
        "        elif self.embed_mode == 3: \n",
        "          # FastText50 + POS Tagging + Domain Feature\n",
        "          embeds = torch.cat((self.word_embeds(sentence_idx),get_sent_pos_encoding(sentence),get_domain_feature(sentence)),dim=1).view(len(sentence_idx), 1, -1)\n",
        "\n",
        "        lstm_out, self.hidden = self.lstm(embeds, self.hidden)\n",
        "        lstm_out = lstm_out.view(len(sentence_idx), self.hidden_dim)\n",
        "\n",
        "        lstm_feats = self.hidden2tag(lstm_out)\n",
        "        lstm_feats = self.dropout(lstm_feats)\n",
        "        return lstm_feats\n",
        "\n",
        "    def _score_sentence(self, feats, tags):\n",
        "        # Gives the score of a provided tag sequence\n",
        "        score = torch.zeros(1).to(device)\n",
        "        tags = torch.cat([torch.tensor([self.tag_to_ix[START_TAG]], dtype=torch.long).to(device), tags])\n",
        "        for i, feat in enumerate(feats):\n",
        "            score = score + \\\n",
        "                self.transitions[tags[i + 1], tags[i]] + feat[tags[i + 1]]\n",
        "        score = score + self.transitions[self.tag_to_ix[STOP_TAG], tags[-1]]\n",
        "        return score\n",
        "\n",
        "    def _viterbi_decode(self, feats):\n",
        "        backpointers = []\n",
        "\n",
        "        # Initialize the viterbi variables in log space\n",
        "        init_vvars = torch.full((1, self.tagset_size), -10000.).to(device)\n",
        "        init_vvars[0][self.tag_to_ix[START_TAG]] = 0\n",
        "\n",
        "        # forward_var at step i holds the viterbi variables for step i-1\n",
        "        forward_var = init_vvars\n",
        "        for feat in feats:\n",
        "            bptrs_t = []  # holds the backpointers for this step\n",
        "            viterbivars_t = []  # holds the viterbi variables for this step\n",
        "\n",
        "            for next_tag in range(self.tagset_size):\n",
        "                # next_tag_var[i] holds the viterbi variable for tag i at the\n",
        "                # previous step, plus the score of transitioning\n",
        "                # from tag i to next_tag.\n",
        "                # We don't include the emission scores here because the max\n",
        "                # does not depend on them (we add them in below)\n",
        "                next_tag_var = forward_var + self.transitions[next_tag]\n",
        "                best_tag_id = argmax(next_tag_var)\n",
        "                bptrs_t.append(best_tag_id)\n",
        "                viterbivars_t.append(next_tag_var[0][best_tag_id].view(1))\n",
        "            # Now add in the emission scores, and assign forward_var to the set\n",
        "            # of viterbi variables we just computed\n",
        "            forward_var = (torch.cat(viterbivars_t) + feat).view(1, -1)\n",
        "            backpointers.append(bptrs_t)\n",
        "\n",
        "        # Transition to STOP_TAG\n",
        "        terminal_var = forward_var + self.transitions[self.tag_to_ix[STOP_TAG]]\n",
        "        best_tag_id = argmax(terminal_var)\n",
        "        path_score = terminal_var[0][best_tag_id]\n",
        "\n",
        "        # Follow the back pointers to decode the best path.\n",
        "        best_path = [best_tag_id]\n",
        "        for bptrs_t in reversed(backpointers):\n",
        "            best_tag_id = bptrs_t[best_tag_id]\n",
        "            best_path.append(best_tag_id)\n",
        "        # Pop off the start tag (we dont want to return that to the caller)\n",
        "        start = best_path.pop()\n",
        "        assert start == self.tag_to_ix[START_TAG]  # Sanity check\n",
        "        best_path.reverse()\n",
        "        return path_score, best_path\n",
        "\n",
        "    def neg_log_likelihood(self, sentence_idx, tags,sentence):\n",
        "        sent_feats = self._get_lstm_features(sentence_idx,sentence)\n",
        "\n",
        "        forward_score = self._forward_alg(sent_feats)\n",
        "        gold_score = self._score_sentence(sent_feats, tags)\n",
        "        return forward_score - gold_score\n",
        "\n",
        "    def cal_attention(self, hidden, encoder_hiddens):\n",
        "        if self.attn_type == 1:\n",
        "          # Dot Product\n",
        "            attn_weights = F.softmax(torch.bmm(hidden.T.unsqueeze(0), encoder_hiddens.unsqueeze(0)),dim=-1)\n",
        "            attn_output = torch.bmm(attn_weights, encoder_hiddens.T.unsqueeze(0))\n",
        "            concat_output = attn_output[0].T+ hidden\n",
        "\n",
        "        elif self.attn_type == 0:\n",
        "          # Scaled Dot Product\n",
        "            attn_weights = F.softmax(1/np.sqrt(self.hidden_dim)*torch.bmm(hidden.T.unsqueeze(0), encoder_hiddens.unsqueeze(0)),dim=-1)\n",
        "            attn_output = torch.bmm(attn_weights, encoder_hiddens.T.unsqueeze(0))\n",
        "\n",
        "            concat_output = attn_output[0].T + hidden\n",
        "        elif self.attn_type == 2:\n",
        "          # Cosine\n",
        "            attn_weights =  F.softmax(torch.cos(torch.bmm(hidden.T.unsqueeze(0), encoder_hiddens.unsqueeze(0))),dim=-1)\n",
        "            attn_output = torch.bmm(attn_weights, encoder_hiddens.T.unsqueeze(0))\n",
        "            concat_output = attn_output[0].T + hidden\n",
        "\n",
        "        return concat_output\n",
        "\n",
        "    def forward(self, sentence_idx,sentence):  # dont confuse this with _forward_alg above.\n",
        "        # Get the emission scores from the BiLSTM\n",
        "        lstm_feats = self._get_lstm_features(sentence_idx,sentence)\n",
        "        \n",
        "        res = None\n",
        "\n",
        "        for i,each in enumerate(lstm_feats):\n",
        "          concat_output = self.cal_attention(each.unsqueeze(0), self.hidden[-1][-1])\n",
        "          output = F.log_softmax(concat_output)\n",
        "          if i == 0:\n",
        "            res = output\n",
        "          else:\n",
        "            res = torch.cat((res,output),dim=0)\n",
        "        score, tag_seq = self._viterbi_decode(res)\n",
        "\n",
        "        return score, tag_seq"
      ],
      "metadata": {
        "id": "WSfWXJRf0kBA"
      },
      "execution_count": null,
      "outputs": []
    },
    {
      "cell_type": "code",
      "source": [
        "import numpy as np\n",
        "def cal_acc(model, input_index, output_index,sentence):\n",
        "  predicted=[elem for i,each in enumerate(input_index) for elem in model(torch.tensor(each, dtype=torch.long).to(device),sentence[i][0])[1]]\n",
        "  ground_truth=[each for line in output_index for each in line]\n",
        "\n",
        "\n",
        "  same = 0\n",
        "  for p,g in zip(predicted,ground_truth):\n",
        "    if p==g:\n",
        "      same+=1\n",
        "  \n",
        "  accuracy = same/len(predicted)\n",
        "\n",
        "  return predicted, ground_truth, accuracy"
      ],
      "metadata": {
        "id": "NBl0DXcKmlLa"
      },
      "execution_count": null,
      "outputs": []
    },
    {
      "cell_type": "markdown",
      "source": [
        "# 5. Evaluation Results"
      ],
      "metadata": {
        "id": "ljUWbtpXG6nF"
      }
    },
    {
      "cell_type": "markdown",
      "source": [
        "##5.1 Performance Comparison"
      ],
      "metadata": {
        "id": "CvNh1Os23DXt"
      }
    },
    {
      "cell_type": "markdown",
      "source": [
        "### 5.1.0 Bi-LSTM-CRF(Baseline from lab: Without attention)"
      ],
      "metadata": {
        "id": "T26Zf-ejHj0w"
      }
    },
    {
      "cell_type": "code",
      "source": [
        "result=[]"
      ],
      "metadata": {
        "id": "3RV5RFJDdNL0"
      },
      "execution_count": null,
      "outputs": []
    },
    {
      "cell_type": "code",
      "source": [
        "'''\n",
        "Define Model\n",
        "'''\n",
        "from tensorflow.python.framework.ops import Tensor\n",
        "import torch\n",
        "import torch.autograd as autograd\n",
        "import torch.nn as nn\n",
        "import torch.optim as optim\n",
        "\n",
        "def argmax(vec):\n",
        "    # return the argmax as a python int\n",
        "    _, idx = torch.max(vec, 1)\n",
        "    return idx.item()\n",
        "\n",
        "\n",
        "# Compute log sum exp in a numerically stable way for the forward algorithm\n",
        "def log_sum_exp(vec):\n",
        "    max_score = vec[0, argmax(vec)]\n",
        "    max_score_broadcast = max_score.view(1, -1).expand(1, vec.size()[1])\n",
        "    return max_score + \\\n",
        "        torch.log(torch.sum(torch.exp(vec - max_score_broadcast)))\n",
        "\n",
        "class BiLSTM_CRF_NATTN(nn.Module):\n",
        "    def __init__(self, vocab_size, tag_to_ix, embedding_dim, hidden_dim,dropout_p=0.1,num_layers = 1):\n",
        "        super(BiLSTM_CRF_NATTN, self).__init__()\n",
        "        self.embedding_dim = embedding_dim\n",
        "        self.hidden_dim = hidden_dim\n",
        "        self.vocab_size = vocab_size\n",
        "        self.tag_to_ix = tag_to_ix\n",
        "        self.tagset_size = len(tag_to_ix)\n",
        "        self.num_layers = num_layers\n",
        "\n",
        "        self.dropout_p = dropout_p\n",
        "        self.dropout = nn.Dropout(self.dropout_p)\n",
        "\n",
        "        self.word_embeds = nn.Embedding(vocab_size, 50)\n",
        "\n",
        "        \"\"\"Here we use the embedding matrix as the initial weights of nn.Embedding\"\"\"\n",
        "        self.word_embeds.weight.data.copy_(torch.from_numpy(embedding_matrix))\n",
        "        \n",
        "        self.lstm = nn.LSTM(embedding_dim+5, hidden_dim // 2,\n",
        "                            num_layers=self.num_layers, bidirectional=True)\n",
        "      \n",
        "\n",
        "        # Maps the output of the LSTM into tag space.\n",
        "        self.hidden2tag = nn.Linear(hidden_dim, self.tagset_size)\n",
        "\n",
        "        self.out = nn.Linear(1, self.tagset_size*2)\n",
        "\n",
        "        # Matrix of transition parameters.  Entry i,j is the score of\n",
        "        # transitioning *to* i *from* j.\n",
        "        self.transitions = nn.Parameter(\n",
        "            torch.randn(self.tagset_size, self.tagset_size))\n",
        "\n",
        "        # These two statements enforce the constraint that we never transfer\n",
        "        # to the start tag and we never transfer from the stop tag\n",
        "        self.transitions.data[tag_to_ix[START_TAG], :] = -10000\n",
        "        self.transitions.data[:, tag_to_ix[STOP_TAG]] = -10000\n",
        "\n",
        "        self.hidden = self.init_hidden()\n",
        "\n",
        "    def init_hidden(self):\n",
        "        return (torch.randn(self.num_layers*2, 1, self.hidden_dim // 2).to(device),\n",
        "                torch.randn(self.num_layers*2, 1, self.hidden_dim // 2).to(device))\n",
        "\n",
        "    def _forward_alg(self, feats):\n",
        "      # Do the forward algorithm to compute the partition function\n",
        "      init_alphas = torch.full((1, self.tagset_size), -10000.).to(device)\n",
        "      # START_TAG has all of the score.\n",
        "      init_alphas[0][self.tag_to_ix[START_TAG]] = 0.\n",
        "\n",
        "      # Wrap in a variable so that we will get automatic backprop\n",
        "      forward_var = init_alphas\n",
        "\n",
        "      # Iterate through the sentence\n",
        "      for feat in feats:\n",
        "          alphas_t = []  # The forward tensors at this timestep\n",
        "          for next_tag in range(self.tagset_size):\n",
        "              # broadcast the emission score: it is the same regardless of\n",
        "              # the previous tag\n",
        "              emit_score = feat[next_tag].view(\n",
        "                  1, -1).expand(1, self.tagset_size)\n",
        "              # the ith entry of trans_score is the score of transitioning to\n",
        "              # next_tag from i\n",
        "              trans_score = self.transitions[next_tag].view(1, -1)\n",
        "              # The ith entry of next_tag_var is the value for the\n",
        "              # edge (i -> next_tag) before we do log-sum-exp\n",
        "              next_tag_var = forward_var + trans_score + emit_score\n",
        "\n",
        "              # The forward variable for this tag is log-sum-exp of all the\n",
        "              # scores.\n",
        "              alphas_t.append(log_sum_exp(next_tag_var).view(1))\n",
        "\n",
        "          forward_var = torch.cat(alphas_t).view(1, -1)\n",
        "      terminal_var = forward_var + self.transitions[self.tag_to_ix[STOP_TAG]]\n",
        "      alpha = log_sum_exp(terminal_var)\n",
        "      return alpha\n",
        "\n",
        "    def _get_lstm_features(self, sentence_idx, sentence):\n",
        "        self.hidden = self.init_hidden()\n",
        "        embeds = torch.cat((self.word_embeds(sentence_idx),get_domain_feature(sentence)),dim=1).view(len(sentence_idx), 1, -1)\n",
        "        lstm_out, self.hidden = self.lstm(embeds, self.hidden)\n",
        "        lstm_out = lstm_out.view(len(sentence_idx), self.hidden_dim)\n",
        "\n",
        "        lstm_feats = self.hidden2tag(lstm_out)\n",
        "        lstm_feats = self.dropout(lstm_feats)\n",
        "        return lstm_feats\n",
        "\n",
        "    def _score_sentence(self, feats, tags):\n",
        "        # Gives the score of a provided tag sequence\n",
        "        score = torch.zeros(1).to(device)\n",
        "        tags = torch.cat([torch.tensor([self.tag_to_ix[START_TAG]], dtype=torch.long).to(device), tags])\n",
        "        for i, feat in enumerate(feats):\n",
        "            score = score + \\\n",
        "                self.transitions[tags[i + 1], tags[i]] + feat[tags[i + 1]]\n",
        "        score = score + self.transitions[self.tag_to_ix[STOP_TAG], tags[-1]]\n",
        "        return score\n",
        "\n",
        "    def _viterbi_decode(self, feats):\n",
        "        backpointers = []\n",
        "\n",
        "        # Initialize the viterbi variables in log space\n",
        "        init_vvars = torch.full((1, self.tagset_size), -10000.).to(device)\n",
        "        init_vvars[0][self.tag_to_ix[START_TAG]] = 0\n",
        "\n",
        "        # forward_var at step i holds the viterbi variables for step i-1\n",
        "        forward_var = init_vvars\n",
        "        for feat in feats:\n",
        "            bptrs_t = []  # holds the backpointers for this step\n",
        "            viterbivars_t = []  # holds the viterbi variables for this step\n",
        "\n",
        "            for next_tag in range(self.tagset_size):\n",
        "                # next_tag_var[i] holds the viterbi variable for tag i at the\n",
        "                # previous step, plus the score of transitioning\n",
        "                # from tag i to next_tag.\n",
        "                # We don't include the emission scores here because the max\n",
        "                # does not depend on them (we add them in below)\n",
        "                next_tag_var = forward_var + self.transitions[next_tag]\n",
        "                best_tag_id = argmax(next_tag_var)\n",
        "                bptrs_t.append(best_tag_id)\n",
        "                viterbivars_t.append(next_tag_var[0][best_tag_id].view(1))\n",
        "            # Now add in the emission scores, and assign forward_var to the set\n",
        "            # of viterbi variables we just computed\n",
        "            forward_var = (torch.cat(viterbivars_t) + feat).view(1, -1)\n",
        "            backpointers.append(bptrs_t)\n",
        "\n",
        "        # Transition to STOP_TAG\n",
        "        terminal_var = forward_var + self.transitions[self.tag_to_ix[STOP_TAG]]\n",
        "        best_tag_id = argmax(terminal_var)\n",
        "        path_score = terminal_var[0][best_tag_id]\n",
        "\n",
        "        # Follow the back pointers to decode the best path.\n",
        "        best_path = [best_tag_id]\n",
        "        for bptrs_t in reversed(backpointers):\n",
        "            best_tag_id = bptrs_t[best_tag_id]\n",
        "            best_path.append(best_tag_id)\n",
        "        # Pop off the start tag (we dont want to return that to the caller)\n",
        "        start = best_path.pop()\n",
        "        assert start == self.tag_to_ix[START_TAG]  # Sanity check\n",
        "        best_path.reverse()\n",
        "        return path_score, best_path\n",
        "\n",
        "    def neg_log_likelihood(self, sentence_idx, tags,sentence):\n",
        "        sent_feats = self._get_lstm_features(sentence_idx,sentence)\n",
        "\n",
        "        forward_score = self._forward_alg(sent_feats)\n",
        "        gold_score = self._score_sentence(sent_feats, tags)\n",
        "        return forward_score - gold_score\n",
        "\n",
        "    def forward(self, sentence_idx,sentence):  # dont confuse this with _forward_alg above.\n",
        "        # Get the emission scores from the BiLSTM\n",
        "        lstm_feats = self._get_lstm_features(sentence_idx,sentence)\n",
        "        \n",
        "        score, tag_seq = self._viterbi_decode(lstm_feats)\n",
        "        return score, tag_seq"
      ],
      "metadata": {
        "id": "C45Zey1rHvgZ"
      },
      "execution_count": null,
      "outputs": []
    },
    {
      "cell_type": "code",
      "source": [
        "'''\n",
        "Set up hyperparameter\n",
        "'''\n",
        "device = torch.device(\"cuda\" if torch.cuda.is_available() else \"cpu\")\n",
        "HIDDEN_DIM = 50\n",
        "\n",
        "model = BiLSTM_CRF_NATTN(len(word_to_ix), tag_to_ix, 50, HIDDEN_DIM).to(device)\n",
        "optimizer = optim.SGD(model.parameters(), lr=0.01, weight_decay=1e-4)"
      ],
      "metadata": {
        "id": "me4il0-MIUkk"
      },
      "execution_count": null,
      "outputs": []
    },
    {
      "cell_type": "code",
      "source": [
        "'''\n",
        "Start Training\n",
        "'''\n",
        "import datetime\n",
        "from tqdm import tqdm\n",
        "from sklearn.metrics import classification_report\n",
        "y_pred = None\n",
        "y_true = None\n",
        "\n",
        "for epoch in range(2):  \n",
        "    time1 = datetime.datetime.now()\n",
        "    train_loss = 0\n",
        "\n",
        "    model.train()\n",
        "    for i, idxs in tqdm(enumerate(train_input_index),total = len(train_input_index)):\n",
        "        tags_index = train_output_index[i]\n",
        "\n",
        "        # Step 1. Remember that Pytorch accumulates gradients.\n",
        "        # We need to clear them out before each instance\n",
        "        model.zero_grad()\n",
        "\n",
        "        # Step 2. Get our inputs ready for the network, that is,\n",
        "        # turn them into Tensors of word indices.\n",
        "        sentence_in = torch.tensor(idxs, dtype=torch.long).to(device)\n",
        "        targets = torch.tensor(tags_index, dtype=torch.long).to(device)\n",
        "\n",
        "        # Step 3. Run our forward pass.\n",
        "        loss = model.neg_log_likelihood(sentence_in, targets,pp_training_data_sents[i][0])\n",
        "\n",
        "        # Step 4. Compute the loss, gradients, and update the parameters by\n",
        "        # calling optimizer.step()\n",
        "        loss.backward()\n",
        "        optimizer.step()\n",
        "\n",
        "        train_loss+=loss.item()\n",
        "\n",
        "    model.eval()\n",
        "    # Call the cal_acc functions you implemented as required\n",
        "    _, _, train_acc = cal_acc(model,train_input_index,train_output_index,pp_training_data_sents)\n",
        "    y_pred,y_true, val_acc = cal_acc(model,val_input_index,val_output_index,pp_validation_data_sents)\n",
        "\n",
        "    val_loss = 0\n",
        "    for i, idxs in tqdm(enumerate(val_input_index),total = len(val_input_index)):\n",
        "        tags_index = val_output_index[i]\n",
        "        sentence_in = torch.tensor(idxs, dtype=torch.long).to(device)\n",
        "        targets = torch.tensor(tags_index, dtype=torch.long).to(device)\n",
        "        loss = model.neg_log_likelihood(sentence_in, targets,pp_validation_data_sents[i][0])\n",
        "        val_loss+=loss.item()\n",
        "    time2 = datetime.datetime.now()\n",
        "    print(\"\\nEpoch:%d, Training loss: %.2f, train acc: %.4f, val loss: %.2f, val acc: %.4f, time: %.2fs\" %(epoch+1, train_loss,train_acc, val_loss, val_acc, (time2-time1).total_seconds()))\n",
        "\n",
        "\n",
        "def decode_output(output_list):\n",
        "  ix_to_tag = {v:k for k,v in tag_to_ix.items()}\n",
        "  return [ix_to_tag[output] for output in output_list]\n",
        "\n",
        "y_true_decode = decode_output(y_true)\n",
        "y_pred_decode = decode_output(y_pred)\n",
        "\n",
        "result.append([\"No Attention & Domain Feature\",re.sub(r'( ){2,}',' ',classification_report(y_true_decode,y_pred_decode,digits=4).split(\"\\n\")[10]).strip().split(\" \")[1]])\n",
        "\n",
        "temp = [\"Bi-LSTM-CRF(Baseline) WIthout attention \"]\n",
        "current = classification_report(y_true_decode,y_pred_decode,digits=4)\n",
        "temp.append(re.sub(r'( ){2,}',' ',current.split(\"\\n\")[10]).strip().split(\" \")[1])\n",
        "temp.append(re.sub(r'( ){2,}',' ',current.split(\"\\n\")[8]).strip().split(\" \")[3])\n",
        "temp.append(re.sub(r'( ){2,}',' ',current.split(\"\\n\")[2]).strip().split(\" \")[3])\n",
        "temp.append(re.sub(r'( ){2,}',' ',current.split(\"\\n\")[3]).strip().split(\" \")[3])\n",
        "temp.append(re.sub(r'( ){2,}',' ',current.split(\"\\n\")[6]).strip().split(\" \")[3])\n",
        "temp.append(re.sub(r'( ){2,}',' ',current.split(\"\\n\")[5]).strip().split(\" \")[3])\n",
        "temp.append(re.sub(r'( ){2,}',' ',current.split(\"\\n\")[7]).strip().split(\" \")[3])\n",
        "temp.append(re.sub(r'( ){2,}',' ',current.split(\"\\n\")[4]).strip().split(\" \")[3])\n",
        "\n",
        "result.append(temp)"
      ],
      "metadata": {
        "colab": {
          "base_uri": "https://localhost:8080/"
        },
        "id": "iuWOi1MCIbJp",
        "outputId": "b849d15e-535c-492e-a9a4-a5c52853c96f"
      },
      "execution_count": null,
      "outputs": [
        {
          "output_type": "stream",
          "name": "stderr",
          "text": [
            "100%|██████████| 26078/26078 [07:30<00:00, 57.83it/s]\n",
            "100%|██████████| 8705/8705 [01:03<00:00, 136.54it/s]\n"
          ]
        },
        {
          "output_type": "stream",
          "name": "stdout",
          "text": [
            "\n",
            "Epoch:1, Training loss: 12170.55, train acc: 1.0000, val loss: 1338.73, val acc: 0.9961, time: 619.76s\n"
          ]
        },
        {
          "output_type": "stream",
          "name": "stderr",
          "text": [
            "100%|██████████| 26078/26078 [07:16<00:00, 59.80it/s]\n",
            "100%|██████████| 8705/8705 [01:03<00:00, 136.22it/s]\n"
          ]
        },
        {
          "output_type": "stream",
          "name": "stdout",
          "text": [
            "\n",
            "Epoch:2, Training loss: 2410.70, train acc: 1.0000, val loss: 1420.77, val acc: 0.9961, time: 605.53s\n"
          ]
        }
      ]
    },
    {
      "cell_type": "markdown",
      "source": [
        "### 5.1.1 Bi-LSTM-CRF"
      ],
      "metadata": {
        "id": "htm3z9nQ3Nc3"
      }
    },
    {
      "cell_type": "code",
      "source": [
        "'''\n",
        "This has been trainied and evaluated on the best model before.[Section 3]\n",
        "So the data is directly comes from Section3\n",
        "'''\n",
        "result.append([\"Bi-LSTM-CRF\",0.9961,0.9834,0.9877,0.9847,0.9964,0.9994,'1.0000',0.9966])"
      ],
      "metadata": {
        "id": "6Khxl0sF3NJA"
      },
      "execution_count": null,
      "outputs": []
    },
    {
      "cell_type": "markdown",
      "source": [
        "### 5.1.2 Bi-GRU-CRF"
      ],
      "metadata": {
        "id": "Ogjz9jGn3QLY"
      }
    },
    {
      "cell_type": "code",
      "source": [
        "from tensorflow.python.framework.ops import Tensor\n",
        "import torch\n",
        "import torch.autograd as autograd\n",
        "import torch.nn as nn\n",
        "import torch.optim as optim\n",
        "\n",
        "\n",
        "def argmax(vec):\n",
        "    # return the argmax as a python int\n",
        "    _, idx = torch.max(vec, 1)\n",
        "    return idx.item()\n",
        "\n",
        "\n",
        "# Compute log sum exp in a numerically stable way for the forward algorithm\n",
        "def log_sum_exp(vec):\n",
        "    max_score = vec[0, argmax(vec)]\n",
        "    max_score_broadcast = max_score.view(1, -1).expand(1, vec.size()[1])\n",
        "    return max_score + \\\n",
        "        torch.log(torch.sum(torch.exp(vec - max_score_broadcast)))\n",
        "\n",
        "class BiGRU_CRF(nn.Module):\n",
        "    ATTN_TYPE_DOT_PRODUCT = \"Dot Product\"\n",
        "    ATTN_TYPE_SCALE_DOT_PRODUCT = \"Scale Dot Product\"\n",
        "    ATTN_TYPE_COS = \"Content-based COS\" \n",
        "\n",
        "    def __init__(self, vocab_size, tag_to_ix, embedding_dim, hidden_dim,dropout_p=0.1):\n",
        "        super(BiGRU_CRF, self).__init__()\n",
        "        self.embedding_dim = embedding_dim\n",
        "        self.hidden_dim = hidden_dim\n",
        "        self.vocab_size = vocab_size\n",
        "        self.tag_to_ix = tag_to_ix\n",
        "        self.tagset_size = len(tag_to_ix)\n",
        "        self.num_layers = 1\n",
        "\n",
        "        self.dropout_p = dropout_p\n",
        "        self.dropout = nn.Dropout(self.dropout_p)\n",
        "\n",
        "        self.word_embeds = nn.Embedding(vocab_size, embedding_dim)\n",
        "\n",
        "        \"\"\"Here we use the embedding matrix as the initial weights of nn.Embedding\"\"\"\n",
        "        self.word_embeds.weight.data.copy_(torch.from_numpy(embedding_matrix))\n",
        "        \n",
        "        self.gru = nn.GRU(embedding_dim+5, hidden_dim // 2, num_layers=self.num_layers, bidirectional=True)\n",
        "\n",
        "        # Maps the output of the GRU into tag space.\n",
        "        self.hidden2tag = nn.Linear(hidden_dim, self.tagset_size)\n",
        "\n",
        "        self.out = nn.Linear(1, self.tagset_size*2)\n",
        "\n",
        "        # Matrix of transition parameters.  Entry i,j is the score of\n",
        "        # transitioning *to* i *from* j.\n",
        "        self.transitions = nn.Parameter(\n",
        "            torch.randn(self.tagset_size, self.tagset_size))\n",
        "\n",
        "        # These two statements enforce the constraint that we never transfer\n",
        "        # to the start tag and we never transfer from the stop tag\n",
        "        self.transitions.data[tag_to_ix[START_TAG], :] = -10000\n",
        "        self.transitions.data[:, tag_to_ix[STOP_TAG]] = -10000\n",
        "\n",
        "        self.hidden = self.init_hidden()\n",
        "\n",
        "    def init_hidden(self):\n",
        "        return (torch.randn(self.num_layers*2, 1, self.hidden_dim // 2).to(device),\n",
        "                torch.randn(self.num_layers*2, 1, self.hidden_dim // 2).to(device))\n",
        "\n",
        "    def _forward_alg(self, feats):\n",
        "        # Do the forward algorithm to compute the partition function\n",
        "        init_alphas = torch.full((1, self.tagset_size), -10000.).to(device)\n",
        "        # START_TAG has all of the score.\n",
        "        init_alphas[0][self.tag_to_ix[START_TAG]] = 0.\n",
        "\n",
        "        # Wrap in a variable so that we will get automatic backprop\n",
        "        forward_var = init_alphas\n",
        "\n",
        "        # Iterate through the sentence\n",
        "        for feat in feats:\n",
        "            alphas_t = []  # The forward tensors at this timestep\n",
        "            for next_tag in range(self.tagset_size):\n",
        "                # broadcast the emission score: it is the same regardless of\n",
        "                # the previous tag\n",
        "                emit_score = feat[next_tag].view(\n",
        "                    1, -1).expand(1, self.tagset_size)\n",
        "                # the ith entry of trans_score is the score of transitioning to\n",
        "                # next_tag from i\n",
        "                trans_score = self.transitions[next_tag].view(1, -1)\n",
        "                # The ith entry of next_tag_var is the value for the\n",
        "                # edge (i -> next_tag) before we do log-sum-exp\n",
        "                next_tag_var = forward_var + trans_score + emit_score\n",
        "\n",
        "                # The forward variable for this tag is log-sum-exp of all the\n",
        "                # scores.\n",
        "                alphas_t.append(log_sum_exp(next_tag_var).view(1))\n",
        "\n",
        "            forward_var = torch.cat(alphas_t).view(1, -1)\n",
        "        terminal_var = forward_var + self.transitions[self.tag_to_ix[STOP_TAG]]\n",
        "        alpha = log_sum_exp(terminal_var)\n",
        "        return alpha\n",
        "\n",
        "    def _get_gru_features(self, sentence_idx, sentence):\n",
        "        self.hidden = self.init_hidden()\n",
        "\n",
        "        embeds = torch.cat((self.word_embeds(sentence_idx),get_domain_feature(sentence)),dim=1).view(len(sentence_idx), 1, -1)\n",
        "\n",
        "        gru_out, self.hidden = self.gru(embeds, self.hidden[0])\n",
        "\n",
        "        gru_out =gru_out.view(len(sentence_idx), self.hidden_dim)\n",
        "\n",
        "        gru_feats = self.hidden2tag(gru_out)\n",
        "        gru_feats = self.dropout(gru_feats)\n",
        "        return gru_feats\n",
        "\n",
        "    def _score_sentence(self, feats, tags):\n",
        "        # Gives the score of a provided tag sequence\n",
        "        score = torch.zeros(1).to(device)\n",
        "        tags = torch.cat([torch.tensor([self.tag_to_ix[START_TAG]], dtype=torch.long).to(device), tags])\n",
        "        for i, feat in enumerate(feats):\n",
        "            score = score + \\\n",
        "                self.transitions[tags[i + 1], tags[i]] + feat[tags[i + 1]]\n",
        "        score = score + self.transitions[self.tag_to_ix[STOP_TAG], tags[-1]]\n",
        "        return score\n",
        "\n",
        "    def _viterbi_decode(self, feats):\n",
        "        backpointers = []\n",
        "\n",
        "        # Initialize the viterbi variables in log space\n",
        "        init_vvars = torch.full((1, self.tagset_size), -10000.).to(device)\n",
        "        init_vvars[0][self.tag_to_ix[START_TAG]] = 0\n",
        "\n",
        "        # forward_var at step i holds the viterbi variables for step i-1\n",
        "        forward_var = init_vvars\n",
        "        for feat in feats:\n",
        "            bptrs_t = []  # holds the backpointers for this step\n",
        "            viterbivars_t = []  # holds the viterbi variables for this step\n",
        "\n",
        "            for next_tag in range(self.tagset_size):\n",
        "                # next_tag_var[i] holds the viterbi variable for tag i at the\n",
        "                # previous step, plus the score of transitioning\n",
        "                # from tag i to next_tag.\n",
        "                # We don't include the emission scores here because the max\n",
        "                # does not depend on them (we add them in below)\n",
        "                next_tag_var = forward_var + self.transitions[next_tag]\n",
        "                best_tag_id = argmax(next_tag_var)\n",
        "                bptrs_t.append(best_tag_id)\n",
        "                viterbivars_t.append(next_tag_var[0][best_tag_id].view(1))\n",
        "            # Now add in the emission scores, and assign forward_var to the set\n",
        "            # of viterbi variables we just computed\n",
        "            forward_var = (torch.cat(viterbivars_t) + feat).view(1, -1)\n",
        "            backpointers.append(bptrs_t)\n",
        "\n",
        "        # Transition to STOP_TAG\n",
        "        terminal_var = forward_var + self.transitions[self.tag_to_ix[STOP_TAG]]\n",
        "        best_tag_id = argmax(terminal_var)\n",
        "        path_score = terminal_var[0][best_tag_id]\n",
        "\n",
        "        # Follow the back pointers to decode the best path.\n",
        "        best_path = [best_tag_id]\n",
        "        for bptrs_t in reversed(backpointers):\n",
        "            best_tag_id = bptrs_t[best_tag_id]\n",
        "            best_path.append(best_tag_id)\n",
        "        # Pop off the start tag (we dont want to return that to the caller)\n",
        "        start = best_path.pop()\n",
        "        assert start == self.tag_to_ix[START_TAG]  # Sanity check\n",
        "        best_path.reverse()\n",
        "        return path_score, best_path\n",
        "\n",
        "    def neg_log_likelihood(self, sentence_idx, tags,sentence):\n",
        "        sent_feats = self._get_gru_features(sentence_idx,sentence)\n",
        "\n",
        "        forward_score = self._forward_alg(sent_feats)\n",
        "        gold_score = self._score_sentence(sent_feats, tags)\n",
        "        return forward_score - gold_score\n",
        "\n",
        "    def cal_attention(self, hidden, encoder_hiddens, method):\n",
        "        if method == BiGRU_CRF.ATTN_TYPE_DOT_PRODUCT:\n",
        "            attn_weights = F.softmax(torch.bmm(hidden.T.unsqueeze(0), encoder_hiddens.unsqueeze(0)),dim=-1)\n",
        "            attn_output = torch.bmm(attn_weights, encoder_hiddens.T.unsqueeze(0))\n",
        "            concat_output = attn_output[0].T+ hidden\n",
        "        elif method == BiGRU_CRF.ATTN_TYPE_SCALE_DOT_PRODUCT:\n",
        "            attn_weights = F.softmax(1/np.sqrt(self.hidden_dim)*torch.bmm(hidden.T.unsqueeze(0), encoder_hiddens.unsqueeze(0)),dim=-1)\n",
        "            attn_output = torch.bmm(attn_weights, encoder_hiddens.T.unsqueeze(0))\n",
        "\n",
        "            concat_output = attn_output[0].T + hidden\n",
        "        elif method == BiGRU_CRF.ATTN_TYPE_COS:\n",
        "            attn_weights =  F.softmax(torch.cos(torch.bmm(hidden.T.unsqueeze(0), encoder_hiddens.unsqueeze(0))),dim=-1)\n",
        "            attn_output = torch.bmm(attn_weights, encoder_hiddens.T.unsqueeze(0))\n",
        "            concat_output = attn_output[0].T + hidden\n",
        "\n",
        "\n",
        "        return concat_output\n",
        "\n",
        "    def forward(self, sentence_idx,sentence):  # dont confuse this with _forward_alg above.\n",
        "        # Get the emission scores from the BiGRU\n",
        "        gru_feats = self._get_gru_features(sentence_idx,sentence)\n",
        "        \n",
        "\n",
        "        res = None\n",
        "        for i,each in enumerate(gru_feats):\n",
        "          concat_output = self.cal_attention(each.unsqueeze(0), self.hidden[-1][-1].unsqueeze(0), BiGRU_CRF.ATTN_TYPE_SCALE_DOT_PRODUCT) # GRU\n",
        "          output = F.log_softmax(concat_output)\n",
        "          if i == 0:\n",
        "            res = output\n",
        "          else:\n",
        "            res = torch.cat((res,output),dim=0)\n",
        "\n",
        "        # Find the best path, given the features.\n",
        "\n",
        "        score, tag_seq = self._viterbi_decode(res)\n",
        "        return score, tag_seq"
      ],
      "metadata": {
        "id": "C42iNeAz3DIH"
      },
      "execution_count": null,
      "outputs": []
    },
    {
      "cell_type": "code",
      "source": [
        "'''\n",
        "Set up hyperparameter\n",
        "'''\n",
        "device = torch.device(\"cuda\" if torch.cuda.is_available() else \"cpu\")\n",
        "HIDDEN_DIM = 50\n",
        "\n",
        "model = BiGRU_CRF(len(word_to_ix), tag_to_ix, 50, HIDDEN_DIM).to(device)\n",
        "optimizer = optim.SGD(model.parameters(), lr=0.01, weight_decay=1e-4)"
      ],
      "metadata": {
        "id": "_AzSBynN5NL5"
      },
      "execution_count": null,
      "outputs": []
    },
    {
      "cell_type": "code",
      "source": [
        "'''\n",
        "Start Training\n",
        "'''\n",
        "import datetime\n",
        "from tqdm import tqdm\n",
        "from sklearn.metrics import classification_report\n",
        "y_pred = None\n",
        "y_true = None\n",
        "\n",
        "for epoch in range(2):  \n",
        "    time1 = datetime.datetime.now()\n",
        "    train_loss = 0\n",
        "\n",
        "    model.train()\n",
        "    for i, idxs in tqdm(enumerate(train_input_index),total = len(train_input_index)):\n",
        "        tags_index = train_output_index[i]\n",
        "\n",
        "        # Step 1. Remember that Pytorch accumulates gradients.\n",
        "        # We need to clear them out before each instance\n",
        "        model.zero_grad()\n",
        "\n",
        "        # Step 2. Get our inputs ready for the network, that is,\n",
        "        # turn them into Tensors of word indices.\n",
        "        sentence_in = torch.tensor(idxs, dtype=torch.long).to(device)\n",
        "        targets = torch.tensor(tags_index, dtype=torch.long).to(device)\n",
        "\n",
        "        # Step 3. Run our forward pass.\n",
        "        loss = model.neg_log_likelihood(sentence_in, targets,(pp_training_data_sents)[i][0])\n",
        "\n",
        "        # Step 4. Compute the loss, gradients, and update the parameters by\n",
        "        # calling optimizer.step()\n",
        "        loss.backward()\n",
        "        optimizer.step()\n",
        "\n",
        "        train_loss+=loss.item()\n",
        "\n",
        "    model.eval()\n",
        "    # Call the cal_acc functions you implemented as required\n",
        "    _, _, train_acc = cal_acc(model,train_input_index,train_output_index,pp_training_data_sents)\n",
        "    y_pred,y_true, val_acc = cal_acc(model,val_input_index,val_output_index,pp_validation_data_sents)\n",
        "\n",
        "    val_loss = 0\n",
        "    for i, idxs in tqdm(enumerate(val_input_index),total = len(val_input_index)):\n",
        "        tags_index = val_output_index[i]\n",
        "        sentence_in = torch.tensor(idxs, dtype=torch.long).to(device)\n",
        "        targets = torch.tensor(tags_index, dtype=torch.long).to(device)\n",
        "        loss = model.neg_log_likelihood(sentence_in, targets,pp_validation_data_sents[i][0])\n",
        "        val_loss+=loss.item()\n",
        "    time2 = datetime.datetime.now()\n",
        "    print(\"\\nEpoch:%d, Training loss: %.2f, train acc: %.4f, val loss: %.2f, val acc: %.4f, time: %.2fs\" %(epoch+1, train_loss,train_acc, val_loss, val_acc, (time2-time1).total_seconds()))\n",
        "\n",
        "\n",
        "y_true_decode = decode_output(y_true)\n",
        "y_pred_decode = decode_output(y_pred)\n",
        "\n",
        "temp = [\"Bi-GRU-CRF\"]\n",
        "current = classification_report(y_true_decode,y_pred_decode,digits=4)\n",
        "temp.append(re.sub(r'( ){2,}',' ',current.split(\"\\n\")[10]).strip().split(\" \")[1])\n",
        "temp.append(re.sub(r'( ){2,}',' ',current.split(\"\\n\")[8]).strip().split(\" \")[3])\n",
        "temp.append(re.sub(r'( ){2,}',' ',current.split(\"\\n\")[2]).strip().split(\" \")[3])\n",
        "temp.append(re.sub(r'( ){2,}',' ',current.split(\"\\n\")[3]).strip().split(\" \")[3])\n",
        "temp.append(re.sub(r'( ){2,}',' ',current.split(\"\\n\")[6]).strip().split(\" \")[3])\n",
        "temp.append(re.sub(r'( ){2,}',' ',current.split(\"\\n\")[5]).strip().split(\" \")[3])\n",
        "temp.append(re.sub(r'( ){2,}',' ',current.split(\"\\n\")[7]).strip().split(\" \")[3])\n",
        "temp.append(re.sub(r'( ){2,}',' ',current.split(\"\\n\")[4]).strip().split(\" \")[3])\n",
        "\n",
        "result.append(temp)"
      ],
      "metadata": {
        "colab": {
          "base_uri": "https://localhost:8080/"
        },
        "id": "CKTF66uF5SrY",
        "outputId": "3aef030b-e2d4-4d28-9f53-3331f0db5e52"
      },
      "execution_count": null,
      "outputs": [
        {
          "output_type": "stream",
          "name": "stderr",
          "text": [
            "100%|██████████| 26078/26078 [07:37<00:00, 57.05it/s]\n",
            "/usr/local/lib/python3.7/dist-packages/ipykernel_launcher.py:206: UserWarning: Implicit dimension choice for log_softmax has been deprecated. Change the call to include dim=X as an argument.\n",
            "100%|██████████| 8705/8705 [01:03<00:00, 137.43it/s]\n"
          ]
        },
        {
          "output_type": "stream",
          "name": "stdout",
          "text": [
            "\n",
            "Epoch:1, Training loss: 8063.58, train acc: 1.0000, val loss: 1369.12, val acc: 0.9961, time: 650.53s\n"
          ]
        },
        {
          "output_type": "stream",
          "name": "stderr",
          "text": [
            "100%|██████████| 26078/26078 [07:14<00:00, 60.01it/s]\n",
            "100%|██████████| 8705/8705 [01:03<00:00, 137.22it/s]\n"
          ]
        },
        {
          "output_type": "stream",
          "name": "stdout",
          "text": [
            "\n",
            "Epoch:2, Training loss: 2255.70, train acc: 1.0000, val loss: 1502.33, val acc: 0.9961, time: 628.75s\n"
          ]
        }
      ]
    },
    {
      "cell_type": "markdown",
      "source": [
        "### 5.1.3 Draw Table"
      ],
      "metadata": {
        "id": "J1_jOEVf5x3M"
      }
    },
    {
      "cell_type": "code",
      "source": [
        "import numpy as np\n",
        "import pandas as pd\n",
        "import matplotlib.pyplot as plt\n",
        "import re\n",
        "\n",
        "fig1,ax1 = plt.subplots(1,1,figsize = (2,1),dpi = 200)\n",
        "ax1.axis('off')\n",
        "\n",
        "table = ax1.table(result,colLabels=['Seq-Seq Model','T-F1','T-F1(T)','T-F1(C)','T-F1(D)','T-F1(S)','T-F1(P)','T-F1(SEPA)','T-F1(O)'],loc='best',colWidths=([0.5]+[0.21]*8))\n",
        "table.auto_set_font_size(False)\n",
        "table.set_fontsize(8)\n",
        "table.scale(2, 2)"
      ],
      "metadata": {
        "colab": {
          "base_uri": "https://localhost:8080/",
          "height": 326
        },
        "id": "Lr2qa-xS5xU-",
        "outputId": "e11b8c92-b0b7-4b38-ad77-4460f438a299"
      },
      "execution_count": null,
      "outputs": [
        {
          "output_type": "display_data",
          "data": {
            "text/plain": [
              "<Figure size 400x200 with 1 Axes>"
            ],
            "image/png": "[encoded data removed]"
          },
          "metadata": {
            "needs_background": "light"
          }
        }
      ]
    },
    {
      "cell_type": "markdown",
      "source": [
        "## 5.2 Ablation Study - different input embedding model"
      ],
      "metadata": {
        "id": "fzOHfD1w0ka2"
      }
    },
    {
      "cell_type": "code",
      "source": [
        "result=[]"
      ],
      "metadata": {
        "id": "PGVghL8HPfgY"
      },
      "execution_count": null,
      "outputs": []
    },
    {
      "cell_type": "markdown",
      "source": [
        "### 5.2.1 BiLSTM+FastText50"
      ],
      "metadata": {
        "id": "ZTyT1LjX0sZL"
      }
    },
    {
      "cell_type": "code",
      "source": [
        "'''\n",
        "Set up hyperparameter\n",
        "'''\n",
        "device = torch.device(\"cuda\" if torch.cuda.is_available() else \"cpu\")\n",
        "HIDDEN_DIM = 50\n",
        "\n",
        "model = BiLSTM_CRF(len(word_to_ix), tag_to_ix, 50, HIDDEN_DIM,embed_mode = 1).to(device)\n",
        "optimizer = optim.SGD(model.parameters(), lr=0.01, weight_decay=1e-4)"
      ],
      "metadata": {
        "id": "DjZfh3nd4TNG"
      },
      "execution_count": null,
      "outputs": []
    },
    {
      "cell_type": "code",
      "source": [
        "'''\n",
        "Start Training\n",
        "'''\n",
        "import pickle\n",
        "import datetime\n",
        "from tqdm import tqdm\n",
        "from sklearn.metrics import classification_report\n",
        "y_pred = None\n",
        "y_true = None\n",
        "\n",
        "for epoch in range(2):  \n",
        "    time1 = datetime.datetime.now()\n",
        "    train_loss = 0\n",
        "\n",
        "    model.train()\n",
        "    for i, idxs in tqdm(enumerate(train_input_index),total = len(train_input_index)):\n",
        "        tags_index = train_output_index[i]\n",
        "\n",
        "        # Step 1. Remember that Pytorch accumulates gradients.\n",
        "        # We need to clear them out before each instance\n",
        "        model.zero_grad()\n",
        "\n",
        "        # Step 2. Get our inputs ready for the network, that is,\n",
        "        # turn them into Tensors of word indices.\n",
        "        sentence_in = torch.tensor(idxs, dtype=torch.long).to(device)\n",
        "        targets = torch.tensor(tags_index, dtype=torch.long).to(device)\n",
        "\n",
        "        # Step 3. Run our forward pass.\n",
        "        loss = model.neg_log_likelihood(sentence_in, targets,(pp_training_data_sents)[i][0])\n",
        "\n",
        "        # Step 4. Compute the loss, gradients, and update the parameters by\n",
        "        # calling optimizer.step()\n",
        "        loss.backward()\n",
        "        optimizer.step()\n",
        "\n",
        "        train_loss+=loss.item()\n",
        "\n",
        "    model.eval()\n",
        "    # Call the cal_acc functions you implemented as required\n",
        "    _, _, train_acc = cal_acc(model,train_input_index,train_output_index,pp_training_data_sents)\n",
        "    y_pred,y_true, val_acc = cal_acc(model,val_input_index,val_output_index,pp_validation_data_sents)\n",
        "\n",
        "    val_loss = 0\n",
        "    for i, idxs in tqdm(enumerate(val_input_index),total = len(val_input_index)):\n",
        "        tags_index = val_output_index[i]\n",
        "        sentence_in = torch.tensor(idxs, dtype=torch.long).to(device)\n",
        "        targets = torch.tensor(tags_index, dtype=torch.long).to(device)\n",
        "        loss = model.neg_log_likelihood(sentence_in, targets,pp_validation_data_sents[i][0])\n",
        "        val_loss+=loss.item()\n",
        "    time2 = datetime.datetime.now()\n",
        "    print(\"\\nEpoch:%d, Training loss: %.2f, train acc: %.4f, val loss: %.2f, val acc: %.4f, time: %.2fs\" %(epoch+1, train_loss,train_acc, val_loss, val_acc, (time2-time1).total_seconds()))\n",
        "\n",
        "\n",
        "def decode_output(output_list):\n",
        "  ix_to_tag = {v:k for k,v in tag_to_ix.items()}\n",
        "  return [ix_to_tag[output] for output in output_list]\n",
        "\n",
        "y_true_decode = decode_output(y_true)\n",
        "y_pred_decode = decode_output(y_pred)\n",
        "\n",
        "result.append(classification_report(y_true_decode,y_pred_decode,digits=4))\n",
        "print(result[-1])\n",
        "pickle.dump(result,open(\"/content/drive/MyDrive/Result.pkl\",'wb'))"
      ],
      "metadata": {
        "id": "MongE29X4YOj",
        "colab": {
          "base_uri": "https://localhost:8080/"
        },
        "outputId": "a8b177d5-d0bc-40ec-ade7-e3c09ca726a0"
      },
      "execution_count": null,
      "outputs": [
        {
          "output_type": "stream",
          "name": "stderr",
          "text": [
            "100%|██████████| 26078/26078 [06:57<00:00, 62.51it/s]\n",
            "/usr/local/lib/python3.7/dist-packages/ipykernel_launcher.py:214: UserWarning: Implicit dimension choice for log_softmax has been deprecated. Change the call to include dim=X as an argument.\n",
            "100%|██████████| 8705/8705 [00:58<00:00, 148.18it/s]\n"
          ]
        },
        {
          "output_type": "stream",
          "name": "stdout",
          "text": [
            "\n",
            "Epoch:1, Training loss: 28492.40, train acc: 0.9909, val loss: 1542.08, val acc: 0.9892, time: 592.92s\n"
          ]
        },
        {
          "output_type": "stream",
          "name": "stderr",
          "text": [
            "100%|██████████| 26078/26078 [06:54<00:00, 62.89it/s]\n",
            "100%|██████████| 8705/8705 [00:58<00:00, 148.66it/s]\n"
          ]
        },
        {
          "output_type": "stream",
          "name": "stdout",
          "text": [
            "\n",
            "Epoch:2, Training loss: 5068.94, train acc: 0.9989, val loss: 928.27, val acc: 0.9949, time: 589.76s\n",
            "              precision    recall  f1-score   support\n",
            "\n",
            "           C     0.9932    0.9762    0.9846      1641\n",
            "           D     0.9789    0.9322    0.9550       398\n",
            "           O     0.9935    0.9990    0.9962     18985\n",
            "           P     0.9987    0.9987    0.9987      3936\n",
            "           S     0.9991    0.9907    0.9949      3322\n",
            "        SEPA     1.0000    1.0000    1.0000      3603\n",
            "           T     0.9875    0.9666    0.9770      1469\n",
            "\n",
            "    accuracy                         0.9949     33354\n",
            "   macro avg     0.9930    0.9805    0.9866     33354\n",
            "weighted avg     0.9949    0.9949    0.9949     33354\n",
            "\n"
          ]
        }
      ]
    },
    {
      "cell_type": "markdown",
      "source": [
        "### 5.2.2 BiLSTM+FastText50+POS-Tagging"
      ],
      "metadata": {
        "id": "e4E1u5nV2qwq"
      }
    },
    {
      "cell_type": "code",
      "source": [
        "'''\n",
        "Set up hyperparameter\n",
        "'''\n",
        "device = torch.device(\"cuda\" if torch.cuda.is_available() else \"cpu\")\n",
        "HIDDEN_DIM = 50\n",
        "\n",
        "model = BiLSTM_CRF(len(word_to_ix), tag_to_ix, 100, HIDDEN_DIM,embed_mode = 2).to(device)\n",
        "optimizer = optim.SGD(model.parameters(), lr=0.01, weight_decay=1e-4)"
      ],
      "metadata": {
        "id": "2PPIKjVG7h0x"
      },
      "execution_count": null,
      "outputs": []
    },
    {
      "cell_type": "code",
      "source": [
        "'''\n",
        "Start Training\n",
        "'''\n",
        "import datetime\n",
        "from tqdm import tqdm\n",
        "from sklearn.metrics import classification_report\n",
        "y_pred = None\n",
        "y_true = None\n",
        "\n",
        "for epoch in range(2):  \n",
        "    time1 = datetime.datetime.now()\n",
        "    train_loss = 0\n",
        "\n",
        "    model.train()\n",
        "    for i, idxs in tqdm(enumerate(train_input_index),total = len(train_input_index)):\n",
        "        tags_index = train_output_index[i]\n",
        "\n",
        "        # Step 1. Remember that Pytorch accumulates gradients.\n",
        "        # We need to clear them out before each instance\n",
        "        model.zero_grad()\n",
        "\n",
        "        # Step 2. Get our inputs ready for the network, that is,\n",
        "        # turn them into Tensors of word indices.\n",
        "        sentence_in = torch.tensor(idxs, dtype=torch.long).to(device)\n",
        "        targets = torch.tensor(tags_index, dtype=torch.long).to(device)\n",
        "\n",
        "        # Step 3. Run our forward pass.\n",
        "        loss = model.neg_log_likelihood(sentence_in, targets,(pp_training_data_sents)[i][0])\n",
        "\n",
        "        # Step 4. Compute the loss, gradients, and update the parameters by\n",
        "        # calling optimizer.step()\n",
        "        loss.backward()\n",
        "        optimizer.step()\n",
        "\n",
        "        train_loss+=loss.item()\n",
        "\n",
        "    model.eval()\n",
        "    # Call the cal_acc functions you implemented as required\n",
        "    _, _, train_acc = cal_acc(model,train_input_index,train_output_index,pp_training_data_sents)\n",
        "    y_pred,y_true, val_acc = cal_acc(model,val_input_index,val_output_index,pp_validation_data_sents)\n",
        "\n",
        "    val_loss = 0\n",
        "    for i, idxs in tqdm(enumerate(val_input_index),total = len(val_input_index)):\n",
        "        tags_index = val_output_index[i]\n",
        "        sentence_in = torch.tensor(idxs, dtype=torch.long).to(device)\n",
        "        targets = torch.tensor(tags_index, dtype=torch.long).to(device)\n",
        "        loss = model.neg_log_likelihood(sentence_in, targets,pp_validation_data_sents[i][0])\n",
        "        val_loss+=loss.item()\n",
        "    time2 = datetime.datetime.now()\n",
        "    print(\"\\nEpoch:%d, Training loss: %.2f, train acc: %.4f, val loss: %.2f, val acc: %.4f, time: %.2fs\" %(epoch+1, train_loss,train_acc, val_loss, val_acc, (time2-time1).total_seconds()))\n",
        "\n",
        "\n",
        "y_true_decode = decode_output(y_true)\n",
        "y_pred_decode = decode_output(y_pred)\n",
        "\n",
        "result.append(classification_report(y_true_decode,y_pred_decode,digits=4))"
      ],
      "metadata": {
        "id": "6vRp5Ara7kxm",
        "colab": {
          "base_uri": "https://localhost:8080/"
        },
        "outputId": "c9948470-b4f1-4ab1-f0ad-478fdc5c6629"
      },
      "execution_count": null,
      "outputs": [
        {
          "output_type": "stream",
          "name": "stdout",
          "text": [
            "              precision    recall  f1-score   support\n",
            "\n",
            "           C     0.9889    0.9775    0.9831      1641\n",
            "           D     0.9919    0.9196    0.9544       398\n",
            "           O     0.9936    0.9995    0.9965     18985\n",
            "           P     0.9997    0.9987    0.9992      3936\n",
            "           S     0.9994    0.9916    0.9955      3322\n",
            "        SEPA     1.0000    1.0000    1.0000      3603\n",
            "           T     0.9902    0.9673    0.9787      1469\n",
            "\n",
            "    accuracy                         0.9952     33354\n",
            "   macro avg     0.9948    0.9792    0.9868     33354\n",
            "weighted avg     0.9952    0.9952    0.9952     33354\n",
            "\n"
          ]
        }
      ]
    },
    {
      "cell_type": "markdown",
      "source": [
        "### 5.2.3 BiLSTM+FastText50+DomainFeature"
      ],
      "metadata": {
        "id": "uYH_RBX720ar"
      }
    },
    {
      "cell_type": "code",
      "source": [
        "'''\n",
        "Set up hyperparameter\n",
        "'''\n",
        "device = torch.device(\"cuda\" if torch.cuda.is_available() else \"cpu\")\n",
        "HIDDEN_DIM = 50\n",
        "\n",
        "model = BiLSTM_CRF(len(word_to_ix), tag_to_ix, 55, HIDDEN_DIM,embed_mode = 0).to(device)\n",
        "optimizer = optim.SGD(model.parameters(), lr=0.01, weight_decay=1e-4)"
      ],
      "metadata": {
        "id": "aFY2cgRX9A7e"
      },
      "execution_count": null,
      "outputs": []
    },
    {
      "cell_type": "code",
      "source": [
        "'''\n",
        "Start Training\n",
        "'''\n",
        "import datetime\n",
        "from tqdm import tqdm\n",
        "from sklearn.metrics import classification_report\n",
        "y_pred = None\n",
        "y_true = None\n",
        "\n",
        "for epoch in range(2):  \n",
        "    time1 = datetime.datetime.now()\n",
        "    train_loss = 0\n",
        "\n",
        "    model.train()\n",
        "    for i, idxs in tqdm(enumerate(train_input_index),total = len(train_input_index)):\n",
        "        tags_index = train_output_index[i]\n",
        "\n",
        "        # Step 1. Remember that Pytorch accumulates gradients.\n",
        "        # We need to clear them out before each instance\n",
        "        model.zero_grad()\n",
        "\n",
        "        # Step 2. Get our inputs ready for the network, that is,\n",
        "        # turn them into Tensors of word indices.\n",
        "        sentence_in = torch.tensor(idxs, dtype=torch.long).to(device)\n",
        "        targets = torch.tensor(tags_index, dtype=torch.long).to(device)\n",
        "\n",
        "        # Step 3. Run our forward pass.\n",
        "        loss = model.neg_log_likelihood(sentence_in, targets,(pp_training_data_sents)[i][0])\n",
        "\n",
        "        # Step 4. Compute the loss, gradients, and update the parameters by\n",
        "        # calling optimizer.step()\n",
        "        loss.backward()\n",
        "        optimizer.step()\n",
        "\n",
        "        train_loss+=loss.item()\n",
        "\n",
        "    model.eval()\n",
        "    # Call the cal_acc functions you implemented as required\n",
        "    _, _, train_acc = cal_acc(model,train_input_index,train_output_index,pp_training_data_sents)\n",
        "    y_pred,y_true, val_acc = cal_acc(model,val_input_index,val_output_index,pp_validation_data_sents)\n",
        "\n",
        "    val_loss = 0\n",
        "    for i, idxs in tqdm(enumerate(val_input_index),total = len(val_input_index)):\n",
        "        tags_index = val_output_index[i]\n",
        "        sentence_in = torch.tensor(idxs, dtype=torch.long).to(device)\n",
        "        targets = torch.tensor(tags_index, dtype=torch.long).to(device)\n",
        "        loss = model.neg_log_likelihood(sentence_in, targets,pp_validation_data_sents[i][0])\n",
        "        val_loss+=loss.item()\n",
        "    time2 = datetime.datetime.now()\n",
        "    print(\"\\nEpoch:%d, Training loss: %.2f, train acc: %.4f, val loss: %.2f, val acc: %.4f, time: %.2fs\" %(epoch+1, train_loss,train_acc, val_loss, val_acc, (time2-time1).total_seconds()))\n",
        "\n",
        "\n",
        "def decode_output(output_list):\n",
        "  ix_to_tag = {v:k for k,v in tag_to_ix.items()}\n",
        "  return [ix_to_tag[output] for output in output_list]\n",
        "\n",
        "y_true_decode = decode_output(y_true)\n",
        "y_pred_decode = decode_output(y_pred)\n",
        "\n",
        "result.append(classification_report(y_true_decode,y_pred_decode,digits=4))"
      ],
      "metadata": {
        "id": "f77Vc0Fm9Bp6",
        "colab": {
          "base_uri": "https://localhost:8080/"
        },
        "outputId": "74a7bf55-3210-48fa-e817-35ff18380257"
      },
      "execution_count": null,
      "outputs": [
        {
          "output_type": "stream",
          "name": "stderr",
          "text": [
            "100%|██████████| 26078/26078 [06:49<00:00, 63.69it/s]\n",
            "/usr/local/lib/python3.7/dist-packages/ipykernel_launcher.py:214: UserWarning: Implicit dimension choice for log_softmax has been deprecated. Change the call to include dim=X as an argument.\n",
            "100%|██████████| 8705/8705 [00:58<00:00, 148.30it/s]\n"
          ]
        },
        {
          "output_type": "stream",
          "name": "stdout",
          "text": [
            "\n",
            "Epoch:1, Training loss: 12204.21, train acc: 1.0000, val loss: 1361.49, val acc: 0.9961, time: 589.62s\n"
          ]
        },
        {
          "output_type": "stream",
          "name": "stderr",
          "text": [
            "100%|██████████| 26078/26078 [06:44<00:00, 64.46it/s]\n",
            "100%|██████████| 8705/8705 [00:58<00:00, 148.47it/s]\n"
          ]
        },
        {
          "output_type": "stream",
          "name": "stdout",
          "text": [
            "\n",
            "Epoch:2, Training loss: 2381.55, train acc: 1.0000, val loss: 1448.21, val acc: 0.9961, time: 584.50s\n",
            "              precision    recall  f1-score   support\n",
            "\n",
            "           C     1.0000    0.9756    0.9877      1641\n",
            "           D     1.0000    0.9698    0.9847       398\n",
            "           O     0.9933    1.0000    0.9966     18985\n",
            "           P     1.0000    0.9987    0.9994      3936\n",
            "           S     1.0000    0.9928    0.9964      3322\n",
            "        SEPA     1.0000    1.0000    1.0000      3603\n",
            "           T     1.0000    0.9673    0.9834      1469\n",
            "\n",
            "    accuracy                         0.9961     33354\n",
            "   macro avg     0.9990    0.9863    0.9926     33354\n",
            "weighted avg     0.9962    0.9961    0.9961     33354\n",
            "\n"
          ]
        }
      ]
    },
    {
      "cell_type": "markdown",
      "source": [
        "### 5.2.4 BiLSTM+FastText50+POS-Tagging+DomainFeature"
      ],
      "metadata": {
        "id": "rCT9qP8S27Dx"
      }
    },
    {
      "cell_type": "code",
      "source": [
        "'''\n",
        "Set up hyperparameter\n",
        "'''\n",
        "device = torch.device(\"cuda\" if torch.cuda.is_available() else \"cpu\")\n",
        "HIDDEN_DIM = 50\n",
        "\n",
        "model = BiLSTM_CRF(len(word_to_ix), tag_to_ix, 105, HIDDEN_DIM,embed_mode = 3).to(device)\n",
        "optimizer = optim.SGD(model.parameters(), lr=0.01, weight_decay=1e-4)"
      ],
      "metadata": {
        "id": "9PLJlLqx9XiR"
      },
      "execution_count": null,
      "outputs": []
    },
    {
      "cell_type": "code",
      "source": [
        "'''\n",
        "Start Training\n",
        "'''\n",
        "import datetime\n",
        "from tqdm import tqdm\n",
        "from sklearn.metrics import classification_report\n",
        "y_pred = None\n",
        "y_true = None\n",
        "\n",
        "for epoch in range(2):  \n",
        "    time1 = datetime.datetime.now()\n",
        "    train_loss = 0\n",
        "\n",
        "    model.train()\n",
        "    for i, idxs in tqdm(enumerate(train_input_index),total = len(train_input_index)):\n",
        "        tags_index = train_output_index[i]\n",
        "\n",
        "        # Step 1. Remember that Pytorch accumulates gradients.\n",
        "        # We need to clear them out before each instance\n",
        "        model.zero_grad()\n",
        "\n",
        "        # Step 2. Get our inputs ready for the network, that is,\n",
        "        # turn them into Tensors of word indices.\n",
        "        sentence_in = torch.tensor(idxs, dtype=torch.long).to(device)\n",
        "        targets = torch.tensor(tags_index, dtype=torch.long).to(device)\n",
        "\n",
        "        # Step 3. Run our forward pass.\n",
        "        loss = model.neg_log_likelihood(sentence_in, targets,(pp_training_data_sents)[i][0])\n",
        "\n",
        "        # Step 4. Compute the loss, gradients, and update the parameters by\n",
        "        # calling optimizer.step()\n",
        "        loss.backward()\n",
        "        optimizer.step()\n",
        "\n",
        "        train_loss+=loss.item()\n",
        "\n",
        "    model.eval()\n",
        "    # Call the cal_acc functions you implemented as required\n",
        "    _, _, train_acc = cal_acc(model,train_input_index,train_output_index,pp_training_data_sents)\n",
        "    y_pred,y_true, val_acc = cal_acc(model,val_input_index,val_output_index,pp_validation_data_sents)\n",
        "\n",
        "    val_loss = 0\n",
        "    for i, idxs in tqdm(enumerate(val_input_index),total = len(val_input_index)):\n",
        "        tags_index = val_output_index[i]\n",
        "        sentence_in = torch.tensor(idxs, dtype=torch.long).to(device)\n",
        "        targets = torch.tensor(tags_index, dtype=torch.long).to(device)\n",
        "        loss = model.neg_log_likelihood(sentence_in, targets,pp_validation_data_sents[i][0])\n",
        "        val_loss+=loss.item()\n",
        "    time2 = datetime.datetime.now()\n",
        "    print(\"\\nEpoch:%d, Training loss: %.2f, train acc: %.4f, val loss: %.2f, val acc: %.4f, time: %.2fs\" %(epoch+1, train_loss,train_acc, val_loss, val_acc, (time2-time1).total_seconds()))\n",
        "\n",
        "\n",
        "def decode_output(output_list):\n",
        "  ix_to_tag = {v:k for k,v in tag_to_ix.items()}\n",
        "  return [ix_to_tag[output] for output in output_list]\n",
        "\n",
        "y_true_decode = decode_output(y_true)\n",
        "y_pred_decode = decode_output(y_pred)\n",
        "\n",
        "result.append(classification_report(y_true_decode,y_pred_decode,digits=4))"
      ],
      "metadata": {
        "id": "4UEutDBI9axo",
        "colab": {
          "base_uri": "https://localhost:8080/"
        },
        "outputId": "589eebcf-ea60-4060-fac6-f1d05876c961"
      },
      "execution_count": null,
      "outputs": [
        {
          "output_type": "stream",
          "name": "stderr",
          "text": [
            "100%|██████████| 26078/26078 [10:34<00:00, 41.08it/s]\n",
            "/usr/local/lib/python3.7/dist-packages/ipykernel_launcher.py:232: UserWarning: Implicit dimension choice for log_softmax has been deprecated. Change the call to include dim=X as an argument.\n",
            "100%|██████████| 8705/8705 [02:05<00:00, 69.17it/s]\n"
          ]
        },
        {
          "output_type": "stream",
          "name": "stdout",
          "text": [
            "\n",
            "Epoch:1, Training loss: 12273.25, train acc: 1.0000, val loss: 1311.38, val acc: 0.9961, time: 1120.91s\n"
          ]
        },
        {
          "output_type": "stream",
          "name": "stderr",
          "text": [
            "100%|██████████| 26078/26078 [10:24<00:00, 41.77it/s]\n",
            "100%|██████████| 8705/8705 [02:04<00:00, 69.90it/s]\n"
          ]
        },
        {
          "output_type": "stream",
          "name": "stdout",
          "text": [
            "\n",
            "Epoch:2, Training loss: 2439.77, train acc: 1.0000, val loss: 1397.10, val acc: 0.9961, time: 1107.71s\n",
            "              precision    recall  f1-score   support\n",
            "\n",
            "           C     1.0000    0.9756    0.9877      1641\n",
            "           D     1.0000    0.9698    0.9847       398\n",
            "           O     0.9933    1.0000    0.9966     18985\n",
            "           P     1.0000    0.9987    0.9994      3936\n",
            "           S     1.0000    0.9928    0.9964      3322\n",
            "        SEPA     1.0000    1.0000    1.0000      3603\n",
            "           T     1.0000    0.9673    0.9834      1469\n",
            "\n",
            "    accuracy                         0.9961     33354\n",
            "   macro avg     0.9990    0.9863    0.9926     33354\n",
            "weighted avg     0.9962    0.9961    0.9961     33354\n",
            "\n"
          ]
        }
      ]
    },
    {
      "cell_type": "markdown",
      "source": [
        "### 5.2.5 Draw Table"
      ],
      "metadata": {
        "id": "vsAByVtF26d_"
      }
    },
    {
      "cell_type": "code",
      "source": [
        "import numpy as np\n",
        "import pandas as pd\n",
        "import matplotlib.pyplot as plt\n",
        "import re\n",
        "\n",
        "fig1,ax1 = plt.subplots(1,1,figsize = (5,1),dpi = 200)\n",
        "ax1.axis('off')\n",
        "\n",
        "numeric_data=[]\n",
        "numeric_data.append([\"BiLSTM+FastText50\"])\n",
        "numeric_data.append([\"BiLSTM+FastText50+POS-Tagging\"])\n",
        "numeric_data.append([\"BiLSTM+FastText50+Domain-Feature\"])\n",
        "numeric_data.append([\"BiLSTM+FastText50+POS-Tagging+Domain-Feature\"])\n",
        "\n",
        "for i in range(4):\n",
        "  temp=numeric_data[i]\n",
        "  current = result[i]\n",
        "  temp.append(re.sub(r'( ){2,}',' ',current.split(\"\\n\")[10]).strip().split(\" \")[1])\n",
        "  temp.append(re.sub(r'( ){2,}',' ',current.split(\"\\n\")[8]).strip().split(\" \")[3])\n",
        "  temp.append(re.sub(r'( ){2,}',' ',current.split(\"\\n\")[2]).strip().split(\" \")[3])\n",
        "  temp.append(re.sub(r'( ){2,}',' ',current.split(\"\\n\")[3]).strip().split(\" \")[3])\n",
        "  temp.append(re.sub(r'( ){2,}',' ',current.split(\"\\n\")[6]).strip().split(\" \")[3])\n",
        "  temp.append(re.sub(r'( ){2,}',' ',current.split(\"\\n\")[5]).strip().split(\" \")[3])\n",
        "  temp.append(re.sub(r'( ){2,}',' ',current.split(\"\\n\")[7]).strip().split(\" \")[3])\n",
        "  temp.append(re.sub(r'( ){2,}',' ',current.split(\"\\n\")[4]).strip().split(\" \")[3])\n",
        "  # numeric_data.append(temp)\n",
        "\n",
        "\n",
        "# df = pd.DataFrame(np.array(numeric_data), columns=['Input Embedding Model','T-F1','T-F1(T)','T-F1(C)','T-F1(D)','T-F1(S)','T-F1(P)','T-F1(SEPA)','T-F1(O)'])\n",
        "\n",
        "table = ax1.table(numeric_data,colLabels=['Input Embedding Model','T-F1','T-F1(T)','T-F1(C)','T-F1(D)','T-F1(S)','T-F1(P)','T-F1(SEPA)','T-F1(O)'],loc='best',colWidths=([0.5]+[0.1]*8))\n",
        "table.auto_set_font_size(False)\n",
        "table.set_fontsize(8)\n",
        "table.scale(2, 2)"
      ],
      "metadata": {
        "id": "EJRdAvLmALPT",
        "colab": {
          "base_uri": "https://localhost:8080/",
          "height": 393
        },
        "outputId": "bb279a48-470f-452c-d362-f415684f53f7"
      },
      "execution_count": null,
      "outputs": [
        {
          "output_type": "display_data",
          "data": {
            "text/plain": [
              "<Figure size 1000x200 with 1 Axes>"
            ],
            "image/png": "[encoded data removed]"
          },
          "metadata": {
            "needs_background": "light"
          }
        }
      ]
    },
    {
      "cell_type": "markdown",
      "source": [
        "## 5.3 Ablation Study - different attention strategy"
      ],
      "metadata": {
        "id": "DKxm71JEXgj6"
      }
    },
    {
      "cell_type": "code",
      "source": [
        "result=[]"
      ],
      "metadata": {
        "id": "_wvj3_1OozCq"
      },
      "execution_count": null,
      "outputs": []
    },
    {
      "cell_type": "markdown",
      "source": [
        "### 5.3.0 Strategy: No attetion, No Domain Feature"
      ],
      "metadata": {
        "id": "DPURdEUaMn56"
      }
    },
    {
      "cell_type": "code",
      "source": [
        "'''\n",
        "Define Model\n",
        "'''\n",
        "from tensorflow.python.framework.ops import Tensor\n",
        "import torch\n",
        "import torch.autograd as autograd\n",
        "import torch.nn as nn\n",
        "import torch.optim as optim\n",
        "\n",
        "def argmax(vec):\n",
        "    # return the argmax as a python int\n",
        "    _, idx = torch.max(vec, 1)\n",
        "    return idx.item()\n",
        "\n",
        "\n",
        "# Compute log sum exp in a numerically stable way for the forward algorithm\n",
        "def log_sum_exp(vec):\n",
        "    max_score = vec[0, argmax(vec)]\n",
        "    max_score_broadcast = max_score.view(1, -1).expand(1, vec.size()[1])\n",
        "    return max_score + \\\n",
        "        torch.log(torch.sum(torch.exp(vec - max_score_broadcast)))\n",
        "\n",
        "class BiLSTM_CRF_NATTNDF(nn.Module):\n",
        "    def __init__(self, vocab_size, tag_to_ix, embedding_dim, hidden_dim,dropout_p=0.1,num_layers = 1):\n",
        "        super(BiLSTM_CRF_NATTNDF, self).__init__()\n",
        "        self.embedding_dim = embedding_dim\n",
        "        self.hidden_dim = hidden_dim\n",
        "        self.vocab_size = vocab_size\n",
        "        self.tag_to_ix = tag_to_ix\n",
        "        self.tagset_size = len(tag_to_ix)\n",
        "        self.num_layers = num_layers\n",
        "\n",
        "        self.dropout_p = dropout_p\n",
        "        self.dropout = nn.Dropout(self.dropout_p)\n",
        "\n",
        "        self.word_embeds = nn.Embedding(vocab_size, 50)\n",
        "\n",
        "        \"\"\"Here we use the embedding matrix as the initial weights of nn.Embedding\"\"\"\n",
        "        self.word_embeds.weight.data.copy_(torch.from_numpy(embedding_matrix))\n",
        "        \n",
        "        self.lstm = nn.LSTM(embedding_dim, hidden_dim // 2,\n",
        "                            num_layers=self.num_layers, bidirectional=True)\n",
        "      \n",
        "\n",
        "        # Maps the output of the LSTM into tag space.\n",
        "        self.hidden2tag = nn.Linear(hidden_dim, self.tagset_size)\n",
        "\n",
        "        self.out = nn.Linear(1, self.tagset_size*2)\n",
        "\n",
        "        # Matrix of transition parameters.  Entry i,j is the score of\n",
        "        # transitioning *to* i *from* j.\n",
        "        self.transitions = nn.Parameter(\n",
        "            torch.randn(self.tagset_size, self.tagset_size))\n",
        "\n",
        "        # These two statements enforce the constraint that we never transfer\n",
        "        # to the start tag and we never transfer from the stop tag\n",
        "        self.transitions.data[tag_to_ix[START_TAG], :] = -10000\n",
        "        self.transitions.data[:, tag_to_ix[STOP_TAG]] = -10000\n",
        "\n",
        "        self.hidden = self.init_hidden()\n",
        "\n",
        "    def init_hidden(self):\n",
        "        return (torch.randn(self.num_layers*2, 1, self.hidden_dim // 2).to(device),\n",
        "                torch.randn(self.num_layers*2, 1, self.hidden_dim // 2).to(device))\n",
        "\n",
        "    def _forward_alg(self, feats):\n",
        "      # Do the forward algorithm to compute the partition function\n",
        "      init_alphas = torch.full((1, self.tagset_size), -10000.).to(device)\n",
        "      # START_TAG has all of the score.\n",
        "      init_alphas[0][self.tag_to_ix[START_TAG]] = 0.\n",
        "\n",
        "      # Wrap in a variable so that we will get automatic backprop\n",
        "      forward_var = init_alphas\n",
        "\n",
        "      # Iterate through the sentence\n",
        "      for feat in feats:\n",
        "          alphas_t = []  # The forward tensors at this timestep\n",
        "          for next_tag in range(self.tagset_size):\n",
        "              # broadcast the emission score: it is the same regardless of\n",
        "              # the previous tag\n",
        "              emit_score = feat[next_tag].view(\n",
        "                  1, -1).expand(1, self.tagset_size)\n",
        "              # the ith entry of trans_score is the score of transitioning to\n",
        "              # next_tag from i\n",
        "              trans_score = self.transitions[next_tag].view(1, -1)\n",
        "              # The ith entry of next_tag_var is the value for the\n",
        "              # edge (i -> next_tag) before we do log-sum-exp\n",
        "              next_tag_var = forward_var + trans_score + emit_score\n",
        "\n",
        "              # The forward variable for this tag is log-sum-exp of all the\n",
        "              # scores.\n",
        "              alphas_t.append(log_sum_exp(next_tag_var).view(1))\n",
        "\n",
        "          forward_var = torch.cat(alphas_t).view(1, -1)\n",
        "      terminal_var = forward_var + self.transitions[self.tag_to_ix[STOP_TAG]]\n",
        "      alpha = log_sum_exp(terminal_var)\n",
        "      return alpha\n",
        "\n",
        "    def _get_lstm_features(self, sentence_idx, sentence):\n",
        "        self.hidden = self.init_hidden()\n",
        "        embeds = self.word_embeds(sentence_idx).view(len(sentence_idx), 1, -1)\n",
        "        lstm_out, self.hidden = self.lstm(embeds, self.hidden)\n",
        "        lstm_out = lstm_out.view(len(sentence_idx), self.hidden_dim)\n",
        "\n",
        "        lstm_feats = self.hidden2tag(lstm_out)\n",
        "        lstm_feats = self.dropout(lstm_feats)\n",
        "        return lstm_feats\n",
        "\n",
        "    def _score_sentence(self, feats, tags):\n",
        "        # Gives the score of a provided tag sequence\n",
        "        score = torch.zeros(1).to(device)\n",
        "        tags = torch.cat([torch.tensor([self.tag_to_ix[START_TAG]], dtype=torch.long).to(device), tags])\n",
        "        for i, feat in enumerate(feats):\n",
        "            score = score + \\\n",
        "                self.transitions[tags[i + 1], tags[i]] + feat[tags[i + 1]]\n",
        "        score = score + self.transitions[self.tag_to_ix[STOP_TAG], tags[-1]]\n",
        "        return score\n",
        "\n",
        "    def _viterbi_decode(self, feats):\n",
        "        backpointers = []\n",
        "\n",
        "        # Initialize the viterbi variables in log space\n",
        "        init_vvars = torch.full((1, self.tagset_size), -10000.).to(device)\n",
        "        init_vvars[0][self.tag_to_ix[START_TAG]] = 0\n",
        "\n",
        "        # forward_var at step i holds the viterbi variables for step i-1\n",
        "        forward_var = init_vvars\n",
        "        for feat in feats:\n",
        "            bptrs_t = []  # holds the backpointers for this step\n",
        "            viterbivars_t = []  # holds the viterbi variables for this step\n",
        "\n",
        "            for next_tag in range(self.tagset_size):\n",
        "                # next_tag_var[i] holds the viterbi variable for tag i at the\n",
        "                # previous step, plus the score of transitioning\n",
        "                # from tag i to next_tag.\n",
        "                # We don't include the emission scores here because the max\n",
        "                # does not depend on them (we add them in below)\n",
        "                next_tag_var = forward_var + self.transitions[next_tag]\n",
        "                best_tag_id = argmax(next_tag_var)\n",
        "                bptrs_t.append(best_tag_id)\n",
        "                viterbivars_t.append(next_tag_var[0][best_tag_id].view(1))\n",
        "            # Now add in the emission scores, and assign forward_var to the set\n",
        "            # of viterbi variables we just computed\n",
        "            forward_var = (torch.cat(viterbivars_t) + feat).view(1, -1)\n",
        "            backpointers.append(bptrs_t)\n",
        "\n",
        "        # Transition to STOP_TAG\n",
        "        terminal_var = forward_var + self.transitions[self.tag_to_ix[STOP_TAG]]\n",
        "        best_tag_id = argmax(terminal_var)\n",
        "        path_score = terminal_var[0][best_tag_id]\n",
        "\n",
        "        # Follow the back pointers to decode the best path.\n",
        "        best_path = [best_tag_id]\n",
        "        for bptrs_t in reversed(backpointers):\n",
        "            best_tag_id = bptrs_t[best_tag_id]\n",
        "            best_path.append(best_tag_id)\n",
        "        # Pop off the start tag (we dont want to return that to the caller)\n",
        "        start = best_path.pop()\n",
        "        assert start == self.tag_to_ix[START_TAG]  # Sanity check\n",
        "        best_path.reverse()\n",
        "        return path_score, best_path\n",
        "\n",
        "    def neg_log_likelihood(self, sentence_idx, tags,sentence):\n",
        "        sent_feats = self._get_lstm_features(sentence_idx,sentence)\n",
        "\n",
        "        forward_score = self._forward_alg(sent_feats)\n",
        "        gold_score = self._score_sentence(sent_feats, tags)\n",
        "        return forward_score - gold_score\n",
        "\n",
        "    def forward(self, sentence_idx,sentence):  # dont confuse this with _forward_alg above.\n",
        "        # Get the emission scores from the BiLSTM\n",
        "        lstm_feats = self._get_lstm_features(sentence_idx,sentence)\n",
        "        \n",
        "        score, tag_seq = self._viterbi_decode(lstm_feats)\n",
        "        return score, tag_seq"
      ],
      "metadata": {
        "id": "hJTG7EFwM3fE"
      },
      "execution_count": null,
      "outputs": []
    },
    {
      "cell_type": "code",
      "source": [
        "'''\n",
        "Set up hyperparameter\n",
        "'''\n",
        "device = torch.device(\"cuda\" if torch.cuda.is_available() else \"cpu\")\n",
        "HIDDEN_DIM = 50\n",
        "\n",
        "model = BiLSTM_CRF_NATTNDF(len(word_to_ix), tag_to_ix, 50, HIDDEN_DIM).to(device)\n",
        "optimizer = optim.SGD(model.parameters(), lr=0.01, weight_decay=1e-4)"
      ],
      "metadata": {
        "id": "pLzwfI_SNESp"
      },
      "execution_count": null,
      "outputs": []
    },
    {
      "cell_type": "code",
      "source": [
        "'''\n",
        "Start Training\n",
        "'''\n",
        "import datetime\n",
        "from tqdm import tqdm\n",
        "from sklearn.metrics import classification_report\n",
        "y_pred = None\n",
        "y_true = None\n",
        "\n",
        "for epoch in range(2):  \n",
        "    time1 = datetime.datetime.now()\n",
        "    train_loss = 0\n",
        "\n",
        "    model.train()\n",
        "    for i, idxs in tqdm(enumerate(train_input_index),total = len(train_input_index)):\n",
        "        tags_index = train_output_index[i]\n",
        "\n",
        "        # Step 1. Remember that Pytorch accumulates gradients.\n",
        "        # We need to clear them out before each instance\n",
        "        model.zero_grad()\n",
        "\n",
        "        # Step 2. Get our inputs ready for the network, that is,\n",
        "        # turn them into Tensors of word indices.\n",
        "        sentence_in = torch.tensor(idxs, dtype=torch.long).to(device)\n",
        "        targets = torch.tensor(tags_index, dtype=torch.long).to(device)\n",
        "\n",
        "        # Step 3. Run our forward pass.\n",
        "        loss = model.neg_log_likelihood(sentence_in, targets,pp_training_data_sents[i][0])\n",
        "\n",
        "        # Step 4. Compute the loss, gradients, and update the parameters by\n",
        "        # calling optimizer.step()\n",
        "        loss.backward()\n",
        "        optimizer.step()\n",
        "\n",
        "        train_loss+=loss.item()\n",
        "\n",
        "    model.eval()\n",
        "    # Call the cal_acc functions you implemented as required\n",
        "    _, _, train_acc = cal_acc(model,train_input_index,train_output_index,pp_training_data_sents)\n",
        "    y_pred,y_true, val_acc = cal_acc(model,val_input_index,val_output_index,pp_validation_data_sents)\n",
        "\n",
        "    val_loss = 0\n",
        "    for i, idxs in tqdm(enumerate(val_input_index),total = len(val_input_index)):\n",
        "        tags_index = val_output_index[i]\n",
        "        sentence_in = torch.tensor(idxs, dtype=torch.long).to(device)\n",
        "        targets = torch.tensor(tags_index, dtype=torch.long).to(device)\n",
        "        loss = model.neg_log_likelihood(sentence_in, targets,pp_validation_data_sents[i][0])\n",
        "        val_loss+=loss.item()\n",
        "    time2 = datetime.datetime.now()\n",
        "    print(\"\\nEpoch:%d, Training loss: %.2f, train acc: %.4f, val loss: %.2f, val acc: %.4f, time: %.2fs\" %(epoch+1, train_loss,train_acc, val_loss, val_acc, (time2-time1).total_seconds()))\n",
        "\n",
        "\n",
        "def decode_output(output_list):\n",
        "  ix_to_tag = {v:k for k,v in tag_to_ix.items()}\n",
        "  return [ix_to_tag[output] for output in output_list]\n",
        "\n",
        "y_true_decode = decode_output(y_true)\n",
        "y_pred_decode = decode_output(y_pred)\n",
        "\n",
        "result.append([\"No Attention without Domain Feature\",re.sub(r'( ){2,}',' ',classification_report(y_true_decode,y_pred_decode,digits=4).split(\"\\n\")[10]).strip().split(\" \")[1]])"
      ],
      "metadata": {
        "colab": {
          "base_uri": "https://localhost:8080/"
        },
        "id": "gNr1I5IdNHtI",
        "outputId": "1e3ddb3a-c012-40a0-db01-b479d392d982"
      },
      "execution_count": null,
      "outputs": [
        {
          "output_type": "stream",
          "name": "stderr",
          "text": [
            "100%|██████████| 26078/26078 [15:23<00:00, 28.22it/s]\n",
            "100%|██████████| 8705/8705 [01:49<00:00, 79.40it/s] \n"
          ]
        },
        {
          "output_type": "stream",
          "name": "stdout",
          "text": [
            "\n",
            "Epoch:1, Training loss: 28914.80, train acc: 0.9916, val loss: 1580.94, val acc: 0.9898, time: 1208.97s\n"
          ]
        },
        {
          "output_type": "stream",
          "name": "stderr",
          "text": [
            "100%|██████████| 26078/26078 [12:29<00:00, 34.78it/s]\n",
            "100%|██████████| 8705/8705 [01:47<00:00, 80.88it/s]\n"
          ]
        },
        {
          "output_type": "stream",
          "name": "stdout",
          "text": [
            "\n",
            "Epoch:2, Training loss: 5153.88, train acc: 0.9987, val loss: 975.76, val acc: 0.9950, time: 1044.47s\n"
          ]
        }
      ]
    },
    {
      "cell_type": "markdown",
      "source": [
        "### 5.3.1 Strategy: No attetion"
      ],
      "metadata": {
        "id": "aKuLNUfHXyRJ"
      }
    },
    {
      "cell_type": "code",
      "source": [
        "'''\n",
        "Define No Attention Model\n",
        "'''\n",
        "from tensorflow.python.framework.ops import Tensor\n",
        "import torch\n",
        "import torch.autograd as autograd\n",
        "import torch.nn as nn\n",
        "import torch.optim as optim\n",
        "\n",
        "def argmax(vec):\n",
        "    # return the argmax as a python int\n",
        "    _, idx = torch.max(vec, 1)\n",
        "    return idx.item()\n",
        "\n",
        "\n",
        "# Compute log sum exp in a numerically stable way for the forward algorithm\n",
        "def log_sum_exp(vec):\n",
        "    max_score = vec[0, argmax(vec)]\n",
        "    max_score_broadcast = max_score.view(1, -1).expand(1, vec.size()[1])\n",
        "    return max_score + \\\n",
        "        torch.log(torch.sum(torch.exp(vec - max_score_broadcast)))\n",
        "\n",
        "class BiLSTM_CRF_NoAttention(nn.Module):\n",
        "    def __init__(self, vocab_size, tag_to_ix, embedding_dim, hidden_dim,num_layers = 1):\n",
        "        super(BiLSTM_CRF_NoAttention, self).__init__()\n",
        "        self.embedding_dim = embedding_dim\n",
        "        self.hidden_dim = hidden_dim\n",
        "        self.vocab_size = vocab_size\n",
        "        self.tag_to_ix = tag_to_ix\n",
        "        self.tagset_size = len(tag_to_ix)\n",
        "\n",
        "        self.word_embeds = nn.Embedding(vocab_size, embedding_dim).to(device)\n",
        "        self.lstm = nn.LSTM(embedding_dim+5, hidden_dim // 2,\n",
        "                            num_layers=1, bidirectional=True)\n",
        "\n",
        "        # Maps the output of the LSTM into tag space.\n",
        "        self.hidden2tag = nn.Linear(hidden_dim, self.tagset_size)\n",
        "\n",
        "        # Matrix of transition parameters.  Entry i,j is the score of\n",
        "        # transitioning *to* i *from* j.\n",
        "        self.transitions = nn.Parameter(\n",
        "            torch.randn(self.tagset_size, self.tagset_size))\n",
        "\n",
        "        # These two statements enforce the constraint that we never transfer\n",
        "        # to the start tag and we never transfer from the stop tag\n",
        "        self.transitions.data[tag_to_ix[START_TAG], :] = -10000\n",
        "        self.transitions.data[:, tag_to_ix[STOP_TAG]] = -10000\n",
        "\n",
        "        self.hidden = self.init_hidden()\n",
        "\n",
        "    def init_hidden(self):\n",
        "        return (torch.randn(2, 1, self.hidden_dim // 2).to(device),\n",
        "                torch.randn(2, 1, self.hidden_dim // 2).to(device))\n",
        "\n",
        "    def _forward_alg(self, feats):\n",
        "        # Do the forward algorithm to compute the partition function\n",
        "        init_alphas = torch.full((1, self.tagset_size), -10000.).to(device)\n",
        "        # START_TAG has all of the score.\n",
        "        init_alphas[0][self.tag_to_ix[START_TAG]] = 0.\n",
        "\n",
        "        # Wrap in a variable so that we will get automatic backprop\n",
        "        forward_var = init_alphas\n",
        "\n",
        "        # Iterate through the sentence\n",
        "        for feat in feats:\n",
        "            alphas_t = []  # The forward tensors at this timestep\n",
        "            for next_tag in range(self.tagset_size):\n",
        "                # broadcast the emission score: it is the same regardless of\n",
        "                # the previous tag\n",
        "                emit_score = feat[next_tag].view(\n",
        "                    1, -1).expand(1, self.tagset_size)\n",
        "                # the ith entry of trans_score is the score of transitioning to\n",
        "                # next_tag from i\n",
        "                trans_score = self.transitions[next_tag].view(1, -1)\n",
        "                # The ith entry of next_tag_var is the value for the\n",
        "                # edge (i -> next_tag) before we do log-sum-exp\n",
        "                next_tag_var = forward_var + trans_score + emit_score\n",
        "                # The forward variable for this tag is log-sum-exp of all the\n",
        "                # scores.\n",
        "                alphas_t.append(log_sum_exp(next_tag_var).view(1))\n",
        "            forward_var = torch.cat(alphas_t).view(1, -1)\n",
        "        terminal_var = forward_var + self.transitions[self.tag_to_ix[STOP_TAG]]\n",
        "        alpha = log_sum_exp(terminal_var)\n",
        "        return alpha\n",
        "\n",
        "    def _get_lstm_features(self, sentence_idx, sentence):\n",
        "        self.hidden = self.init_hidden()\n",
        "        # FastText50 + Domain Feature\n",
        "        embeds = torch.cat((self.word_embeds(sentence_idx),get_domain_feature(sentence)),dim=1).view(len(sentence_idx), 1, -1)\n",
        "        \n",
        "        lstm_out, self.hidden = self.lstm(embeds, self.hidden)\n",
        "        lstm_out = lstm_out.view(len(sentence_idx), self.hidden_dim)\n",
        "\n",
        "        lstm_feats = self.hidden2tag(lstm_out)\n",
        "\n",
        "        return lstm_feats\n",
        "\n",
        "    def _score_sentence(self, feats, tags):\n",
        "        # Gives the score of a provided tag sequence\n",
        "        score = torch.zeros(1).to(device)\n",
        "        tags = torch.cat([torch.tensor([self.tag_to_ix[START_TAG]], dtype=torch.long).to(device), tags])\n",
        "        for i, feat in enumerate(feats):\n",
        "            score = score + \\\n",
        "                self.transitions[tags[i + 1], tags[i]] + feat[tags[i + 1]]\n",
        "        score = score + self.transitions[self.tag_to_ix[STOP_TAG], tags[-1]]\n",
        "        return score\n",
        "\n",
        "    def _viterbi_decode(self, feats):\n",
        "        backpointers = []\n",
        "\n",
        "        # Initialize the viterbi variables in log space\n",
        "        init_vvars = torch.full((1, self.tagset_size), -10000.).to(device)\n",
        "        init_vvars[0][self.tag_to_ix[START_TAG]] = 0\n",
        "\n",
        "        # forward_var at step i holds the viterbi variables for step i-1\n",
        "        forward_var = init_vvars\n",
        "        for feat in feats:\n",
        "            bptrs_t = []  # holds the backpointers for this step\n",
        "            viterbivars_t = []  # holds the viterbi variables for this step\n",
        "\n",
        "            for next_tag in range(self.tagset_size):\n",
        "                # next_tag_var[i] holds the viterbi variable for tag i at the\n",
        "                # previous step, plus the score of transitioning\n",
        "                # from tag i to next_tag.\n",
        "                # We don't include the emission scores here because the max\n",
        "                # does not depend on them (we add them in below)\n",
        "                next_tag_var = forward_var + self.transitions[next_tag]\n",
        "                best_tag_id = argmax(next_tag_var)\n",
        "                bptrs_t.append(best_tag_id)\n",
        "                viterbivars_t.append(next_tag_var[0][best_tag_id].view(1))\n",
        "            # Now add in the emission scores, and assign forward_var to the set\n",
        "            # of viterbi variables we just computed\n",
        "            forward_var = (torch.cat(viterbivars_t) + feat).view(1, -1)\n",
        "            backpointers.append(bptrs_t)\n",
        "\n",
        "        # Transition to STOP_TAG\n",
        "        terminal_var = forward_var + self.transitions[self.tag_to_ix[STOP_TAG]]\n",
        "        best_tag_id = argmax(terminal_var)\n",
        "        path_score = terminal_var[0][best_tag_id]\n",
        "\n",
        "        # Follow the back pointers to decode the best path.\n",
        "        best_path = [best_tag_id]\n",
        "        for bptrs_t in reversed(backpointers):\n",
        "            best_tag_id = bptrs_t[best_tag_id]\n",
        "            best_path.append(best_tag_id)\n",
        "        # Pop off the start tag (we dont want to return that to the caller)\n",
        "        start = best_path.pop()\n",
        "        assert start == self.tag_to_ix[START_TAG]  # Sanity check\n",
        "        best_path.reverse()\n",
        "        return path_score, best_path\n",
        "\n",
        "    def neg_log_likelihood(self, sentence_idx, tags,sentence):\n",
        "        sent_feats = self._get_lstm_features(sentence_idx,sentence)\n",
        "\n",
        "        forward_score = self._forward_alg(sent_feats)\n",
        "        gold_score = self._score_sentence(sent_feats, tags)\n",
        "        return forward_score - gold_score\n",
        "\n",
        "    def forward(self, sentence_idx,sentence):  # dont confuse this with _forward_alg above.\n",
        "        # Get the emission scores from the BiLSTM\n",
        "        lstm_feats = self._get_lstm_features(sentence_idx,sentence)\n",
        "\n",
        "        # Find the best path, given the features.\n",
        "        score, tag_seq = self._viterbi_decode(lstm_feats)\n",
        "        return score, tag_seq"
      ],
      "metadata": {
        "id": "G_F_Zy7CXyDX"
      },
      "execution_count": null,
      "outputs": []
    },
    {
      "cell_type": "code",
      "source": [
        "'''\n",
        "Set up hyperparameter\n",
        "'''\n",
        "device = torch.device(\"cuda\" if torch.cuda.is_available() else \"cpu\")\n",
        "HIDDEN_DIM = 50\n",
        "\n",
        "no_attention_model = BiLSTM_CRF_NoAttention(len(word_to_ix), tag_to_ix, 50, HIDDEN_DIM).to(device)\n",
        "optimizer = optim.SGD(no_attention_model.parameters(), lr=0.01, weight_decay=1e-4)"
      ],
      "metadata": {
        "id": "pQ8mrasKqSax"
      },
      "execution_count": null,
      "outputs": []
    },
    {
      "cell_type": "code",
      "source": [
        "'''\n",
        "Start Training\n",
        "'''\n",
        "import datetime\n",
        "from tqdm import tqdm\n",
        "from sklearn.metrics import classification_report\n",
        "y_pred = None\n",
        "y_true = None\n",
        "\n",
        "for epoch in range(2):  \n",
        "    time1 = datetime.datetime.now()\n",
        "    train_loss = 0\n",
        "\n",
        "    no_attention_model.train()\n",
        "    for i, idxs in tqdm(enumerate(train_input_index),total = len(train_input_index)):\n",
        "        tags_index = train_output_index[i]\n",
        "\n",
        "        # Step 1. Remember that Pytorch accumulates gradients.\n",
        "        # We need to clear them out before each instance\n",
        "        no_attention_model.zero_grad()\n",
        "\n",
        "        # Step 2. Get our inputs ready for the network, that is,\n",
        "        # turn them into Tensors of word indices.\n",
        "        sentence_in = torch.tensor(idxs, dtype=torch.long).to(device)\n",
        "        targets = torch.tensor(tags_index, dtype=torch.long).to(device)\n",
        "\n",
        "        # Step 3. Run our forward pass.\n",
        "        loss = no_attention_model.neg_log_likelihood(sentence_in, targets,(pp_training_data_sents)[i][0])\n",
        "\n",
        "        # Step 4. Compute the loss, gradients, and update the parameters by\n",
        "        # calling optimizer.step()\n",
        "        loss.backward()\n",
        "        optimizer.step()\n",
        "\n",
        "        train_loss+=loss.item()\n",
        "\n",
        "    no_attention_model.eval()\n",
        "    # Call the cal_acc functions you implemented as required\n",
        "    _, _, train_acc = cal_acc(no_attention_model,train_input_index,train_output_index,pp_training_data_sents)\n",
        "    y_pred,y_true, val_acc = cal_acc(no_attention_model,val_input_index,val_output_index,pp_validation_data_sents)\n",
        "\n",
        "    val_loss = 0\n",
        "    for i, idxs in tqdm(enumerate(val_input_index),total = len(val_input_index)):\n",
        "        tags_index = val_output_index[i]\n",
        "        sentence_in = torch.tensor(idxs, dtype=torch.long).to(device)\n",
        "        targets = torch.tensor(tags_index, dtype=torch.long).to(device)\n",
        "        loss = no_attention_model.neg_log_likelihood(sentence_in, targets,pp_validation_data_sents[i][0])\n",
        "        val_loss+=loss.item()\n",
        "    time2 = datetime.datetime.now()\n",
        "    print(\"\\nEpoch:%d, Training loss: %.2f, train acc: %.4f, val loss: %.2f, val acc: %.4f, time: %.2fs\" %(epoch+1, train_loss,train_acc, val_loss, val_acc, (time2-time1).total_seconds()))\n",
        "\n",
        "\n",
        "y_true_decode = decode_output(y_true)\n",
        "y_pred_decode = decode_output(y_pred)\n",
        "\n",
        "result.append([\"No Attention With Domain Feature\",re.sub(r'( ){2,}',' ',classification_report(y_true_decode,y_pred_decode,digits=4).split(\"\\n\")[10]).strip().split(\" \")[1]])"
      ],
      "metadata": {
        "colab": {
          "base_uri": "https://localhost:8080/"
        },
        "id": "PqWoM_wYqVlK",
        "outputId": "57c61cb0-86ce-490d-9785-975b5c8e0bd4"
      },
      "execution_count": null,
      "outputs": [
        {
          "output_type": "stream",
          "name": "stderr",
          "text": [
            "100%|██████████| 26078/26078 [07:13<00:00, 60.12it/s]\n",
            "100%|██████████| 8705/8705 [00:59<00:00, 146.75it/s]\n"
          ]
        },
        {
          "output_type": "stream",
          "name": "stdout",
          "text": [
            "\n",
            "Epoch:1, Training loss: 14154.02, train acc: 0.9999, val loss: 1322.01, val acc: 0.9960, time: 593.91s\n"
          ]
        },
        {
          "output_type": "stream",
          "name": "stderr",
          "text": [
            "100%|██████████| 26078/26078 [06:47<00:00, 63.97it/s]\n",
            "100%|██████████| 8705/8705 [00:59<00:00, 146.89it/s]\n"
          ]
        },
        {
          "output_type": "stream",
          "name": "stdout",
          "text": [
            "\n",
            "Epoch:2, Training loss: 220.10, train acc: 1.0000, val loss: 1405.21, val acc: 0.9961, time: 567.38s\n"
          ]
        }
      ]
    },
    {
      "cell_type": "markdown",
      "source": [
        "### 5.3.2 Strategy: Attention on Encoder and Decoder With Scaled Dot Product Without Domain Feature"
      ],
      "metadata": {
        "id": "ZFe7S8lBX9Lu"
      }
    },
    {
      "cell_type": "code",
      "source": [
        "'''\n",
        "Define Attention On Encoder Model with Scaled Dot Product\n",
        "'''\n",
        "from tensorflow.python.framework.ops import Tensor\n",
        "import torch\n",
        "import torch.autograd as autograd\n",
        "import torch.nn as nn\n",
        "import torch.optim as optim\n",
        "\n",
        "def argmax(vec):\n",
        "    # return the argmax as a python int\n",
        "    _, idx = torch.max(vec, 1)\n",
        "    return idx.item()\n",
        "\n",
        "\n",
        "# Compute log sum exp in a numerically stable way for the forward algorithm\n",
        "def log_sum_exp(vec):\n",
        "    max_score = vec[0, argmax(vec)]\n",
        "    max_score_broadcast = max_score.view(1, -1).expand(1, vec.size()[1])\n",
        "    return max_score + \\\n",
        "        torch.log(torch.sum(torch.exp(vec - max_score_broadcast)))\n",
        "\n",
        "class BiLSTM_CRF_Attention_On_Encoder(nn.Module):\n",
        "    ATTN_TYPE_DOT_PRODUCT = \"Dot Product\"\n",
        "    # We will practise the scaled dot product attention in the last section\n",
        "    ATTN_TYPE_SCALE_DOT_PRODUCT = \"Scale Dot Product\"\n",
        "    ATTN_TYPE_COS = \"Content-based COS\" \n",
        "\n",
        "    def __init__(self, vocab_size, tag_to_ix, embedding_dim, hidden_dim):\n",
        "        super(BiLSTM_CRF_Attention_On_Encoder, self).__init__()\n",
        "        self.embedding_dim = embedding_dim\n",
        "        self.hidden_dim = hidden_dim\n",
        "        self.vocab_size = vocab_size\n",
        "        self.tag_to_ix = tag_to_ix\n",
        "        self.tagset_size = len(tag_to_ix)\n",
        "        self.num_layers = 1\n",
        "\n",
        "\n",
        "        self.word_embeds = nn.Embedding(vocab_size, 50)\n",
        "\n",
        "        \"\"\"Here we use the embedding matrix as the initial weights of nn.Embedding\"\"\"\n",
        "        self.word_embeds.weight.data.copy_(torch.from_numpy(embedding_matrix))\n",
        "        \n",
        "        self.lstm = nn.LSTM(embedding_dim, hidden_dim // 2,\n",
        "                            num_layers=self.num_layers, bidirectional=True)\n",
        "      \n",
        "\n",
        "        # Maps the output of the LSTM into tag space.\n",
        "        self.hidden2tag = nn.Linear(hidden_dim, self.tagset_size)\n",
        "\n",
        "        self.out = nn.Linear(1, self.tagset_size*2)\n",
        "\n",
        "        # Matrix of transition parameters.  Entry i,j is the score of\n",
        "        # transitioning *to* i *from* j.\n",
        "        self.transitions = nn.Parameter(\n",
        "            torch.randn(self.tagset_size, self.tagset_size))\n",
        "\n",
        "        # These two statements enforce the constraint that we never transfer\n",
        "        # to the start tag and we never transfer from the stop tag\n",
        "        self.transitions.data[tag_to_ix[START_TAG], :] = -10000\n",
        "        self.transitions.data[:, tag_to_ix[STOP_TAG]] = -10000\n",
        "\n",
        "        self.hidden = self.init_hidden()\n",
        "\n",
        "    def init_hidden(self):\n",
        "        return (torch.randn(self.num_layers*2, 1, self.hidden_dim // 2).to(device),\n",
        "                torch.randn(self.num_layers*2, 1, self.hidden_dim // 2).to(device))\n",
        "\n",
        "    def _forward_alg(self, feats):\n",
        "        # Do the forward algorithm to compute the partition function\n",
        "        init_alphas = torch.full((1, self.tagset_size), -10000.).to(device)\n",
        "        # START_TAG has all of the score.\n",
        "        init_alphas[0][self.tag_to_ix[START_TAG]] = 0.\n",
        "\n",
        "        # Wrap in a variable so that we will get automatic backprop\n",
        "        forward_var = init_alphas\n",
        "\n",
        "        # Iterate through the sentence\n",
        "        for feat in feats:\n",
        "            alphas_t = []  # The forward tensors at this timestep\n",
        "            for next_tag in range(self.tagset_size):\n",
        "                # broadcast the emission score: it is the same regardless of\n",
        "                # the previous tag\n",
        "                emit_score = feat[next_tag].view(\n",
        "                    1, -1).expand(1, self.tagset_size)\n",
        "                # the ith entry of trans_score is the score of transitioning to\n",
        "                # next_tag from i\n",
        "                trans_score = self.transitions[next_tag].view(1, -1)\n",
        "                # The ith entry of next_tag_var is the value for the\n",
        "                # edge (i -> next_tag) before we do log-sum-exp\n",
        "                next_tag_var = forward_var + trans_score + emit_score\n",
        "\n",
        "                # The forward variable for this tag is log-sum-exp of all the\n",
        "                # scores.\n",
        "                alphas_t.append(log_sum_exp(next_tag_var).view(1))\n",
        "\n",
        "            forward_var = torch.cat(alphas_t).view(1, -1)\n",
        "        terminal_var = forward_var + self.transitions[self.tag_to_ix[STOP_TAG]]\n",
        "        alpha = log_sum_exp(terminal_var)\n",
        "        return alpha\n",
        "\n",
        "    def _get_lstm_features(self, sentence_idx, sentence):\n",
        "        self.hidden = self.init_hidden()\n",
        "\n",
        "        # FastText50 + Domain Feature\n",
        "        embeds = self.word_embeds(sentence_idx).view(len(sentence_idx), 1, -1)\n",
        "        \n",
        "        lstm_out, self.hidden = self.lstm(embeds, self.hidden)\n",
        "        lstm_out = lstm_out.view(len(sentence_idx), self.hidden_dim)\n",
        "        res=None\n",
        "        for i,each in enumerate(lstm_out):\n",
        "          concat_output = self.cal_attention(each.unsqueeze(0), self.hidden[-1][-1], BiLSTM_CRF_Attention_On_Encoder.ATTN_TYPE_SCALE_DOT_PRODUCT)\n",
        "          output = F.log_softmax(concat_output)\n",
        "          if i == 0:\n",
        "            res = output\n",
        "          else:\n",
        "            res = torch.cat((res,output),dim=0)\n",
        "\n",
        "        lstm_feats = self.hidden2tag(res)\n",
        "        return lstm_feats\n",
        "\n",
        "    def _score_sentence(self, feats, tags):\n",
        "        # Gives the score of a provided tag sequence\n",
        "        score = torch.zeros(1).to(device)\n",
        "        tags = torch.cat([torch.tensor([self.tag_to_ix[START_TAG]], dtype=torch.long).to(device), tags])\n",
        "        for i, feat in enumerate(feats):\n",
        "            score = score + \\\n",
        "                self.transitions[tags[i + 1], tags[i]] + feat[tags[i + 1]]\n",
        "        score = score + self.transitions[self.tag_to_ix[STOP_TAG], tags[-1]]\n",
        "        return score\n",
        "\n",
        "    def _viterbi_decode(self, feats):\n",
        "        backpointers = []\n",
        "\n",
        "        # Initialize the viterbi variables in log space\n",
        "        init_vvars = torch.full((1, self.tagset_size), -10000.).to(device)\n",
        "        init_vvars[0][self.tag_to_ix[START_TAG]] = 0\n",
        "\n",
        "        # forward_var at step i holds the viterbi variables for step i-1\n",
        "        forward_var = init_vvars\n",
        "        for feat in feats:\n",
        "            bptrs_t = []  # holds the backpointers for this step\n",
        "            viterbivars_t = []  # holds the viterbi variables for this step\n",
        "\n",
        "            for next_tag in range(self.tagset_size):\n",
        "                # next_tag_var[i] holds the viterbi variable for tag i at the\n",
        "                # previous step, plus the score of transitioning\n",
        "                # from tag i to next_tag.\n",
        "                # We don't include the emission scores here because the max\n",
        "                # does not depend on them (we add them in below)\n",
        "                next_tag_var = forward_var + self.transitions[next_tag]\n",
        "                best_tag_id = argmax(next_tag_var)\n",
        "                bptrs_t.append(best_tag_id)\n",
        "                viterbivars_t.append(next_tag_var[0][best_tag_id].view(1))\n",
        "            # Now add in the emission scores, and assign forward_var to the set\n",
        "            # of viterbi variables we just computed\n",
        "            forward_var = (torch.cat(viterbivars_t) + feat).view(1, -1)\n",
        "            backpointers.append(bptrs_t)\n",
        "\n",
        "        # Transition to STOP_TAG\n",
        "        terminal_var = forward_var + self.transitions[self.tag_to_ix[STOP_TAG]]\n",
        "        best_tag_id = argmax(terminal_var)\n",
        "        path_score = terminal_var[0][best_tag_id]\n",
        "\n",
        "        # Follow the back pointers to decode the best path.\n",
        "        best_path = [best_tag_id]\n",
        "        for bptrs_t in reversed(backpointers):\n",
        "            best_tag_id = bptrs_t[best_tag_id]\n",
        "            best_path.append(best_tag_id)\n",
        "        # Pop off the start tag (we dont want to return that to the caller)\n",
        "        start = best_path.pop()\n",
        "        assert start == self.tag_to_ix[START_TAG]  # Sanity check\n",
        "        best_path.reverse()\n",
        "        return path_score, best_path\n",
        "\n",
        "    def neg_log_likelihood(self, sentence_idx, tags,sentence):\n",
        "        sent_feats = self._get_lstm_features(sentence_idx,sentence)\n",
        "\n",
        "        forward_score = self._forward_alg(sent_feats)\n",
        "        gold_score = self._score_sentence(sent_feats, tags)\n",
        "        return forward_score - gold_score\n",
        "\n",
        "    def cal_attention(self, hidden, encoder_hiddens, method):\n",
        "        if method == BiLSTM_CRF_Attention_On_Encoder.ATTN_TYPE_DOT_PRODUCT:\n",
        "            # bmm: https://pytorch.org/docs/master/generated/torch.bmm.html\n",
        "            attn_weights = F.softmax(torch.bmm(hidden.T.unsqueeze(0), encoder_hiddens.unsqueeze(0)),dim=-1)\n",
        "            attn_output = torch.bmm(attn_weights, encoder_hiddens.T.unsqueeze(0))\n",
        "            concat_output = attn_output[0].T+ hidden\n",
        "            \n",
        "        elif method == BiLSTM_CRF_Attention_On_Encoder.ATTN_TYPE_SCALE_DOT_PRODUCT:\n",
        "            attn_weights = F.softmax(1/np.sqrt(self.hidden_dim)*torch.bmm(hidden.T.unsqueeze(0), encoder_hiddens.unsqueeze(0)),dim=-1)\n",
        "            attn_output = torch.bmm(attn_weights, encoder_hiddens.T.unsqueeze(0))\n",
        "\n",
        "            concat_output = attn_output[0].T + hidden\n",
        "        elif method == BiLSTM_CRF_Attention_On_Encoder.ATTN_TYPE_COS:\n",
        "            attn_weights =  F.softmax(torch.cos(torch.bmm(hidden.T.unsqueeze(0), encoder_hiddens.unsqueeze(0))),dim=-1)\n",
        "            attn_output = torch.bmm(attn_weights, encoder_hiddens.T.unsqueeze(0))\n",
        "            concat_output = attn_output[0].T + hidden\n",
        "        return concat_output\n",
        "\n",
        "    def forward(self, sentence_idx,sentence):  # dont confuse this with _forward_alg above.\n",
        "        # Get the emission scores from the BiLSTM\n",
        "        lstm_feats = self._get_lstm_features(sentence_idx,sentence)\n",
        "\n",
        "        # Find the best path, given the features.\n",
        "        score, tag_seq = self._viterbi_decode(lstm_feats)\n",
        "        return score, tag_seq"
      ],
      "metadata": {
        "id": "o0LwseBlX8y8"
      },
      "execution_count": null,
      "outputs": []
    },
    {
      "cell_type": "code",
      "source": [
        "'''\n",
        "Set up hyperparameter\n",
        "'''\n",
        "device = torch.device(\"cuda\" if torch.cuda.is_available() else \"cpu\")\n",
        "HIDDEN_DIM = 50\n",
        "\n",
        "model = BiLSTM_CRF_Attention_On_Encoder(len(word_to_ix), tag_to_ix, 50, HIDDEN_DIM).to(device)\n",
        "optimizer = optim.SGD(model.parameters(), lr=0.01, weight_decay=1e-4)"
      ],
      "metadata": {
        "id": "JdvXlra7r9Ef"
      },
      "execution_count": null,
      "outputs": []
    },
    {
      "cell_type": "code",
      "source": [
        "'''\n",
        "Start Training\n",
        "'''\n",
        "import datetime\n",
        "from tqdm import tqdm\n",
        "from sklearn.metrics import classification_report\n",
        "y_pred = None\n",
        "y_true = None\n",
        "\n",
        "for epoch in range(2):  \n",
        "    time1 = datetime.datetime.now()\n",
        "    train_loss = 0\n",
        "\n",
        "    model.train()\n",
        "    for i, idxs in tqdm(enumerate(train_input_index),total = len(train_input_index)):\n",
        "        tags_index = train_output_index[i]\n",
        "\n",
        "        # Step 1. Remember that Pytorch accumulates gradients.\n",
        "        # We need to clear them out before each instance\n",
        "        model.zero_grad()\n",
        "\n",
        "        # Step 2. Get our inputs ready for the network, that is,\n",
        "        # turn them into Tensors of word indices.\n",
        "        sentence_in = torch.tensor(idxs, dtype=torch.long).to(device)\n",
        "        targets = torch.tensor(tags_index, dtype=torch.long).to(device)\n",
        "\n",
        "        # Step 3. Run our forward pass.\n",
        "        loss = model.neg_log_likelihood(sentence_in, targets,(pp_training_data_sents)[i][0])\n",
        "\n",
        "        # Step 4. Compute the loss, gradients, and update the parameters by\n",
        "        # calling optimizer.step()\n",
        "        loss.backward()\n",
        "        optimizer.step()\n",
        "\n",
        "        train_loss+=loss.item()\n",
        "\n",
        "    model.eval()\n",
        "    # Call the cal_acc functions you implemented as required\n",
        "    _, _, train_acc = cal_acc(model,train_input_index,train_output_index,pp_training_data_sents)\n",
        "    y_pred,y_true, val_acc = cal_acc(model,val_input_index,val_output_index,pp_validation_data_sents)\n",
        "\n",
        "    val_loss = 0\n",
        "    for i, idxs in tqdm(enumerate(val_input_index),total = len(val_input_index)):\n",
        "        tags_index = val_output_index[i]\n",
        "        sentence_in = torch.tensor(idxs, dtype=torch.long).to(device)\n",
        "        targets = torch.tensor(tags_index, dtype=torch.long).to(device)\n",
        "        loss = model.neg_log_likelihood(sentence_in, targets,pp_validation_data_sents[i][0])\n",
        "        val_loss+=loss.item()\n",
        "    time2 = datetime.datetime.now()\n",
        "    print(\"\\nEpoch:%d, Training loss: %.2f, train acc: %.4f, val loss: %.2f, val acc: %.4f, time: %.2fs\" %(epoch+1, train_loss,train_acc, val_loss, val_acc, (time2-time1).total_seconds()))\n",
        "\n",
        "\n",
        "def decode_output(output_list):\n",
        "  ix_to_tag = {v:k for k,v in tag_to_ix.items()}\n",
        "  return [ix_to_tag[output] for output in output_list]\n",
        "\n",
        "y_true_decode = decode_output(y_true)\n",
        "y_pred_decode = decode_output(y_pred)\n",
        "\n",
        "result.append([\"Attention on Encoder and Decoder With Scaled Dot Product Without Domain Feature\",re.sub(r'( ){2,}',' ',classification_report(y_true_decode,y_pred_decode,digits=4).split(\"\\n\")[10]).strip().split(\" \")[1]])"
      ],
      "metadata": {
        "colab": {
          "base_uri": "https://localhost:8080/"
        },
        "id": "kjvW1ROtr_6x",
        "outputId": "3c930681-aef7-4707-ef19-0302e051eb9a"
      },
      "execution_count": null,
      "outputs": [
        {
          "output_type": "stream",
          "name": "stderr",
          "text": [
            "  0%|          | 0/26078 [00:00<?, ?it/s]/usr/local/lib/python3.7/dist-packages/ipykernel_launcher.py:112: UserWarning: Implicit dimension choice for log_softmax has been deprecated. Change the call to include dim=X as an argument.\n",
            "100%|██████████| 26078/26078 [12:55<00:00, 33.61it/s]\n",
            "100%|██████████| 8705/8705 [01:51<00:00, 77.84it/s]\n"
          ]
        },
        {
          "output_type": "stream",
          "name": "stdout",
          "text": [
            "\n",
            "Epoch:1, Training loss: 157926.91, train acc: 0.9830, val loss: 3922.20, val acc: 0.9808, time: 1089.04s\n"
          ]
        },
        {
          "output_type": "stream",
          "name": "stderr",
          "text": [
            "100%|██████████| 26078/26078 [12:32<00:00, 34.67it/s]\n",
            "100%|██████████| 8705/8705 [01:51<00:00, 77.86it/s] \n"
          ]
        },
        {
          "output_type": "stream",
          "name": "stdout",
          "text": [
            "\n",
            "Epoch:2, Training loss: 6787.79, train acc: 0.9957, val loss: 3198.75, val acc: 0.9928, time: 1064.80s\n"
          ]
        }
      ]
    },
    {
      "cell_type": "markdown",
      "source": [
        "### 5.3.3 Strategy: Attention on Decoder With Scaled Dot Product Without Domain Feature"
      ],
      "metadata": {
        "id": "3cUq9oJiYCHP"
      }
    },
    {
      "cell_type": "code",
      "source": [
        "'''\n",
        "Set up hyperparameter\n",
        "'''\n",
        "device = torch.device(\"cuda\" if torch.cuda.is_available() else \"cpu\")\n",
        "HIDDEN_DIM = 50\n",
        "\n",
        "model = BiLSTM_CRF(len(word_to_ix), tag_to_ix, 50, HIDDEN_DIM,embed_mode = 1,attn_type=0).to(device)\n",
        "optimizer = optim.SGD(model.parameters(), lr=0.01, weight_decay=1e-4)"
      ],
      "metadata": {
        "id": "18OUF9v6CLB-"
      },
      "execution_count": null,
      "outputs": []
    },
    {
      "cell_type": "code",
      "source": [
        "'''\n",
        "Start Training\n",
        "'''\n",
        "import datetime\n",
        "from tqdm import tqdm\n",
        "from sklearn.metrics import classification_report\n",
        "y_pred = None\n",
        "y_true = None\n",
        "\n",
        "for epoch in range(2):  \n",
        "    time1 = datetime.datetime.now()\n",
        "    train_loss = 0\n",
        "\n",
        "    model.train()\n",
        "    for i, idxs in tqdm(enumerate(train_input_index),total = len(train_input_index)):\n",
        "        tags_index = train_output_index[i]\n",
        "\n",
        "        # Step 1. Remember that Pytorch accumulates gradients.\n",
        "        # We need to clear them out before each instance\n",
        "        model.zero_grad()\n",
        "\n",
        "        # Step 2. Get our inputs ready for the network, that is,\n",
        "        # turn them into Tensors of word indices.\n",
        "        sentence_in = torch.tensor(idxs, dtype=torch.long).to(device)\n",
        "        targets = torch.tensor(tags_index, dtype=torch.long).to(device)\n",
        "\n",
        "        # Step 3. Run our forward pass.\n",
        "        loss = model.neg_log_likelihood(sentence_in, targets,(pp_training_data_sents)[i][0])\n",
        "\n",
        "        # Step 4. Compute the loss, gradients, and update the parameters by\n",
        "        # calling optimizer.step()\n",
        "        loss.backward()\n",
        "        optimizer.step()\n",
        "\n",
        "        train_loss+=loss.item()\n",
        "\n",
        "    model.eval()\n",
        "    # Call the cal_acc functions you implemented as required\n",
        "    _, _, train_acc = cal_acc(model,train_input_index,train_output_index,pp_training_data_sents)\n",
        "    y_pred,y_true, val_acc = cal_acc(model,val_input_index,val_output_index,pp_validation_data_sents)\n",
        "\n",
        "    val_loss = 0\n",
        "    for i, idxs in tqdm(enumerate(val_input_index),total = len(val_input_index)):\n",
        "        tags_index = val_output_index[i]\n",
        "        sentence_in = torch.tensor(idxs, dtype=torch.long).to(device)\n",
        "        targets = torch.tensor(tags_index, dtype=torch.long).to(device)\n",
        "        loss = model.neg_log_likelihood(sentence_in, targets,pp_validation_data_sents[i][0])\n",
        "        val_loss+=loss.item()\n",
        "    time2 = datetime.datetime.now()\n",
        "    print(\"\\nEpoch:%d, Training loss: %.2f, train acc: %.4f, val loss: %.2f, val acc: %.4f, time: %.2fs\" %(epoch+1, train_loss,train_acc, val_loss, val_acc, (time2-time1).total_seconds()))\n",
        "\n",
        "\n",
        "def decode_output(output_list):\n",
        "  ix_to_tag = {v:k for k,v in tag_to_ix.items()}\n",
        "  return [ix_to_tag[output] for output in output_list]\n",
        "\n",
        "y_true_decode = decode_output(y_true)\n",
        "y_pred_decode = decode_output(y_pred)\n",
        "\n",
        "result.append([\"Attention on Decoder With Scaled Dot Product without Domain Feature\",re.sub(r'( ){2,}',' ',classification_report(y_true_decode,y_pred_decode,digits=4).split(\"\\n\")[10]).strip().split(\" \")[1]])"
      ],
      "metadata": {
        "colab": {
          "base_uri": "https://localhost:8080/"
        },
        "id": "21Oj3EipCLU8",
        "outputId": "8d18ffd2-c6f7-46e5-e7a9-11621baecdda"
      },
      "execution_count": null,
      "outputs": [
        {
          "output_type": "stream",
          "name": "stderr",
          "text": [
            "100%|██████████| 26078/26078 [12:04<00:00, 36.00it/s]\n",
            "/usr/local/lib/python3.7/dist-packages/ipykernel_launcher.py:232: UserWarning: Implicit dimension choice for log_softmax has been deprecated. Change the call to include dim=X as an argument.\n",
            "100%|██████████| 8705/8705 [01:40<00:00, 86.23it/s] \n"
          ]
        },
        {
          "output_type": "stream",
          "name": "stdout",
          "text": [
            "\n",
            "Epoch:1, Training loss: 23032.97, train acc: 0.9935, val loss: 1516.38, val acc: 0.9914, time: 1025.79s\n"
          ]
        },
        {
          "output_type": "stream",
          "name": "stderr",
          "text": [
            "100%|██████████| 26078/26078 [15:09<00:00, 28.67it/s]\n",
            "100%|██████████| 8705/8705 [01:41<00:00, 85.96it/s] \n"
          ]
        },
        {
          "output_type": "stream",
          "name": "stdout",
          "text": [
            "\n",
            "Epoch:2, Training loss: 2026.90, train acc: 0.9991, val loss: 1077.73, val acc: 0.9951, time: 1211.96s\n"
          ]
        }
      ]
    },
    {
      "cell_type": "markdown",
      "source": [
        "### 5.3.4 Strategy: Attention on Decoder With Dot Product Without Domain Feature"
      ],
      "metadata": {
        "id": "Hdg390J1YbZ_"
      }
    },
    {
      "cell_type": "code",
      "source": [
        "'''\n",
        "Set up hyperparameter\n",
        "'''\n",
        "device = torch.device(\"cuda\" if torch.cuda.is_available() else \"cpu\")\n",
        "HIDDEN_DIM = 50\n",
        "\n",
        "model = BiLSTM_CRF(len(word_to_ix), tag_to_ix, 50, HIDDEN_DIM,embed_mode = 1,attn_type=1).to(device)\n",
        "optimizer = optim.SGD(model.parameters(), lr=0.01, weight_decay=1e-4)"
      ],
      "metadata": {
        "id": "sXEXzvKFYbNG"
      },
      "execution_count": null,
      "outputs": []
    },
    {
      "cell_type": "code",
      "source": [
        "'''\n",
        "Start Training\n",
        "'''\n",
        "import datetime\n",
        "from tqdm import tqdm\n",
        "from sklearn.metrics import classification_report\n",
        "y_pred = None\n",
        "y_true = None\n",
        "\n",
        "for epoch in range(2):  \n",
        "    time1 = datetime.datetime.now()\n",
        "    train_loss = 0\n",
        "\n",
        "    model.train()\n",
        "    for i, idxs in tqdm(enumerate(train_input_index),total = len(train_input_index)):\n",
        "        tags_index = train_output_index[i]\n",
        "\n",
        "        # Step 1. Remember that Pytorch accumulates gradients.\n",
        "        # We need to clear them out before each instance\n",
        "        model.zero_grad()\n",
        "\n",
        "        # Step 2. Get our inputs ready for the network, that is,\n",
        "        # turn them into Tensors of word indices.\n",
        "        sentence_in = torch.tensor(idxs, dtype=torch.long).to(device)\n",
        "        targets = torch.tensor(tags_index, dtype=torch.long).to(device)\n",
        "\n",
        "        # Step 3. Run our forward pass.\n",
        "        loss = model.neg_log_likelihood(sentence_in, targets,(pp_training_data_sents)[i][0])\n",
        "\n",
        "        # Step 4. Compute the loss, gradients, and update the parameters by\n",
        "        # calling optimizer.step()\n",
        "        loss.backward()\n",
        "        optimizer.step()\n",
        "\n",
        "        train_loss+=loss.item()\n",
        "\n",
        "    model.eval()\n",
        "    # Call the cal_acc functions you implemented as required\n",
        "    _, _, train_acc = cal_acc(model,train_input_index,train_output_index,pp_training_data_sents)\n",
        "    y_pred,y_true, val_acc = cal_acc(model,val_input_index,val_output_index,pp_validation_data_sents)\n",
        "\n",
        "    val_loss = 0\n",
        "    for i, idxs in tqdm(enumerate(val_input_index),total = len(val_input_index)):\n",
        "        tags_index = val_output_index[i]\n",
        "        sentence_in = torch.tensor(idxs, dtype=torch.long).to(device)\n",
        "        targets = torch.tensor(tags_index, dtype=torch.long).to(device)\n",
        "        loss = model.neg_log_likelihood(sentence_in, targets,pp_validation_data_sents[i][0])\n",
        "        val_loss+=loss.item()\n",
        "    time2 = datetime.datetime.now()\n",
        "    print(\"\\nEpoch:%d, Training loss: %.2f, train acc: %.4f, val loss: %.2f, val acc: %.4f, time: %.2fs\" %(epoch+1, train_loss,train_acc, val_loss, val_acc, (time2-time1).total_seconds()))\n",
        "\n",
        "\n",
        "def decode_output(output_list):\n",
        "  ix_to_tag = {v:k for k,v in tag_to_ix.items()}\n",
        "  return [ix_to_tag[output] for output in output_list]\n",
        "\n",
        "y_true_decode = decode_output(y_true)\n",
        "y_pred_decode = decode_output(y_pred)\n",
        "\n",
        "result.append([\"Attention on Decoder With Dot Product Without Domain Feature\",re.sub(r'( ){2,}',' ',classification_report(y_true_decode,y_pred_decode,digits=4).split(\"\\n\")[10]).strip().split(\" \")[1]])"
      ],
      "metadata": {
        "id": "fnJ838Cwsv_J",
        "colab": {
          "base_uri": "https://localhost:8080/"
        },
        "outputId": "765cdf59-5b8b-4e67-cdf1-03f6f33ca785"
      },
      "execution_count": null,
      "outputs": [
        {
          "output_type": "stream",
          "name": "stderr",
          "text": [
            "100%|██████████| 26078/26078 [11:28<00:00, 37.87it/s]\n",
            "/usr/local/lib/python3.7/dist-packages/ipykernel_launcher.py:232: UserWarning: Implicit dimension choice for log_softmax has been deprecated. Change the call to include dim=X as an argument.\n",
            "100%|██████████| 8705/8705 [01:42<00:00, 85.24it/s] \n"
          ]
        },
        {
          "output_type": "stream",
          "name": "stdout",
          "text": [
            "\n",
            "Epoch:1, Training loss: 23715.75, train acc: 0.9945, val loss: 1557.27, val acc: 0.9919, time: 981.14s\n"
          ]
        },
        {
          "output_type": "stream",
          "name": "stderr",
          "text": [
            "100%|██████████| 26078/26078 [11:33<00:00, 37.61it/s]\n",
            "100%|██████████| 8705/8705 [01:41<00:00, 86.13it/s] \n"
          ]
        },
        {
          "output_type": "stream",
          "name": "stdout",
          "text": [
            "\n",
            "Epoch:2, Training loss: 2195.84, train acc: 0.9987, val loss: 1125.07, val acc: 0.9949, time: 986.47s\n"
          ]
        }
      ]
    },
    {
      "cell_type": "markdown",
      "source": [
        "### 5.3.5 Strategy: Attention on Decoder With Cosine Without Domain Feature"
      ],
      "metadata": {
        "id": "0th5mdMIYi3n"
      }
    },
    {
      "cell_type": "code",
      "source": [
        "'''\n",
        "Set up hyperparameter\n",
        "'''\n",
        "device = torch.device(\"cuda\" if torch.cuda.is_available() else \"cpu\")\n",
        "HIDDEN_DIM = 50\n",
        "\n",
        "model = BiLSTM_CRF(len(word_to_ix), tag_to_ix, 50, HIDDEN_DIM,embed_mode = 1,attn_type=2).to(device)\n",
        "optimizer = optim.SGD(model.parameters(), lr=0.01, weight_decay=1e-4)"
      ],
      "metadata": {
        "id": "TAN2qFwOYii7"
      },
      "execution_count": null,
      "outputs": []
    },
    {
      "cell_type": "code",
      "source": [
        "'''\n",
        "Start Training\n",
        "'''\n",
        "import datetime\n",
        "from tqdm import tqdm\n",
        "from sklearn.metrics import classification_report\n",
        "y_pred = None\n",
        "y_true = None\n",
        "\n",
        "for epoch in range(2):  \n",
        "    time1 = datetime.datetime.now()\n",
        "    train_loss = 0\n",
        "\n",
        "    model.train()\n",
        "    for i, idxs in tqdm(enumerate(train_input_index),total = len(train_input_index)):\n",
        "        tags_index = train_output_index[i]\n",
        "\n",
        "        # Step 1. Remember that Pytorch accumulates gradients.\n",
        "        # We need to clear them out before each instance\n",
        "        model.zero_grad()\n",
        "\n",
        "        # Step 2. Get our inputs ready for the network, that is,\n",
        "        # turn them into Tensors of word indices.\n",
        "        sentence_in = torch.tensor(idxs, dtype=torch.long).to(device)\n",
        "        targets = torch.tensor(tags_index, dtype=torch.long).to(device)\n",
        "\n",
        "        # Step 3. Run our forward pass.\n",
        "        loss = model.neg_log_likelihood(sentence_in, targets,(pp_training_data_sents)[i][0])\n",
        "\n",
        "        # Step 4. Compute the loss, gradients, and update the parameters by\n",
        "        # calling optimizer.step()\n",
        "        loss.backward()\n",
        "        optimizer.step()\n",
        "\n",
        "        train_loss+=loss.item()\n",
        "\n",
        "    model.eval()\n",
        "    # Call the cal_acc functions you implemented as required\n",
        "    _, _, train_acc = cal_acc(model,train_input_index,train_output_index,pp_training_data_sents)\n",
        "    y_pred,y_true, val_acc = cal_acc(model,val_input_index,val_output_index,pp_validation_data_sents)\n",
        "\n",
        "    val_loss = 0\n",
        "    for i, idxs in tqdm(enumerate(val_input_index),total = len(val_input_index)):\n",
        "        tags_index = val_output_index[i]\n",
        "        sentence_in = torch.tensor(idxs, dtype=torch.long).to(device)\n",
        "        targets = torch.tensor(tags_index, dtype=torch.long).to(device)\n",
        "        loss = model.neg_log_likelihood(sentence_in, targets,pp_validation_data_sents[i][0])\n",
        "        val_loss+=loss.item()\n",
        "    time2 = datetime.datetime.now()\n",
        "    print(\"\\nEpoch:%d, Training loss: %.2f, train acc: %.4f, val loss: %.2f, val acc: %.4f, time: %.2fs\" %(epoch+1, train_loss,train_acc, val_loss, val_acc, (time2-time1).total_seconds()))\n",
        "\n",
        "\n",
        "def decode_output(output_list):\n",
        "  ix_to_tag = {v:k for k,v in tag_to_ix.items()}\n",
        "  return [ix_to_tag[output] for output in output_list]\n",
        "\n",
        "y_true_decode = decode_output(y_true)\n",
        "y_pred_decode = decode_output(y_pred)\n",
        "\n",
        "result.append([\"Attention on Decoder With Cosine Without Domain Feature\",re.sub(r'( ){2,}',' ',classification_report(y_true_decode,y_pred_decode,digits=4).split(\"\\n\")[10]).strip().split(\" \")[1]])"
      ],
      "metadata": {
        "id": "1x4dYC0itAYB",
        "colab": {
          "base_uri": "https://localhost:8080/"
        },
        "outputId": "cddf3f53-6759-42fd-a8e1-48c570221d22"
      },
      "execution_count": null,
      "outputs": [
        {
          "output_type": "stream",
          "name": "stderr",
          "text": [
            "100%|██████████| 26078/26078 [10:39<00:00, 40.81it/s]\n",
            "/usr/local/lib/python3.7/dist-packages/ipykernel_launcher.py:229: UserWarning: Implicit dimension choice for log_softmax has been deprecated. Change the call to include dim=X as an argument.\n",
            "100%|██████████| 8705/8705 [01:28<00:00, 98.33it/s] \n"
          ]
        },
        {
          "output_type": "stream",
          "name": "stdout",
          "text": [
            "\n",
            "Epoch:1, Training loss: 23691.58, train acc: 0.9934, val loss: 1564.40, val acc: 0.9911, time: 903.04s\n"
          ]
        },
        {
          "output_type": "stream",
          "name": "stderr",
          "text": [
            "100%|██████████| 26078/26078 [10:22<00:00, 41.89it/s]\n",
            "100%|██████████| 8705/8705 [01:30<00:00, 96.70it/s] \n"
          ]
        },
        {
          "output_type": "stream",
          "name": "stdout",
          "text": [
            "\n",
            "Epoch:2, Training loss: 2157.76, train acc: 0.9983, val loss: 1095.61, val acc: 0.9945, time: 888.15s\n"
          ]
        }
      ]
    },
    {
      "cell_type": "markdown",
      "source": [
        "### 5.3.6 Draw Table"
      ],
      "metadata": {
        "id": "DpYyBb05tFMD"
      }
    },
    {
      "cell_type": "code",
      "source": [
        "result=[[\"No Attention without Domain Feature\",\"0.9950\"],[\"No Attention With Domain Feature\",0.9961],[\" Attention on Encoder and Decoder With Scaled Dot Product Without Domain Feature\",0.9928],[\"Attention on Decoder With Scaled Dot Product without Domain Feature\",0.9951],[\"Attention on Decoder With Dot Product Without Domain Feature\",0.9949],[\"Attention on Decoder With Cosine Without Domain Feature\",0.9945]]\n",
        "import numpy as np\n",
        "import pandas as pd\n",
        "import matplotlib.pyplot as plt\n",
        "import re\n",
        "\n",
        "fig1,ax1 = plt.subplots(1,1,figsize = (5,1),dpi = 200)\n",
        "ax1.axis('off')\n",
        "table = ax1.table(np.array(result),colLabels=['Attention Places/Method','F1'],loc='best')\n",
        "table.set_fontsize(8)\n",
        "table.scale(2, 2)"
      ],
      "metadata": {
        "id": "Q1k0bHKNtEpL",
        "colab": {
          "base_uri": "https://localhost:8080/",
          "height": 526
        },
        "outputId": "243d4852-a49b-4b33-d3f5-49aa1b5cdd60"
      },
      "execution_count": null,
      "outputs": [
        {
          "output_type": "display_data",
          "data": {
            "text/plain": [
              "<Figure size 1000x200 with 1 Axes>"
            ],
            "image/png": "[encoded data removed]"
          },
          "metadata": {
            "needs_background": "light"
          }
        }
      ]
    },
    {
      "cell_type": "markdown",
      "source": [
        "##5.4 Ablation Study - different Stacked layer"
      ],
      "metadata": {
        "id": "Ft3wnHI7YpfH"
      }
    },
    {
      "cell_type": "markdown",
      "source": [
        "### 5.4.1 One Layer"
      ],
      "metadata": {
        "id": "8nuF-dVOYy9z"
      }
    },
    {
      "cell_type": "code",
      "source": [
        "'''\n",
        "This has been trainied and evaluated on the best model before.[Section 3]\n",
        "So the data is directly comes from Section3\n",
        "'''\n",
        "result = [[\"1 Layer\",0.9961]]"
      ],
      "metadata": {
        "id": "5j0COkeoYyso"
      },
      "execution_count": null,
      "outputs": []
    },
    {
      "cell_type": "markdown",
      "source": [
        "### 5.4.2 Three Layers"
      ],
      "metadata": {
        "id": "HTU3kAbRY5iE"
      }
    },
    {
      "cell_type": "code",
      "source": [
        "'''\n",
        "Set up hyperparameter\n",
        "'''\n",
        "device = torch.device(\"cuda\" if torch.cuda.is_available() else \"cpu\")\n",
        "HIDDEN_DIM = 50\n",
        "\n",
        "model = BiLSTM_CRF(len(word_to_ix), tag_to_ix, 55, HIDDEN_DIM,num_layers = 3).to(device)\n",
        "optimizer = optim.SGD(model.parameters(), lr=0.01, weight_decay=1e-4)"
      ],
      "metadata": {
        "id": "5OngAkVLY8BC"
      },
      "execution_count": null,
      "outputs": []
    },
    {
      "cell_type": "code",
      "source": [
        "'''\n",
        "Start Training\n",
        "'''\n",
        "import datetime\n",
        "from tqdm import tqdm\n",
        "from sklearn.metrics import classification_report\n",
        "y_pred = None\n",
        "y_true = None\n",
        "\n",
        "for epoch in range(2):  \n",
        "    time1 = datetime.datetime.now()\n",
        "    train_loss = 0\n",
        "\n",
        "    model.train()\n",
        "    for i, idxs in tqdm(enumerate(train_input_index),total = len(train_input_index)):\n",
        "        tags_index = train_output_index[i]\n",
        "\n",
        "        # Step 1. Remember that Pytorch accumulates gradients.\n",
        "        # We need to clear them out before each instance\n",
        "        model.zero_grad()\n",
        "\n",
        "        # Step 2. Get our inputs ready for the network, that is,\n",
        "        # turn them into Tensors of word indices.\n",
        "        sentence_in = torch.tensor(idxs, dtype=torch.long).to(device)\n",
        "        targets = torch.tensor(tags_index, dtype=torch.long).to(device)\n",
        "\n",
        "        # Step 3. Run our forward pass.\n",
        "        loss = model.neg_log_likelihood(sentence_in, targets,(pp_training_data_sents)[i][0])\n",
        "\n",
        "        # Step 4. Compute the loss, gradients, and update the parameters by\n",
        "        # calling optimizer.step()\n",
        "        loss.backward()\n",
        "        optimizer.step()\n",
        "\n",
        "        train_loss+=loss.item()\n",
        "\n",
        "    model.eval()\n",
        "    # Call the cal_acc functions you implemented as required\n",
        "    _, _, train_acc = cal_acc(model,train_input_index,train_output_index,pp_training_data_sents)\n",
        "    y_pred,y_true, val_acc = cal_acc(model,val_input_index,val_output_index,pp_validation_data_sents)\n",
        "\n",
        "    val_loss = 0\n",
        "    for i, idxs in tqdm(enumerate(val_input_index),total = len(val_input_index)):\n",
        "        tags_index = val_output_index[i]\n",
        "        sentence_in = torch.tensor(idxs, dtype=torch.long).to(device)\n",
        "        targets = torch.tensor(tags_index, dtype=torch.long).to(device)\n",
        "        loss = model.neg_log_likelihood(sentence_in, targets,pp_validation_data_sents[i][0])\n",
        "        val_loss+=loss.item()\n",
        "    time2 = datetime.datetime.now()\n",
        "    print(\"\\nEpoch:%d, Training loss: %.2f, train acc: %.4f, val loss: %.2f, val acc: %.4f, time: %.2fs\" %(epoch+1, train_loss,train_acc, val_loss, val_acc, (time2-time1).total_seconds()))\n",
        "\n",
        "\n",
        "def decode_output(output_list):\n",
        "  ix_to_tag = {v:k for k,v in tag_to_ix.items()}\n",
        "  return [ix_to_tag[output] for output in output_list]\n",
        "\n",
        "y_true_decode = decode_output(y_true)\n",
        "y_pred_decode = decode_output(y_pred)\n",
        "\n",
        "result.append([\"3 Layers\",re.sub(r'( ){2,}',' ',classification_report(y_true_decode,y_pred_decode,digits=4).split(\"\\n\")[10]).strip().split(\" \")[1]])"
      ],
      "metadata": {
        "colab": {
          "base_uri": "https://localhost:8080/"
        },
        "id": "c0j8FOBlyMTk",
        "outputId": "c831aa4e-3551-47ed-f738-7f38ee4cde18"
      },
      "execution_count": null,
      "outputs": [
        {
          "output_type": "stream",
          "name": "stderr",
          "text": [
            "100%|██████████| 26078/26078 [13:41<00:00, 31.76it/s]\n",
            "/usr/local/lib/python3.7/dist-packages/ipykernel_launcher.py:232: UserWarning: Implicit dimension choice for log_softmax has been deprecated. Change the call to include dim=X as an argument.\n",
            "100%|██████████| 8705/8705 [01:54<00:00, 76.03it/s]\n"
          ]
        },
        {
          "output_type": "stream",
          "name": "stdout",
          "text": [
            "\n",
            "Epoch:1, Training loss: 61425.47, train acc: 0.9915, val loss: 2478.55, val acc: 0.9882, time: 1175.89s\n"
          ]
        },
        {
          "output_type": "stream",
          "name": "stderr",
          "text": [
            "100%|██████████| 26078/26078 [13:36<00:00, 31.96it/s]\n",
            "100%|██████████| 8705/8705 [01:53<00:00, 76.55it/s] \n"
          ]
        },
        {
          "output_type": "stream",
          "name": "stdout",
          "text": [
            "\n",
            "Epoch:2, Training loss: 1074.41, train acc: 0.9997, val loss: 1965.76, val acc: 0.9959, time: 1166.71s\n"
          ]
        }
      ]
    },
    {
      "cell_type": "markdown",
      "source": [
        "### 5.4.3 Five Layers"
      ],
      "metadata": {
        "id": "wMGiBGoBCs_G"
      }
    },
    {
      "cell_type": "code",
      "source": [
        "'''\n",
        "Set up hyperparameter\n",
        "'''\n",
        "device = torch.device(\"cuda\" if torch.cuda.is_available() else \"cpu\")\n",
        "HIDDEN_DIM = 50\n",
        "\n",
        "model = BiLSTM_CRF(len(word_to_ix), tag_to_ix, 55, HIDDEN_DIM,num_layers = 5).to(device)\n",
        "optimizer = optim.SGD(model.parameters(), lr=0.01, weight_decay=1e-4)"
      ],
      "metadata": {
        "id": "A4R5z05JCsid"
      },
      "execution_count": null,
      "outputs": []
    },
    {
      "cell_type": "code",
      "source": [
        "'''\n",
        "Start Training\n",
        "'''\n",
        "import datetime\n",
        "from tqdm import tqdm\n",
        "from sklearn.metrics import classification_report\n",
        "y_pred = None\n",
        "y_true = None\n",
        "\n",
        "for epoch in range(2):  \n",
        "    time1 = datetime.datetime.now()\n",
        "    train_loss = 0\n",
        "\n",
        "    model.train()\n",
        "    for i, idxs in tqdm(enumerate(train_input_index),total = len(train_input_index)):\n",
        "        tags_index = train_output_index[i]\n",
        "\n",
        "        # Step 1. Remember that Pytorch accumulates gradients.\n",
        "        # We need to clear them out before each instance\n",
        "        model.zero_grad()\n",
        "\n",
        "        # Step 2. Get our inputs ready for the network, that is,\n",
        "        # turn them into Tensors of word indices.\n",
        "        sentence_in = torch.tensor(idxs, dtype=torch.long).to(device)\n",
        "        targets = torch.tensor(tags_index, dtype=torch.long).to(device)\n",
        "\n",
        "        # Step 3. Run our forward pass.\n",
        "        loss = model.neg_log_likelihood(sentence_in, targets,(pp_training_data_sents)[i][0])\n",
        "\n",
        "        # Step 4. Compute the loss, gradients, and update the parameters by\n",
        "        # calling optimizer.step()\n",
        "        loss.backward()\n",
        "        optimizer.step()\n",
        "\n",
        "        train_loss+=loss.item()\n",
        "\n",
        "    model.eval()\n",
        "    # Call the cal_acc functions you implemented as required\n",
        "    _, _, train_acc = cal_acc(model,train_input_index,train_output_index,pp_training_data_sents)\n",
        "    y_pred,y_true, val_acc = cal_acc(model,val_input_index,val_output_index,pp_validation_data_sents)\n",
        "\n",
        "    val_loss = 0\n",
        "    for i, idxs in tqdm(enumerate(val_input_index),total = len(val_input_index)):\n",
        "        tags_index = val_output_index[i]\n",
        "        sentence_in = torch.tensor(idxs, dtype=torch.long).to(device)\n",
        "        targets = torch.tensor(tags_index, dtype=torch.long).to(device)\n",
        "        loss = model.neg_log_likelihood(sentence_in, targets,pp_validation_data_sents[i][0])\n",
        "        val_loss+=loss.item()\n",
        "    time2 = datetime.datetime.now()\n",
        "    print(\"\\nEpoch:%d, Training loss: %.2f, train acc: %.4f, val loss: %.2f, val acc: %.4f, time: %.2fs\" %(epoch+1, train_loss,train_acc, val_loss, val_acc, (time2-time1).total_seconds()))\n",
        "\n",
        "\n",
        "def decode_output(output_list):\n",
        "  ix_to_tag = {v:k for k,v in tag_to_ix.items()}\n",
        "  return [ix_to_tag[output] for output in output_list]\n",
        "\n",
        "y_true_decode = decode_output(y_true)\n",
        "y_pred_decode = decode_output(y_pred)\n",
        "\n",
        "result.append([\"5 Layers\",re.sub(r'( ){2,}',' ',classification_report(y_true_decode,y_pred_decode,digits=4).split(\"\\n\")[10]).strip().split(\" \")[1]])"
      ],
      "metadata": {
        "colab": {
          "base_uri": "https://localhost:8080/"
        },
        "id": "NSmWmwxMC0Fy",
        "outputId": "41135cd5-32ab-47a7-f1a5-a7f97e141972"
      },
      "execution_count": null,
      "outputs": [
        {
          "output_type": "stream",
          "name": "stderr",
          "text": [
            "100%|██████████| 26078/26078 [09:46<00:00, 44.44it/s]\n",
            "/usr/local/lib/python3.7/dist-packages/ipykernel_launcher.py:232: UserWarning: Implicit dimension choice for log_softmax has been deprecated. Change the call to include dim=X as an argument.\n",
            "100%|██████████| 8705/8705 [01:05<00:00, 132.22it/s]\n"
          ]
        },
        {
          "output_type": "stream",
          "name": "stdout",
          "text": [
            "\n",
            "Epoch:1, Training loss: 127792.23, train acc: 0.5704, val loss: 42153.34, val acc: 0.5692, time: 828.59s\n"
          ]
        },
        {
          "output_type": "stream",
          "name": "stderr",
          "text": [
            "100%|██████████| 26078/26078 [09:11<00:00, 47.30it/s]\n",
            "100%|██████████| 8705/8705 [01:05<00:00, 132.63it/s]\n",
            "/usr/local/lib/python3.7/dist-packages/sklearn/metrics/_classification.py:1318: UndefinedMetricWarning: Precision and F-score are ill-defined and being set to 0.0 in labels with no predicted samples. Use `zero_division` parameter to control this behavior.\n",
            "  _warn_prf(average, modifier, msg_start, len(result))\n"
          ]
        },
        {
          "output_type": "stream",
          "name": "stdout",
          "text": [
            "\n",
            "Epoch:2, Training loss: 125633.48, train acc: 0.5704, val loss: 41986.98, val acc: 0.5692, time: 789.99s\n"
          ]
        },
        {
          "output_type": "stream",
          "name": "stderr",
          "text": [
            "/usr/local/lib/python3.7/dist-packages/sklearn/metrics/_classification.py:1318: UndefinedMetricWarning: Precision and F-score are ill-defined and being set to 0.0 in labels with no predicted samples. Use `zero_division` parameter to control this behavior.\n",
            "  _warn_prf(average, modifier, msg_start, len(result))\n",
            "/usr/local/lib/python3.7/dist-packages/sklearn/metrics/_classification.py:1318: UndefinedMetricWarning: Precision and F-score are ill-defined and being set to 0.0 in labels with no predicted samples. Use `zero_division` parameter to control this behavior.\n",
            "  _warn_prf(average, modifier, msg_start, len(result))\n"
          ]
        }
      ]
    },
    {
      "cell_type": "markdown",
      "source": [
        "### 5.4.3 Ten Layers"
      ],
      "metadata": {
        "id": "jVqj2lxwY8kP"
      }
    },
    {
      "cell_type": "code",
      "source": [
        "'''\n",
        "Set up hyperparameter\n",
        "'''\n",
        "device = torch.device(\"cuda\" if torch.cuda.is_available() else \"cpu\")\n",
        "HIDDEN_DIM = 50\n",
        "\n",
        "model = BiLSTM_CRF(len(word_to_ix), tag_to_ix, 55, HIDDEN_DIM,num_layers = 10).to(device)\n",
        "optimizer = optim.SGD(model.parameters(), lr=0.01, weight_decay=1e-4)"
      ],
      "metadata": {
        "id": "xzX1iw-HY8yH"
      },
      "execution_count": null,
      "outputs": []
    },
    {
      "cell_type": "code",
      "source": [
        "'''\n",
        "Start Training\n",
        "'''\n",
        "import datetime\n",
        "from tqdm import tqdm\n",
        "from sklearn.metrics import classification_report\n",
        "y_pred = None\n",
        "y_true = None\n",
        "\n",
        "for epoch in range(2):  \n",
        "    time1 = datetime.datetime.now()\n",
        "    train_loss = 0\n",
        "\n",
        "    model.train()\n",
        "    for i, idxs in tqdm(enumerate(train_input_index),total = len(train_input_index)):\n",
        "        tags_index = train_output_index[i]\n",
        "\n",
        "        # Step 1. Remember that Pytorch accumulates gradients.\n",
        "        # We need to clear them out before each instance\n",
        "        model.zero_grad()\n",
        "\n",
        "        # Step 2. Get our inputs ready for the network, that is,\n",
        "        # turn them into Tensors of word indices.\n",
        "        sentence_in = torch.tensor(idxs, dtype=torch.long).to(device)\n",
        "        targets = torch.tensor(tags_index, dtype=torch.long).to(device)\n",
        "\n",
        "        # Step 3. Run our forward pass.\n",
        "        loss = model.neg_log_likelihood(sentence_in, targets,(pp_training_data_sents)[i][0])\n",
        "\n",
        "        # Step 4. Compute the loss, gradients, and update the parameters by\n",
        "        # calling optimizer.step()\n",
        "        loss.backward()\n",
        "        optimizer.step()\n",
        "\n",
        "        train_loss+=loss.item()\n",
        "\n",
        "    model.eval()\n",
        "    # Call the cal_acc functions you implemented as required\n",
        "    _, _, train_acc = cal_acc(model,train_input_index,train_output_index,pp_training_data_sents)\n",
        "    y_pred,y_true, val_acc = cal_acc(model,val_input_index,val_output_index,pp_validation_data_sents)\n",
        "\n",
        "    val_loss = 0\n",
        "    for i, idxs in tqdm(enumerate(val_input_index),total = len(val_input_index)):\n",
        "        tags_index = val_output_index[i]\n",
        "        sentence_in = torch.tensor(idxs, dtype=torch.long).to(device)\n",
        "        targets = torch.tensor(tags_index, dtype=torch.long).to(device)\n",
        "        loss = model.neg_log_likelihood(sentence_in, targets,pp_validation_data_sents[i][0])\n",
        "        val_loss+=loss.item()\n",
        "    time2 = datetime.datetime.now()\n",
        "    print(\"\\nEpoch:%d, Training loss: %.2f, train acc: %.4f, val loss: %.2f, val acc: %.4f, time: %.2fs\" %(epoch+1, train_loss,train_acc, val_loss, val_acc, (time2-time1).total_seconds()))\n",
        "\n",
        "\n",
        "def decode_output(output_list):\n",
        "  ix_to_tag = {v:k for k,v in tag_to_ix.items()}\n",
        "  return [ix_to_tag[output] for output in output_list]\n",
        "\n",
        "y_true_decode = decode_output(y_true)\n",
        "y_pred_decode = decode_output(y_pred)\n",
        "\n",
        "result.append([\"10 Layers\",re.sub(r'( ){2,}',' ',classification_report(y_true_decode,y_pred_decode,digits=4).split(\"\\n\")[10]).strip().split(\" \")[1]])"
      ],
      "metadata": {
        "colab": {
          "base_uri": "https://localhost:8080/"
        },
        "id": "VIc4NuN-2rxN",
        "outputId": "21e0bebe-aaab-4474-c6db-842f55a59a99"
      },
      "execution_count": null,
      "outputs": [
        {
          "output_type": "stream",
          "name": "stderr",
          "text": [
            "100%|██████████| 26078/26078 [13:10<00:00, 32.97it/s]\n",
            "/usr/local/lib/python3.7/dist-packages/ipykernel_launcher.py:232: UserWarning: Implicit dimension choice for log_softmax has been deprecated. Change the call to include dim=X as an argument.\n",
            "100%|██████████| 8705/8705 [01:33<00:00, 92.90it/s] \n"
          ]
        },
        {
          "output_type": "stream",
          "name": "stdout",
          "text": [
            "\n",
            "Epoch:1, Training loss: 127820.73, train acc: 0.5704, val loss: 42050.60, val acc: 0.5692, time: 1159.07s\n"
          ]
        },
        {
          "output_type": "stream",
          "name": "stderr",
          "text": [
            "100%|██████████| 26078/26078 [12:49<00:00, 33.90it/s]\n",
            "100%|██████████| 8705/8705 [01:32<00:00, 94.57it/s] \n",
            "/usr/local/lib/python3.7/dist-packages/sklearn/metrics/_classification.py:1318: UndefinedMetricWarning: Precision and F-score are ill-defined and being set to 0.0 in labels with no predicted samples. Use `zero_division` parameter to control this behavior.\n",
            "  _warn_prf(average, modifier, msg_start, len(result))\n"
          ]
        },
        {
          "output_type": "stream",
          "name": "stdout",
          "text": [
            "\n",
            "Epoch:2, Training loss: 125597.99, train acc: 0.5704, val loss: 41995.03, val acc: 0.5692, time: 1131.57s\n"
          ]
        },
        {
          "output_type": "stream",
          "name": "stderr",
          "text": [
            "/usr/local/lib/python3.7/dist-packages/sklearn/metrics/_classification.py:1318: UndefinedMetricWarning: Precision and F-score are ill-defined and being set to 0.0 in labels with no predicted samples. Use `zero_division` parameter to control this behavior.\n",
            "  _warn_prf(average, modifier, msg_start, len(result))\n",
            "/usr/local/lib/python3.7/dist-packages/sklearn/metrics/_classification.py:1318: UndefinedMetricWarning: Precision and F-score are ill-defined and being set to 0.0 in labels with no predicted samples. Use `zero_division` parameter to control this behavior.\n",
            "  _warn_prf(average, modifier, msg_start, len(result))\n"
          ]
        }
      ]
    },
    {
      "cell_type": "markdown",
      "source": [
        "### 5.4.4 Draw Table"
      ],
      "metadata": {
        "id": "Vv5Ds78U2xfn"
      }
    },
    {
      "cell_type": "code",
      "source": [
        "import numpy as np\n",
        "import pandas as pd\n",
        "import matplotlib.pyplot as plt\n",
        "import re\n",
        "\n",
        "fig1,ax1 = plt.subplots(1,1,figsize = (2,1),dpi = 200)\n",
        "ax1.axis('off')\n",
        "table = ax1.table(np.array(result),colLabels=['# Model Layer(s)','F1'],loc='best')"
      ],
      "metadata": {
        "colab": {
          "base_uri": "https://localhost:8080/",
          "height": 226
        },
        "id": "-Q_f0kC4203S",
        "outputId": "ff883d46-f524-4aad-d51d-0bb12a311285"
      },
      "execution_count": null,
      "outputs": [
        {
          "output_type": "display_data",
          "data": {
            "text/plain": [
              "<Figure size 400x200 with 1 Axes>"
            ],
            "image/png": "[encoded data removed]"
          },
          "metadata": {
            "needs_background": "light"
          }
        }
      ]
    },
    {
      "cell_type": "markdown",
      "source": [
        "## 5.5 Ablation Study - with/without CRF"
      ],
      "metadata": {
        "id": "As1eUSeqZF2G"
      }
    },
    {
      "cell_type": "markdown",
      "source": [
        "###5.5.1 With CRF"
      ],
      "metadata": {
        "id": "0DoYvKreqpNN"
      }
    },
    {
      "cell_type": "code",
      "source": [
        "'''\n",
        "This has been trainied and evaluated on the best model before.[Section 3]\n",
        "So the data is directly comes from Section3\n",
        "'''\n",
        "result = [[\"With CRF\",0.9961]]"
      ],
      "metadata": {
        "id": "Zi2Pu4LSZMVn"
      },
      "execution_count": null,
      "outputs": []
    },
    {
      "cell_type": "markdown",
      "source": [
        "### 5.5.2 Without CRF"
      ],
      "metadata": {
        "id": "WDD-He74ZMjs"
      }
    },
    {
      "cell_type": "code",
      "source": [
        "'''\n",
        "Set up hyperparameter\n",
        "'''\n",
        "device = torch.device(\"cuda\" if torch.cuda.is_available() else \"cpu\")\n",
        "HIDDEN_DIM = 50\n",
        "\n",
        "model = BiLSTM_CRF(len(word_to_ix), tag_to_ix, 55, HIDDEN_DIM,with_crf= False).to(device)\n",
        "optimizer = optim.SGD(model.parameters(), lr=0.01, weight_decay=1e-4)"
      ],
      "metadata": {
        "id": "eP6zlSsmG9u2"
      },
      "execution_count": null,
      "outputs": []
    },
    {
      "cell_type": "code",
      "source": [
        "'''\n",
        "Start Training\n",
        "'''\n",
        "import datetime\n",
        "from tqdm import tqdm\n",
        "from sklearn.metrics import classification_report\n",
        "y_pred = None\n",
        "y_true = None\n",
        "\n",
        "for epoch in range(2):  \n",
        "    time1 = datetime.datetime.now()\n",
        "    train_loss = 0\n",
        "\n",
        "    model.train()\n",
        "    for i, idxs in tqdm(enumerate(train_input_index),total = len(train_input_index)):\n",
        "        tags_index = train_output_index[i]\n",
        "\n",
        "        # Step 1. Remember that Pytorch accumulates gradients.\n",
        "        # We need to clear them out before each instance\n",
        "        model.zero_grad()\n",
        "\n",
        "        # Step 2. Get our inputs ready for the network, that is,\n",
        "        # turn them into Tensors of word indices.\n",
        "        sentence_in = torch.tensor(idxs, dtype=torch.long).to(device)\n",
        "        targets = torch.tensor(tags_index, dtype=torch.long).to(device)\n",
        "\n",
        "        # Step 3. Run our forward pass.\n",
        "        loss = model.neg_log_likelihood(sentence_in, targets,(pp_training_data_sents)[i][0])\n",
        "\n",
        "        # Step 4. Compute the loss, gradients, and update the parameters by\n",
        "        # calling optimizer.step()\n",
        "        loss.backward()\n",
        "        optimizer.step()\n",
        "\n",
        "        train_loss+=loss.item()\n",
        "\n",
        "    model.eval()\n",
        "    # Call the cal_acc functions you implemented as required\n",
        "    _, _, train_acc = cal_acc(model,train_input_index,train_output_index,pp_training_data_sents)\n",
        "    y_pred,y_true, val_acc = cal_acc(model,val_input_index,val_output_index,pp_validation_data_sents)\n",
        "\n",
        "    val_loss = 0\n",
        "    for i, idxs in tqdm(enumerate(val_input_index),total = len(val_input_index)):\n",
        "        tags_index = val_output_index[i]\n",
        "        sentence_in = torch.tensor(idxs, dtype=torch.long).to(device)\n",
        "        targets = torch.tensor(tags_index, dtype=torch.long).to(device)\n",
        "        loss = model.neg_log_likelihood(sentence_in, targets,pp_validation_data_sents[i][0])\n",
        "        val_loss+=loss.item()\n",
        "    time2 = datetime.datetime.now()\n",
        "    print(\"\\nEpoch:%d, Training loss: %.2f, train acc: %.4f, val loss: %.2f, val acc: %.4f, time: %.2fs\" %(epoch+1, train_loss,train_acc, val_loss, val_acc, (time2-time1).total_seconds()))\n",
        "\n",
        "\n",
        "def decode_output(output_list):\n",
        "  ix_to_tag = {v:k for k,v in tag_to_ix.items()}\n",
        "  return [ix_to_tag[output] for output in output_list]\n",
        "\n",
        "y_true_decode = decode_output(y_true)\n",
        "y_pred_decode = decode_output(y_pred)\n",
        "\n",
        "result.append([\"Without CRF\",re.sub(r'( ){2,}',' ',classification_report(y_true_decode,y_pred_decode,digits=4).split(\"\\n\")[10]).strip().split(\" \")[1]])"
      ],
      "metadata": {
        "id": "LsBjup1mbHjy",
        "colab": {
          "base_uri": "https://localhost:8080/"
        },
        "outputId": "1c9b8709-a46a-4d6f-d714-77cb9d2321a9"
      },
      "execution_count": null,
      "outputs": [
        {
          "output_type": "stream",
          "name": "stderr",
          "text": [
            "100%|██████████| 26078/26078 [02:26<00:00, 177.51it/s]\n",
            "/usr/local/lib/python3.7/dist-packages/ipykernel_launcher.py:232: UserWarning: Implicit dimension choice for log_softmax has been deprecated. Change the call to include dim=X as an argument.\n",
            "100%|██████████| 8705/8705 [00:16<00:00, 543.99it/s]\n"
          ]
        },
        {
          "output_type": "stream",
          "name": "stdout",
          "text": [
            "\n",
            "Epoch:1, Training loss: -313020768.29, train acc: 0.5704, val loss: -186859971.00, val acc: 0.5693, time: 302.47s\n"
          ]
        },
        {
          "output_type": "stream",
          "name": "stderr",
          "text": [
            "100%|██████████| 26078/26078 [01:56<00:00, 224.50it/s]\n",
            "100%|██████████| 8705/8705 [00:16<00:00, 533.04it/s]\n",
            "/usr/local/lib/python3.7/dist-packages/sklearn/metrics/_classification.py:1318: UndefinedMetricWarning: Precision and F-score are ill-defined and being set to 0.0 in labels with no predicted samples. Use `zero_division` parameter to control this behavior.\n",
            "  _warn_prf(average, modifier, msg_start, len(result))\n",
            "/usr/local/lib/python3.7/dist-packages/sklearn/metrics/_classification.py:1318: UndefinedMetricWarning: Precision and F-score are ill-defined and being set to 0.0 in labels with no predicted samples. Use `zero_division` parameter to control this behavior.\n",
            "  _warn_prf(average, modifier, msg_start, len(result))\n"
          ]
        },
        {
          "output_type": "stream",
          "name": "stdout",
          "text": [
            "\n",
            "Epoch:2, Training loss: -711675617.91, train acc: 0.5706, val loss: -299258589.04, val acc: 0.5697, time: 262.91s\n",
            "              precision    recall  f1-score   support\n",
            "\n",
            "           C     0.0000    0.0000    0.0000      1641\n",
            "           D     0.0000    0.0000    0.0000       398\n",
            "           O     0.5700    0.9991    0.7258     18985\n",
            "           P     0.0000    0.0000    0.0000      3936\n",
            "           S     0.4416    0.0102    0.0200      3322\n",
            "        SEPA     0.0000    0.0000    0.0000      3603\n",
            "           T     0.0000    0.0000    0.0000      1469\n",
            "\n",
            "    accuracy                         0.5697     33354\n",
            "   macro avg     0.1445    0.1442    0.1065     33354\n",
            "weighted avg     0.3684    0.5697    0.4151     33354\n",
            "\n"
          ]
        },
        {
          "output_type": "stream",
          "name": "stderr",
          "text": [
            "/usr/local/lib/python3.7/dist-packages/sklearn/metrics/_classification.py:1318: UndefinedMetricWarning: Precision and F-score are ill-defined and being set to 0.0 in labels with no predicted samples. Use `zero_division` parameter to control this behavior.\n",
            "  _warn_prf(average, modifier, msg_start, len(result))\n"
          ]
        }
      ]
    },
    {
      "cell_type": "markdown",
      "source": [
        "### Draw Table"
      ],
      "metadata": {
        "id": "ocv-4u2MbTh1"
      }
    },
    {
      "cell_type": "code",
      "source": [
        "import numpy as np\n",
        "import pandas as pd\n",
        "import matplotlib.pyplot as plt\n",
        "import re\n",
        "\n",
        "fig1,ax1 = plt.subplots(1,1,figsize = (2,1),dpi = 200)\n",
        "ax1.axis('off')\n",
        "table = ax1.table(np.array(result),colLabels=['Model','F1'],loc='best')\n"
      ],
      "metadata": {
        "id": "Ln7AjvbfbTsC",
        "colab": {
          "base_uri": "https://localhost:8080/",
          "height": 208
        },
        "outputId": "4cb3ba64-07b5-4e4b-8bdf-15916d3340d6"
      },
      "execution_count": null,
      "outputs": [
        {
          "output_type": "display_data",
          "data": {
            "text/plain": [
              "<Figure size 400x200 with 1 Axes>"
            ],
            "image/png": "[encoded data removed]"
          },
          "metadata": {
            "needs_background": "light"
          }
        }
      ]
    }
  ]
}